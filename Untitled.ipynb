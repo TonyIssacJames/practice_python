{
 "cells": [
  {
   "cell_type": "markdown",
   "metadata": {},
   "source": []
  },
  {
   "cell_type": "code",
   "execution_count": 9,
   "metadata": {},
   "outputs": [
    {
     "name": "stdout",
     "output_type": "stream",
     "text": [
      "brian-23@hackerrank.com\n",
      "mo brian-23@hackerrank.com\n",
      "britts_54@hackerrank.com\n",
      "mo britts_54@hackerrank.com\n",
      "lara@hackerrank.com\n",
      "mo lara@hackerrank.com\n",
      "britts_54@hackerrank.co\n",
      "mo britts_54@hackerrank.co\n",
      "britts.54@hackerrank.co\n",
      "mo 54@hackerrank.co\n",
      "xxxx\n",
      "['brian-23@hackerrank.com', 'britts_54@hackerrank.co', 'britts_54@hackerrank.com', 'lara@hackerrank.com']\n"
     ]
    }
   ],
   "source": [
    "import re\n",
    "\n",
    "def fun(s):\n",
    "    print(s)\n",
    "    # return True if s is a valid email, else return False\n",
    "    regEx =  re.compile(r'[\\w-]+@[a-zA-Z\\d]+\\.\\w{1,3}')\n",
    "    mo = regEx.search(s)\n",
    "\n",
    "    if mo is not None:\n",
    "        print(\"mo\", mo.group())\n",
    "        if mo.group() == s:\n",
    "            return True\n",
    "        else:\n",
    "            return False\n",
    "    else:\n",
    "        return False\n",
    "    \n",
    "\n",
    "def filter_mail(emails):\n",
    "    return list(filter(fun, emails))\n",
    "\n",
    "if __name__ == '__main__':\n",
    "    #n = int(input())\n",
    "    emails = ['brian-23@hackerrank.com',\n",
    "              'britts_54@hackerrank.com',\n",
    "              'lara@hackerrank.com',\n",
    "              'britts_54@hackerrank.co',\n",
    "              'britts.54@hackerrank.co',\n",
    "              'xxxx'\n",
    "              ]\n",
    "    #for _ in range(n):\n",
    "    #    emails.append(input())\n",
    "\n",
    "filtered_emails = filter_mail(emails)\n",
    "filtered_emails.sort()\n",
    "print(filtered_emails)"
   ]
  },
  {
   "cell_type": "code",
   "execution_count": 42,
   "metadata": {},
   "outputs": [
    {
     "ename": "SyntaxError",
     "evalue": "invalid syntax (<ipython-input-42-902e65ba51df>, line 12)",
     "output_type": "error",
     "traceback": [
      "\u001b[0;36m  File \u001b[0;32m\"<ipython-input-42-902e65ba51df>\"\u001b[0;36m, line \u001b[0;32m12\u001b[0m\n\u001b[0;31m    convert_2_fraction(t):\u001b[0m\n\u001b[0m                         ^\u001b[0m\n\u001b[0;31mSyntaxError\u001b[0m\u001b[0;31m:\u001b[0m invalid syntax\n"
     ]
    }
   ],
   "source": [
    "from fractions import Fraction\n",
    "from functools import reduce\n",
    "\n",
    "set1 = [ 2,  4,  6 , 12 , 4, 8]\n",
    "\n",
    "def sum(x, y):\n",
    "    return x + y\n",
    "\n",
    "def mulfrac(frac1, frac2):\n",
    "    frac\n",
    "\n",
    "convert_2_fraction(t):\n",
    "    \n",
    "\n",
    "#result = reduce(lambda x, y: x + y, set1)\n",
    "result = reduce(sum, set1)\n",
    "print(result)\n",
    "\n",
    "print(set1[1::2])\n",
    "print(set1[0::2])\n",
    "\n",
    "result = reduce(lambda x, y: x * y,\n",
    "               map(Fraction,zip(set1[0::2], set1[1::2]))\n",
    "               )\n",
    "                \n",
    "print(result)\n",
    "\n",
    "for _ in zip(set1[0::2], set1[1::2]):\n",
    "    print(_)\n",
    "    print(_[0],_[1])"
   ]
  },
  {
   "cell_type": "code",
   "execution_count": 23,
   "metadata": {},
   "outputs": [],
   "source": [
    " #dir(list)"
   ]
  },
  {
   "cell_type": "code",
   "execution_count": 32,
   "metadata": {},
   "outputs": [],
   "source": [
    "from fractions import Fraction\n",
    "from functools import reduce"
   ]
  },
  {
   "cell_type": "code",
   "execution_count": 36,
   "metadata": {},
   "outputs": [
    {
     "name": "stdout",
     "output_type": "stream",
     "text": [
      "1/2\n",
      "<class 'fractions.Fraction'>\n",
      "1/4\n"
     ]
    }
   ],
   "source": [
    "print(Fraction(4,8))\n",
    "frac = Fraction(4, 8)*Fraction(4, 8)\n",
    "\n",
    "print(type(frac))\n",
    "print(frac)"
   ]
  },
  {
   "cell_type": "code",
   "execution_count": 44,
   "metadata": {},
   "outputs": [
    {
     "name": "stdout",
     "output_type": "stream",
     "text": [
      "1/2\n",
      "<class 'fractions.Fraction'>\n",
      "1/5\n"
     ]
    }
   ],
   "source": [
    "print(Fraction(4,8))\n",
    "frac = Fraction(1, 3)*Fraction(3, 5)\n",
    "\n",
    "print(type(frac))\n",
    "print(frac)\n",
    "#dir(frac)"
   ]
  },
  {
   "cell_type": "code",
   "execution_count": null,
   "metadata": {},
   "outputs": [],
   "source": [
    "from fractions import Fraction\n",
    "from functools import reduce\n",
    "\n",
    "def product(fracs):\n",
    "    t = Fraction(1, 1)# complete this line with a reduce statement\n",
    "    return t.numerator, t.denominator\n",
    "\n",
    "if __name__ == '__main__':\n",
    "    fracs = []\n",
    "    for _ in range(int(input())):\n",
    "        fracs.append(Fraction(*map(int, input().split())))\n",
    "    print(fracs)\n",
    "    result = product(fracs)\n",
    "    print(*result)"
   ]
  },
  {
   "cell_type": "code",
   "execution_count": 39,
   "metadata": {},
   "outputs": [
    {
     "ename": "TypeError",
     "evalue": "'int' object is not iterable",
     "output_type": "error",
     "traceback": [
      "\u001b[0;31m---------------------------------------------------------------------------\u001b[0m",
      "\u001b[0;31mTypeError\u001b[0m                                 Traceback (most recent call last)",
      "\u001b[0;32m<ipython-input-39-3ed77e634c76>\u001b[0m in \u001b[0;36m<module>\u001b[0;34m\u001b[0m\n\u001b[1;32m      1\u001b[0m \u001b[0mset1\u001b[0m \u001b[0;34m=\u001b[0m \u001b[0;34m[\u001b[0m \u001b[0;36m2\u001b[0m\u001b[0;34m,\u001b[0m  \u001b[0;36m4\u001b[0m\u001b[0;34m,\u001b[0m  \u001b[0;36m6\u001b[0m \u001b[0;34m,\u001b[0m \u001b[0;36m12\u001b[0m \u001b[0;34m,\u001b[0m \u001b[0;36m4\u001b[0m\u001b[0;34m,\u001b[0m \u001b[0;36m8\u001b[0m\u001b[0;34m]\u001b[0m\u001b[0;34m\u001b[0m\u001b[0m\n\u001b[1;32m      2\u001b[0m \u001b[0;34m\u001b[0m\u001b[0m\n\u001b[0;32m----> 3\u001b[0;31m \u001b[0;32mfor\u001b[0m \u001b[0mn1\u001b[0m\u001b[0;34m,\u001b[0m  \u001b[0mn2\u001b[0m \u001b[0;32min\u001b[0m \u001b[0mset1\u001b[0m\u001b[0;34m:\u001b[0m\u001b[0;34m\u001b[0m\u001b[0m\n\u001b[0m\u001b[1;32m      4\u001b[0m     \u001b[0mprint\u001b[0m\u001b[0;34m(\u001b[0m\u001b[0mn1\u001b[0m\u001b[0;34m,\u001b[0m \u001b[0mn2\u001b[0m\u001b[0;34m)\u001b[0m\u001b[0;34m\u001b[0m\u001b[0m\n",
      "\u001b[0;31mTypeError\u001b[0m: 'int' object is not iterable"
     ]
    }
   ],
   "source": [
    "set1 = [ 2,  4,  6 , 12 , 4, 8]\n",
    "\n",
    "for n1,  n2 in set1:\n",
    "    print(n1, n2)"
   ]
  },
  {
   "cell_type": "code",
   "execution_count": null,
   "metadata": {},
   "outputs": [],
   "source": []
  }
 ],
 "metadata": {
  "kernelspec": {
   "display_name": "Python 3",
   "language": "python",
   "name": "python3"
  },
  "language_info": {
   "codemirror_mode": {
    "name": "ipython",
    "version": 3
   },
   "file_extension": ".py",
   "mimetype": "text/x-python",
   "name": "python",
   "nbconvert_exporter": "python",
   "pygments_lexer": "ipython3",
   "version": "3.5.2"
  }
 },
 "nbformat": 4,
 "nbformat_minor": 2
}
