{
 "cells": [
  {
   "cell_type": "markdown",
   "metadata": {},
   "source": [
    "## Hacker Rank staring from problem 49,"
   ]
  },
  {
   "cell_type": "code",
   "execution_count": 3,
   "metadata": {},
   "outputs": [
    {
     "name": "stdout",
     "output_type": "stream",
     "text": [
      "ABCD\n",
      "EFGH\n",
      "IJKL\n",
      "IMNO\n",
      "QRST\n",
      "UVWX\n",
      "YZ\n",
      "\n"
     ]
    }
   ],
   "source": [
    "string= 'ABCDEFGHIJKLIMNOQRSTUVWXYZ'\n",
    "max_width = 4\n",
    "\n",
    "#import textwrap\n",
    "\n",
    "def wrap(string, max_width):\n",
    "    para = [string[i: min(i+max_width, len(string))]\n",
    "            for i in range(0, len(string), max_width)]\n",
    "\n",
    "    para1 = ''.join(map(lambda s: str(s) + '\\n', para))\n",
    "    return para1\n",
    "\n",
    "if __name__ == '__main__':\n",
    "    #string, max_width = input(), int(input())\n",
    "    result = wrap(string, max_width)\n",
    "    print(result)\n"
   ]
  },
  {
   "cell_type": "code",
   "execution_count": 5,
   "metadata": {},
   "outputs": [
    {
     "name": "stdout",
     "output_type": "stream",
     "text": [
      "3 9\n"
     ]
    }
   ],
   "source": [
    "s = '3 9'\n",
    "\n",
    "w, l = map(int, s.split())\n",
    "\n",
    "print(w, l)"
   ]
  },
  {
   "cell_type": "code",
   "execution_count": null,
   "metadata": {},
   "outputs": [],
   "source": [
    "def doorMat(width, height):\n",
    "    \n",
    "    pass\n",
    "\n",
    "height, width = map(int, input().split())\n",
    "\n",
    "\n",
    "print(doorMat())"
   ]
  },
  {
   "cell_type": "markdown",
   "metadata": {},
   "source": [
    "Given an integer, , print the following values for each integer from to\n",
    "\n",
    ":\n",
    "\n",
    "    Decimal\n",
    "    Octal\n",
    "    Hexadecimal (capitalized)\n",
    "    Binary\n",
    "\n",
    "The four values must be printed on a single line in the order specified above for each\n",
    "from to . Each value should be space-padded to match the width of the binary value of ."
   ]
  },
  {
   "cell_type": "code",
   "execution_count": 8,
   "metadata": {},
   "outputs": [
    {
     "name": "stdout",
     "output_type": "stream",
     "text": [
      "[67, '0o103', '0x43', '0b1000011']\n"
     ]
    }
   ],
   "source": [
    "num = 67\n",
    "\n",
    "func_list = [lambda x: x, oct, hex, bin]\n",
    "\n",
    "\n",
    "print(list(map(lambda func: func(num), func_list)))"
   ]
  },
  {
   "cell_type": "code",
   "execution_count": null,
   "metadata": {},
   "outputs": [],
   "source": []
  }
 ],
 "metadata": {
  "kernelspec": {
   "display_name": "Python 3",
   "language": "python",
   "name": "python3"
  },
  "language_info": {
   "codemirror_mode": {
    "name": "ipython",
    "version": 3
   },
   "file_extension": ".py",
   "mimetype": "text/x-python",
   "name": "python",
   "nbconvert_exporter": "python",
   "pygments_lexer": "ipython3",
   "version": "3.5.2"
  }
 },
 "nbformat": 4,
 "nbformat_minor": 2
}
