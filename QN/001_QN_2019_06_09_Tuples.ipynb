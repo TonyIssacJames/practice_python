{
 "cells": [
  {
   "cell_type": "markdown",
   "metadata": {},
   "source": [
    "## Tuples"
   ]
  },
  {
   "cell_type": "markdown",
   "metadata": {},
   "source": [
    "## Summary\n",
    "\n",
    "- a tuple can have other variables(**which are mutable**) as it's members,\n",
    "    - when those variales get modified, tuple also get's modified natuarlly\n",
    "- if there is only one element in a tuple put ',' after the element\n",
    "    - tup1 = (10,) tup2 = (\"String\",) like this\n",
    "    - tup1 = (10) is just integer\n",
    "    - tup2 = (\"String\") is just string\n",
    "- empty tuple is possible\n",
    "    - tup1 = ()\n",
    "- we can return multiple values from a function and they will treated as single tuple\n",
    "    - return list1, list2\n",
    "- tup1 = (None) will be treated as None, \n",
    "    - bool(tup1) will be **False**\n",
    "- tup2 = (None,) will be treates as single element tuple\n",
    "    - bool(tup2) will be **True**\n",
    "- tuple has only two methods\n",
    "    - count(), index()\n",
    "    - once a **tuple** is intialized it cannot be modified so no modifier functions here\n",
    "- contents of a tuple elements can be modified if the element is mutable(like a list)\n",
    "    - this will inturn change the tuple\n",
    "- if you want to get only even elements in a list/tuple\n",
    "    - use [::2]\n",
    "- if you want to reverse and get only even elements in a list/tuple\n",
    "    - use[-1::-2]\n",
    "- in operator can be used to detect presence of an element in a list/tuple\n",
    "    - if 'elem' in list/tuple:\n",
    "        - print(\"elem present\")\n",
    "    "
   ]
  },
  {
   "cell_type": "code",
   "execution_count": 14,
   "metadata": {},
   "outputs": [],
   "source": [
    "### --------------- blank line"
   ]
  },
  {
   "cell_type": "markdown",
   "metadata": {},
   "source": [
    "###  Mega Tips\n",
    "\n",
    "- an empty tuple by itself is not **False**, **True**, **None**, \n",
    "    - we can convert it **False** by using bool()\n",
    "- **comma** is very important for single element tuples\n",
    "    - tup1 = (10) # tup1 is integer\n",
    "    - tup2 = (10,)# tup2 is tuple"
   ]
  },
  {
   "cell_type": "markdown",
   "metadata": {},
   "source": [
    "## Open Quesions\n",
    "1. can we know if a data type is mutable or not?\n",
    "    - is there an api for that?\n",
    "2. why we need tuples at all?"
   ]
  },
  {
   "cell_type": "markdown",
   "metadata": {},
   "source": [
    "## To do:\n"
   ]
  },
  {
   "cell_type": "markdown",
   "metadata": {},
   "source": [
    "### Q1  \n",
    "    we have list1 =[1 ,2, 3, 4] list2 = [5,6, 7, 8]\n",
    "    tup1= (list1, list2)\n",
    "\tis this possible\n",
    "    \n",
    "### A:  Yes,\n",
    "###       When members are modified, tuple also get's modified automoatically       "
   ]
  },
  {
   "cell_type": "code",
   "execution_count": 1,
   "metadata": {},
   "outputs": [],
   "source": [
    "list1 = [1, 2, 3, 4]\n",
    "list2 = [5, 6, 7, 8]\n",
    "\n",
    "tup1 = (list1, list2)"
   ]
  },
  {
   "cell_type": "code",
   "execution_count": 2,
   "metadata": {},
   "outputs": [
    {
     "name": "stdout",
     "output_type": "stream",
     "text": [
      "([1, 2, 3, 4], [5, 6, 7, 8])\n"
     ]
    }
   ],
   "source": [
    "print(tup1)"
   ]
  },
  {
   "cell_type": "code",
   "execution_count": 3,
   "metadata": {},
   "outputs": [
    {
     "name": "stdout",
     "output_type": "stream",
     "text": [
      "([1, 2, 'Modified', 4], [5, 6, 7, 8])\n"
     ]
    }
   ],
   "source": [
    "# let's modify list1 nad see what happens to tup1\n",
    "\n",
    "list1[2]= \"Modified\"\n",
    "print(tup1)"
   ]
  },
  {
   "cell_type": "markdown",
   "metadata": {},
   "source": [
    "### Q2\n",
    "### what are the different ways to create a tuple?\n",
    "\n"
   ]
  },
  {
   "cell_type": "code",
   "execution_count": 23,
   "metadata": {},
   "outputs": [],
   "source": [
    "tup1 = (1, \"String\", 2)\n",
    "tup2 = 1, \"String\", 2\n",
    "tup3 = ()\n",
    "tup4 = (10)\n",
    "tup5 = (10,)\n",
    "tup6 = (list1, list2)\n",
    "tup7 = ((\"String\",1, 2), (1, 2, 3))\n",
    "tup8 = (\"String\")\n",
    "tup9 = ((\"String\",1, 2), [1, 2, 3,(\"String\",1.2)])"
   ]
  },
  {
   "cell_type": "code",
   "execution_count": 24,
   "metadata": {},
   "outputs": [
    {
     "name": "stdout",
     "output_type": "stream",
     "text": [
      "tup1 is <class 'tuple'>\n",
      "tup1 is <class 'tuple'>\n",
      "tup1 is <class 'tuple'>\n",
      "tup1 is <class 'int'>\n",
      "tup1 is <class 'tuple'>\n",
      "tup1 is <class 'tuple'>\n",
      "tup1 is <class 'tuple'>\n",
      "tup1 is <class 'str'>\n",
      "tup1 is <class 'tuple'>\n"
     ]
    }
   ],
   "source": [
    "print(\"tup1 is\",type(tup1))\n",
    "print(\"tup1 is\",type(tup2))\n",
    "print(\"tup1 is\",type(tup3))\n",
    "print(\"tup1 is\",type(tup4))\n",
    "print(\"tup1 is\",type(tup5))\n",
    "print(\"tup1 is\",type(tup6))\n",
    "print(\"tup1 is\",type(tup7))\n",
    "print(\"tup1 is\",type(tup8))\n",
    "print(\"tup1 is\",type(tup9))"
   ]
  },
  {
   "cell_type": "code",
   "execution_count": 25,
   "metadata": {},
   "outputs": [
    {
     "name": "stdout",
     "output_type": "stream",
     "text": [
      "tup1 is (1, 'String', 2)\n",
      "tup1 is (1, 'String', 2)\n",
      "tup1 is ()\n",
      "tup1 is 10\n",
      "tup1 is (10,)\n",
      "tup1 is ([1, 2, 'Modified', 4], [5, 6, 7, 8])\n",
      "tup1 is (('String', 1, 2), (1, 2, 3))\n",
      "tup1 is String\n",
      "tup1 is (('String', 1, 2), [1, 2, 3, ('String', 1.2)])\n"
     ]
    }
   ],
   "source": [
    "print(\"tup1 is\",tup1)\n",
    "print(\"tup1 is\",tup2)\n",
    "print(\"tup1 is\",tup3)\n",
    "print(\"tup1 is\",tup4)\n",
    "print(\"tup1 is\",tup5)\n",
    "print(\"tup1 is\",tup6)\n",
    "print(\"tup1 is\",tup7)\n",
    "print(\"tup1 is\",tup8)\n",
    "print(\"tup1 is\",tup9)"
   ]
  },
  {
   "cell_type": "markdown",
   "metadata": {},
   "source": [
    "### Mega Tip - 1"
   ]
  },
  {
   "cell_type": "code",
   "execution_count": 26,
   "metadata": {},
   "outputs": [
    {
     "name": "stdout",
     "output_type": "stream",
     "text": [
      "tup3 is ()\n",
      "What is it then?\n"
     ]
    }
   ],
   "source": [
    "print(\"tup3 is\",tup3)\n",
    "if (tup3 == False):\n",
    "    print(\"Empty tuple is treated as False\")\n",
    "elif (tup3 == None):\n",
    "    print(\"Empty tuple is treated as None\")\n",
    "elif (tup3 == True):\n",
    "    print(\"Empty tuple is treates as True\")\n",
    "else:\n",
    "    print(\"What is it then?\")"
   ]
  },
  {
   "cell_type": "code",
   "execution_count": 27,
   "metadata": {},
   "outputs": [
    {
     "name": "stdout",
     "output_type": "stream",
     "text": [
      "Empty tuple can be coverted to False\n"
     ]
    }
   ],
   "source": [
    "\n",
    "if (bool(tup3) == False):\n",
    "    print(\"Empty tuple can be coverted to False\")\n",
    "elif (bool(tup3) == None):\n",
    "    print(\"Empty tuple is treated as None\")#will never hit here?\n",
    "elif (bool(tup3) == True):\n",
    "    print(\"Empty tuple can be coverted to as True\")\n",
    "else:\n",
    "    print(\"What is it then?\")"
   ]
  },
  {
   "cell_type": "markdown",
   "metadata": {},
   "source": [
    "### Q3\n",
    "    What is the data type of following assignments\n",
    "\n",
    "### A: tuple, \n",
    "    you can return multiple values from a function and they can be treated as single tuple"
   ]
  },
  {
   "cell_type": "code",
   "execution_count": 28,
   "metadata": {},
   "outputs": [],
   "source": [
    "val1 = 1, 2\n",
    "val2 = list1, list2"
   ]
  },
  {
   "cell_type": "code",
   "execution_count": 29,
   "metadata": {},
   "outputs": [
    {
     "name": "stdout",
     "output_type": "stream",
     "text": [
      "(1, 2) type of <class 'tuple'>\n",
      "([1, 2, 'Modified', 4], [5, 6, 7, 8]) type of <class 'tuple'>\n"
     ]
    }
   ],
   "source": [
    "print(val1, \"type of\", type(val1))\n",
    "print(val2, \"type of\", type(val2))"
   ]
  },
  {
   "cell_type": "markdown",
   "metadata": {},
   "source": [
    "### Q \n",
    "    How many methods tuple has and why?\n",
    "    \n",
    "### A: two,\n",
    "    count(), index()\n",
    "    since tuple is immutable we do not have any of the modifier methods\n",
    "\n",
    "\n",
    "\n"
   ]
  },
  {
   "cell_type": "code",
   "execution_count": 32,
   "metadata": {},
   "outputs": [
    {
     "data": {
      "text/plain": [
       "['__add__',\n",
       " '__class__',\n",
       " '__contains__',\n",
       " '__delattr__',\n",
       " '__dir__',\n",
       " '__doc__',\n",
       " '__eq__',\n",
       " '__format__',\n",
       " '__ge__',\n",
       " '__getattribute__',\n",
       " '__getitem__',\n",
       " '__getnewargs__',\n",
       " '__gt__',\n",
       " '__hash__',\n",
       " '__init__',\n",
       " '__init_subclass__',\n",
       " '__iter__',\n",
       " '__le__',\n",
       " '__len__',\n",
       " '__lt__',\n",
       " '__mul__',\n",
       " '__ne__',\n",
       " '__new__',\n",
       " '__reduce__',\n",
       " '__reduce_ex__',\n",
       " '__repr__',\n",
       " '__rmul__',\n",
       " '__setattr__',\n",
       " '__sizeof__',\n",
       " '__str__',\n",
       " '__subclasshook__',\n",
       " 'count',\n",
       " 'index']"
      ]
     },
     "execution_count": 32,
     "metadata": {},
     "output_type": "execute_result"
    }
   ],
   "source": [
    "dir(tuple)"
   ]
  },
  {
   "cell_type": "markdown",
   "metadata": {},
   "source": [
    "### Q4\n",
    "    can elements of tuple be modfied?\n",
    "    can the content of tuple's elements be modified?\n",
    "\n",
    "### A1: no,\n",
    "    tuple's elements cannot be modified\n",
    "### A2: yes,\n",
    "    if a tuple has mutable elements, contents of those mutable\n",
    "    elements can be modified which inturn modifies the tuple"
   ]
  },
  {
   "cell_type": "code",
   "execution_count": 35,
   "metadata": {},
   "outputs": [
    {
     "name": "stdout",
     "output_type": "stream",
     "text": [
      "(['Sachin', 1], ['Koli', 2], ['Dhoni', 3])\n",
      "1 - upper (['Sachin', 1], ['KOLI', 2], ['Dhoni', 3])\n"
     ]
    }
   ],
   "source": [
    "players = ([\"Sachin\", 1], [\"Koli\", 2], [\"Dhoni\", 3])\n",
    "\n",
    "print(players)\n",
    "players[1][0] = players[1][0].upper()\n",
    "print(\"1 - upper\",players)\n",
    "#players[2][0][1] = 'H' #not possible"
   ]
  },
  {
   "cell_type": "markdown",
   "metadata": {},
   "source": [
    "### Q5\n",
    "   \n",
    "   how to get only the even elements of a list without using index\n",
    "   \n",
    "### A:\n",
    "    [::2]\n",
    "    [-1::-2]"
   ]
  },
  {
   "cell_type": "code",
   "execution_count": 2,
   "metadata": {},
   "outputs": [],
   "source": [
    "\n",
    "\n",
    "super_heroes = [\"Batman\", \"Spiderman\", \"SuperMan\", \"ShakthiMan\",\n",
    "                \"Flash\", \"Magneto\", \"IndianJones\",\"JamesBond\"]"
   ]
  },
  {
   "cell_type": "code",
   "execution_count": 3,
   "metadata": {},
   "outputs": [
    {
     "name": "stdout",
     "output_type": "stream",
     "text": [
      "Batman\n",
      "Spiderman\n",
      "SuperMan\n",
      "ShakthiMan\n",
      "Flash\n",
      "Magneto\n",
      "IndianJones\n",
      "JamesBond\n"
     ]
    }
   ],
   "source": [
    "for hero in super_heroes:\n",
    "    print(hero)"
   ]
  },
  {
   "cell_type": "code",
   "execution_count": 4,
   "metadata": {},
   "outputs": [
    {
     "name": "stdout",
     "output_type": "stream",
     "text": [
      "Batman\n",
      "SuperMan\n",
      "Flash\n",
      "IndianJones\n"
     ]
    }
   ],
   "source": [
    "for hero in super_heroes[::2]:\n",
    "    print(hero)"
   ]
  },
  {
   "cell_type": "code",
   "execution_count": 5,
   "metadata": {},
   "outputs": [
    {
     "name": "stdout",
     "output_type": "stream",
     "text": [
      "JamesBond\n",
      "Magneto\n",
      "ShakthiMan\n",
      "Spiderman\n"
     ]
    }
   ],
   "source": [
    "for hero in super_heroes[-1::-2]:\n",
    "    print(hero)"
   ]
  },
  {
   "cell_type": "markdown",
   "metadata": {},
   "source": [
    "### Q6\n",
    "    How to check if an element is there in a tuple or list?\n",
    "    \n",
    "### A: in\n",
    "    elem in list/tuple"
   ]
  },
  {
   "cell_type": "code",
   "execution_count": 7,
   "metadata": {},
   "outputs": [],
   "source": [
    "superHeroes = tuple(super_heroes)"
   ]
  },
  {
   "cell_type": "code",
   "execution_count": 9,
   "metadata": {},
   "outputs": [
    {
     "name": "stdout",
     "output_type": "stream",
     "text": [
      "BatMan is essential to fight evil\n"
     ]
    }
   ],
   "source": [
    "if 'Batman' in superHeroes:\n",
    "    print(\"BatMan is essential to fight evil\")"
   ]
  },
  {
   "cell_type": "code",
   "execution_count": null,
   "metadata": {},
   "outputs": [],
   "source": []
  }
 ],
 "metadata": {
  "kernelspec": {
   "display_name": "Python 3",
   "language": "python",
   "name": "python3"
  },
  "language_info": {
   "codemirror_mode": {
    "name": "ipython",
    "version": 3
   },
   "file_extension": ".py",
   "mimetype": "text/x-python",
   "name": "python",
   "nbconvert_exporter": "python",
   "pygments_lexer": "ipython3",
   "version": "3.6.7"
  }
 },
 "nbformat": 4,
 "nbformat_minor": 2
}
