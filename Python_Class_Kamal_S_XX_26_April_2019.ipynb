{
 "cells": [
  {
   "cell_type": "markdown",
   "metadata": {},
   "source": [
    "## Regular expression"
   ]
  },
  {
   "cell_type": "code",
   "execution_count": 1,
   "metadata": {},
   "outputs": [],
   "source": [
    "import re"
   ]
  },
  {
   "cell_type": "code",
   "execution_count": 33,
   "metadata": {},
   "outputs": [],
   "source": [
    "string1 = '''\n",
    "from:\n",
    "kamal kumar <aptcomputingacademy@gmail.com>\n",
    "to:\n",
    "Fazalulhaq Mohammad <fazalulhaq.mohammad@gmail.com>,\n",
    "tony james <tonyjames1980@gmail.com>,\n",
    "Suvarna wankhade <suvarnawankhade14@gmail.com>,\n",
    "babu joseph <babujoseph033@gmail.com>,\n",
    "chandramohan chittanuri <chittanuri@gmail.com>,\n",
    "Fazalulhaq Mohammad <fazalulhaq.mohammad@tcs.com>,\n",
    "Fazalulhaq Mohammad <fazalulhaq.mohammad@tcs.co.in>,\n",
    "date:\n",
    "Apr 17, 2019, 10:00 AM\n",
    "subject:\n",
    "PYE250319: Assignment on Classes.\n",
    "mailed-by:\n",
    "gmail.com\n",
    "'''"
   ]
  },
  {
   "cell_type": "code",
   "execution_count": 6,
   "metadata": {},
   "outputs": [],
   "source": [
    "list1 = re.findall(r'\\d+',string1)\n",
    "print(list1)"
   ]
  },
  {
   "cell_type": "code",
   "execution_count": 7,
   "metadata": {},
   "outputs": [
    {
     "name": "stdout",
     "output_type": "stream",
     "text": [
      "['1980', '14', '033', '17', '2019', '10', '00', '250319']\n"
     ]
    }
   ],
   "source": [
    "print(list1)"
   ]
  },
  {
   "cell_type": "code",
   "execution_count": 8,
   "metadata": {},
   "outputs": [
    {
     "name": "stdout",
     "output_type": "stream",
     "text": [
      "['', '', '', '', '', '', '', '', '', '', '', '', '', '', '', '', '', '', '', '', '', '', '', '', '', '', '', '', '', '', '', '', '', '', '', '', '', '', '', '', '', '', '', '', '', '', '', '', '', '', '', '', '', '', '', '', '', '', '', '', '', '', '', '', '', '', '', '', '', '', '', '', '', '', '', '', '', '', '', '', '', '', '', '', '', '', '', '', '', '', '', '', '', '', '', '', '', '', '', '', '', '', '', '', '', '', '', '', '', '', '', '', '', '', '', '', '', '', '', '', '', '', '', '', '', '', '', '', '', '1980', '', '', '', '', '', '', '', '', '', '', '', '', '', '', '', '', '', '', '', '', '', '', '', '', '', '', '', '', '', '', '', '', '', '', '', '', '', '', '', '', '', '', '', '', '', '', '14', '', '', '', '', '', '', '', '', '', '', '', '', '', '', '', '', '', '', '', '', '', '', '', '', '', '', '', '', '', '', '', '', '', '', '', '', '033', '', '', '', '', '', '', '', '', '', '', '', '', '', '', '', '', '', '', '', '', '', '', '', '', '', '', '', '', '', '', '', '', '', '', '', '', '', '', '', '', '', '', '', '', '', '', '', '', '', '', '', '', '', '', '', '', '', '', '', '', '', '', '', '', '', '', '', '', '', '', '17', '', '', '2019', '', '', '10', '', '00', '', '', '', '', '', '', '', '', '', '', '', '', '', '', '', '', '250319', '', '', '', '', '', '', '', '', '', '', '', '', '', '', '', '', '', '', '', '', '', '', '', '', '', '', '', '', '', '', '', '', '', '', '', '', '', '', '', '', '', '', '', '', '', '', '']\n"
     ]
    }
   ],
   "source": [
    "list1 = re.findall(r'\\d*',string1)\n",
    "print(list1)"
   ]
  },
  {
   "cell_type": "code",
   "execution_count": 13,
   "metadata": {},
   "outputs": [
    {
     "name": "stdout",
     "output_type": "stream",
     "text": [
      "['', '', '', '', '', '', '', '', '', '', '', '', '', '', '', '', '', '', '', '', '', '', '', '', '', '', '', '', '', '', '', '', '', '', '', '', '', '', '', '', '', '', '', '', '', '', '', '', '', '', '', '', '', '', '', '', '', '', '', '', '', '', '', '', '', '', '', '', '', '', '', '', '', '', '', '', '', '', '', '', '', '', '', '', '', '', '', '', '', '', '', '', '', '', '', '', '', '', '', '', '', '', '', '', '', '', '', '', '', '', '', '', '', '', '', '', '', '', '', '', '', '', '', '', '', '', '', '', '', '1', '9', '8', '0', '', '', '', '', '', '', '', '', '', '', '', '', '', '', '', '', '', '', '', '', '', '', '', '', '', '', '', '', '', '', '', '', '', '', '', '', '', '', '', '', '', '', '', '', '', '', '1', '4', '', '', '', '', '', '', '', '', '', '', '', '', '', '', '', '', '', '', '', '', '', '', '', '', '', '', '', '', '', '', '', '', '', '', '', '', '0', '3', '3', '', '', '', '', '', '', '', '', '', '', '', '', '', '', '', '', '', '', '', '', '', '', '', '', '', '', '', '', '', '', '', '', '', '', '', '', '', '', '', '', '', '', '', '', '', '', '', '', '', '', '', '', '', '', '', '', '', '', '', '', '', '', '', '', '', '', '', '', '', '', '1', '7', '', '', '2', '0', '1', '9', '', '', '1', '0', '', '0', '0', '', '', '', '', '', '', '', '', '', '', '', '', '', '', '', '', '2', '5', '0', '3', '1', '9', '', '', '', '', '', '', '', '', '', '', '', '', '', '', '', '', '', '', '', '', '', '', '', '', '', '', '', '', '', '', '', '', '', '', '', '', '', '', '', '', '', '', '', '', '', '', '']\n"
     ]
    }
   ],
   "source": [
    "list1 = re.findall(r'\\d?',string1)\n",
    "print(list1)"
   ]
  },
  {
   "cell_type": "code",
   "execution_count": 34,
   "metadata": {},
   "outputs": [
    {
     "name": "stdout",
     "output_type": "stream",
     "text": [
      "['aptcomputingacademy@gmail.com', 'fazalulhaq.mohammad@gmail.com', 'tonyjames1980@gmail.com', 'suvarnawankhade14@gmail.com', 'babujoseph033@gmail.com', 'chittanuri@gmail.com', 'fazalulhaq.mohammad@tcs.com', 'fazalulhaq.mohammad@tcs.co']\n"
     ]
    }
   ],
   "source": [
    "list1 = re.findall(r'[\\w.]+@\\w+\\.\\w+\\b',string1)\n",
    "print(list1)"
   ]
  },
  {
   "cell_type": "code",
   "execution_count": 36,
   "metadata": {},
   "outputs": [
    {
     "name": "stdout",
     "output_type": "stream",
     "text": [
      "<class 'list'>\n",
      "['aptcomputingacademy@gmail.com> 4', 'fazalulhaq.mohammad@gmail.com> 5', 'tonyjames1980@gmail.com> 6', 'suvarnawankhade14@gmail.com> 4', 'babujoseph033@gmail.com> 5', 'chittanuri@gmail.com> 7']\n"
     ]
    }
   ],
   "source": [
    "\n",
    "string1 = '''from: kamal kumar <aptcomputingacademy@gmail.com> 4\n",
    "to: fazalulhaq mohammad <fazalulhaq.mohammad@gmail.com> 5,\n",
    "tony james from <tonyjames1980@gmail.com> 6,\n",
    "Suvarna wankhade <suvarnawankhade14@gmail.com> 4,\n",
    "from babu joseph <babujoseph033@gmail.com> 5,\n",
    "chandramohan chittanuri <chittanuri@gmail.com> 7\n",
    "date: Apr 17, 2019, MAC 10:00 AM\n",
    "IP: subject: PYE250319: Assignment on Classes. MAC\n",
    "MAC: Bkamalakar: MAC\n",
    "kamal 9730010010\n",
    "\n",
    "MAC: fdsafdsfdsa\n",
    "mailed-by: gmail.com'''\n",
    "\n",
    "\n",
    "list1 = re.findall(r'[\\w.]+@\\w*\\.[comin.]+> \\d+', string1)\n",
    "print(type(list1))\n",
    "print(list1)"
   ]
  },
  {
   "cell_type": "code",
   "execution_count": null,
   "metadata": {},
   "outputs": [],
   "source": []
  }
 ],
 "metadata": {
  "kernelspec": {
   "display_name": "Python 3",
   "language": "python",
   "name": "python3"
  },
  "language_info": {
   "codemirror_mode": {
    "name": "ipython",
    "version": 3
   },
   "file_extension": ".py",
   "mimetype": "text/x-python",
   "name": "python",
   "nbconvert_exporter": "python",
   "pygments_lexer": "ipython3",
   "version": "3.5.2"
  }
 },
 "nbformat": 4,
 "nbformat_minor": 2
}
