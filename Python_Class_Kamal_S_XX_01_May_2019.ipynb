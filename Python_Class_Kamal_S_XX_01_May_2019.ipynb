{
 "cells": [
  {
   "cell_type": "markdown",
   "metadata": {},
   "source": [
    "#### Jupyter notebook is only for practicing "
   ]
  },
  {
   "cell_type": "markdown",
   "metadata": {},
   "source": [
    "## top command shows all the running process\n",
    " - PPID --> parent program ID"
   ]
  },
  {
   "cell_type": "markdown",
   "metadata": {},
   "source": [
    "- init (PID = 1)(kernel) starts all processes, \n",
    "    - so that is why all dameon process's PPID is 1\n",
    "    - how to get the name of process whose PID we know"
   ]
  },
  {
   "cell_type": "markdown",
   "metadata": {},
   "source": [
    "- process is nothing but a running program"
   ]
  },
  {
   "cell_type": "markdown",
   "metadata": {},
   "source": [
    "- PC location of next instruction to be executed"
   ]
  },
  {
   "cell_type": "code",
   "execution_count": 23,
   "metadata": {},
   "outputs": [
    {
     "name": "stdout",
     "output_type": "stream",
     "text": [
      "parent PID =  2823\n",
      "f1 - pid  26177 ppid 2823\n",
      "f1 - pid  26178 ppid 2823\n",
      "f - pid  26181 ppid 2823\n",
      "hello bob\n",
      "sum caluclated 499999500000\n",
      "Calculate Sum\n",
      "p2 is alive; True\n",
      "CPU times: user 3.46 ms, sys: 0 ns, total: 3.46 ms\n",
      "Wall time: 12 ms\n",
      "sum caluclated 49999995000000\n",
      "CPU times: user 3.34 ms, sys: 0 ns, total: 3.34 ms\n",
      "Wall time: 540 ms\n",
      "CPU times: user 214 µs, sys: 37 µs, total: 251 µs\n",
      "Wall time: 218 µs\n",
      "p2 is alive; False\n"
     ]
    }
   ],
   "source": [
    "from multiprocessing import Process\n",
    "\n",
    "import os\n",
    "def f(name):\n",
    "   print(\"f - pid \" ,os.getpid(),\"ppid\", os.getppid() )\n",
    "   print('hello', name)\n",
    "\n",
    "    \n",
    "def f1(number):\n",
    "    print(\"f1 - pid \" ,os.getpid() ,\"ppid\", os.getppid() )\n",
    "    \n",
    "    sum = 0\n",
    "    for i in range(int(number)):\n",
    "        sum += i\n",
    "    print('sum caluclated', sum)    \n",
    "    \n",
    "    \n",
    "if __name__ == '__main__':\n",
    "    p = Process(target=f, args=('bob',))\n",
    "    p1 = Process(target=f1, args=('10000000',))\n",
    "    p2 = Process(target=f1, args=('1000000',))\n",
    "    p2.name = \"Calculate Sum\"\n",
    "    p1.name = \"hello_bob\"\n",
    "    print(\"parent PID = \",os.getpid())\n",
    "    p1.start()\n",
    "    p2.start()\n",
    "    p.start()\n",
    "    \n",
    "    print(p2.name)\n",
    "    print(\"p2 is alive;\", p2.is_alive())\n",
    "    \n",
    "    %time p.join()\n",
    "    %time p1.join()\n",
    "    %time p2.join()\n",
    "    print(\"p2 is alive;\", p2.is_alive())"
   ]
  },
  {
   "cell_type": "markdown",
   "metadata": {},
   "source": [
    "# What is happening here?\n",
    "\n",
    "- Process is a class \n",
    "    - assign a functionlaity to the process\n",
    "- Create the object, p = Process(target = , \n",
    "- join is a blocking call, to make sure that the process is completed\n",
    "- using pipes and queues we can communicate between parent and child\n",
    "- what is exit code mean?\n",
    "- how to get the result of the function called in the process "
   ]
  },
  {
   "cell_type": "code",
   "execution_count": 20,
   "metadata": {},
   "outputs": [
    {
     "data": {
      "text/plain": [
       "['_Popen',\n",
       " '__class__',\n",
       " '__delattr__',\n",
       " '__dict__',\n",
       " '__dir__',\n",
       " '__doc__',\n",
       " '__eq__',\n",
       " '__format__',\n",
       " '__ge__',\n",
       " '__getattribute__',\n",
       " '__gt__',\n",
       " '__hash__',\n",
       " '__init__',\n",
       " '__le__',\n",
       " '__lt__',\n",
       " '__module__',\n",
       " '__ne__',\n",
       " '__new__',\n",
       " '__reduce__',\n",
       " '__reduce_ex__',\n",
       " '__repr__',\n",
       " '__setattr__',\n",
       " '__sizeof__',\n",
       " '__str__',\n",
       " '__subclasshook__',\n",
       " '__weakref__',\n",
       " '_args',\n",
       " '_bootstrap',\n",
       " '_config',\n",
       " '_identity',\n",
       " '_kwargs',\n",
       " '_name',\n",
       " '_parent_pid',\n",
       " '_popen',\n",
       " '_sentinel',\n",
       " '_start_method',\n",
       " '_target',\n",
       " 'authkey',\n",
       " 'daemon',\n",
       " 'exitcode',\n",
       " 'ident',\n",
       " 'is_alive',\n",
       " 'join',\n",
       " 'name',\n",
       " 'pid',\n",
       " 'run',\n",
       " 'sentinel',\n",
       " 'start',\n",
       " 'terminate']"
      ]
     },
     "execution_count": 20,
     "metadata": {},
     "output_type": "execute_result"
    }
   ],
   "source": [
    "dir(p2)"
   ]
  },
  {
   "cell_type": "code",
   "execution_count": 31,
   "metadata": {},
   "outputs": [
    {
     "name": "stdout",
     "output_type": "stream",
     "text": [
      "0 represent!\n",
      "1 represent!\n",
      "2 represent!\n",
      "3 represent!\n",
      "4 represent!\n",
      "[0, 0, 0, 0, 0]\n",
      "did we execute it till now\n"
     ]
    }
   ],
   "source": [
    "import multiprocessing\n",
    "\n",
    "def worker(procnum):\n",
    "   print(str(procnum) + ' represent!')\n",
    "   exit(-1)\n",
    "   #print(a)\n",
    "\n",
    "if __name__ == '__main__':\n",
    "   jobs = []\n",
    "   for i in range(5):\n",
    "       p = multiprocessing.Process(target=worker, args=(i,))\n",
    "       jobs.append(p)\n",
    "       p.start()\n",
    "\n",
    "   result = []\n",
    "   for proc in jobs:\n",
    "       proc.join()\n",
    "       result.append(proc.exitcode)\n",
    "   print(result)\n",
    "   print(\"did we execute it till now\")"
   ]
  },
  {
   "cell_type": "code",
   "execution_count": 29,
   "metadata": {},
   "outputs": [
    {
     "data": {
      "text/plain": [
       "'\\nrun_state -------------------------------- sleep_state\\n|\\n|\\n|\\n|\\nzombie_state (what ever info in zombie state has to be collected by parent)\\n'"
      ]
     },
     "execution_count": 29,
     "metadata": {},
     "output_type": "execute_result"
    }
   ],
   "source": [
    "'''\n",
    "run_state -------------------------------- sleep_state\n",
    "|\n",
    "|\n",
    "|\n",
    "|\n",
    "zombie_state (what ever info in zombie state has to be collected by parent)\n",
    "'''"
   ]
  },
  {
   "cell_type": "code",
   "execution_count": 34,
   "metadata": {},
   "outputs": [
    {
     "ename": "AttributeError",
     "evalue": "module 'multiprocessing' has no attribute 'exitcode'",
     "output_type": "error",
     "traceback": [
      "\u001b[0;31m---------------------------------------------------------------------------\u001b[0m",
      "\u001b[0;31mAttributeError\u001b[0m                            Traceback (most recent call last)",
      "\u001b[0;32m<ipython-input-34-69ede67cacc4>\u001b[0m in \u001b[0;36m<module>\u001b[0;34m\u001b[0m\n\u001b[0;32m----> 1\u001b[0;31m \u001b[0mhelp\u001b[0m\u001b[0;34m(\u001b[0m\u001b[0mmultiprocessing\u001b[0m\u001b[0;34m.\u001b[0m\u001b[0mexitcode\u001b[0m\u001b[0;34m)\u001b[0m\u001b[0;34m\u001b[0m\u001b[0m\n\u001b[0m",
      "\u001b[0;31mAttributeError\u001b[0m: module 'multiprocessing' has no attribute 'exitcode'"
     ]
    }
   ],
   "source": [
    "help(multiprocessing.exitcode)"
   ]
  },
  {
   "cell_type": "markdown",
   "metadata": {},
   "source": [
    "- shared memory\n",
    "    - shared across multiple process\n",
    "    - no need to send data between processes\n",
    "- in python there is no shared memory\n",
    "- | kernel | p1 | p2|   <memory view>\n",
    "    - shared\n",
    "- pipes, queues and sockets"
   ]
  },
  {
   "cell_type": "markdown",
   "metadata": {},
   "source": [
    "- Assume we have two process P1, P2\n",
    "- how we relatet it to fd.\n",
    "- P1  -----> >======================<    <----------P2\n",
    "-          front end              rear end\n",
    "-          parent                 child\n",
    "- using descriptor we can read and write from/to to the pipe"
   ]
  },
  {
   "cell_type": "code",
   "execution_count": 35,
   "metadata": {},
   "outputs": [],
   "source": [
    "from multiprocessing import Process, Pipe #1) Improting pipe from mutiprocess\n",
    "import os \n",
    "\n",
    "def f(name, pipe):\n",
    "    print(\"pid - \", os.getpid())\n",
    "    print('hello', name)\n",
    "    msg = pipe.recieve()\n",
    "    print('Message recieved from parent', msg)\n",
    "    \n",
    "    \n",
    "if __name__ == '__main__':\n",
    "    parent_pipe, child_pipe = Pipe() #2) Creating pippe\n",
    "    \n",
    "    p1 = Process(target=f, args=('bob', child_))"
   ]
  },
  {
   "cell_type": "markdown",
   "metadata": {},
   "source": [
    "- Pipe, Queue is function mostly same\n",
    "- - you can put mulitple data (like queue)\n",
    "- - in Pipe you can the change data after putting (not possible in queue)\n",
    "- In queues direction\n",
    "- only direction is the difference between queue and pipe\n",
    "    - if parent put the data only, child can read it in pipe\n",
    "    - in queue anyone can read the data\n",
    "- timeout option make read a none waiting call"
   ]
  },
  {
   "cell_type": "markdown",
   "metadata": {},
   "source": [
    "## Pooling"
   ]
  },
  {
   "cell_type": "code",
   "execution_count": null,
   "metadata": {},
   "outputs": [],
   "source": []
  },
  {
   "cell_type": "markdown",
   "metadata": {},
   "source": [
    "- assume we have 10 files to process\n",
    "    - create a process list for 10\n",
    "    - synchronising them is another big task\n",
    "    - "
   ]
  },
  {
   "cell_type": "code",
   "execution_count": 46,
   "metadata": {},
   "outputs": [],
   "source": [
    "from multiprocessing import Pool\n",
    "import time"
   ]
  },
  {
   "cell_type": "code",
   "execution_count": 55,
   "metadata": {},
   "outputs": [
    {
     "name": "stdout",
     "output_type": "stream",
     "text": [
      "element: file10\n",
      "element: file5\n",
      "element: file15\n",
      "element: file0\n",
      "element: file6\n",
      "element: file1\n",
      "element: file11\n",
      "element: file7\n",
      "element: file2\n",
      "element: file3\n",
      "element: file12\n",
      "element: file4\n",
      "element: file13\n",
      "element: file25\n",
      "element: file14\n",
      "element: file30\n",
      "element: file26\n",
      "element: file31\n",
      "element: file27\n",
      "element: file20\n",
      "element: file28\n",
      "element: file32\n",
      "element: file29\n",
      "element: file8\n",
      "element: file21\n",
      "element: file17\n",
      "element: file35\n",
      "element: file36\n",
      "element: file38\n",
      "element: file37\n",
      "element: file33\n",
      "element: file16\n",
      "element: file34\n",
      "element: file22\n",
      "element: file18\n",
      "element: file39\n",
      "element: file23\n",
      "element: file45\n",
      "element: file40\n",
      "element: file41\n",
      "element: file46\n",
      "element: file9\n",
      "element: file42\n",
      "element: file24\n",
      "element: file19\n",
      "element: file50\n",
      "element: file60\n",
      "element: file47\n",
      "element: file55\n",
      "element: file56\n",
      "element: file43\n",
      "element: file48\n",
      "element: file51\n",
      "element: file49\n",
      "element: file61\n",
      "element: file57\n",
      "element: file65\n",
      "element: file44\n",
      "element: file58\n",
      "element: file70\n",
      "element: file52\n",
      "element: file66\n",
      "element: file53\n",
      "element: file54\n",
      "element: file67\n",
      "element: file71\n",
      "element: file75\n",
      "element: file76\n",
      "element: file72\n",
      "element: file68\n",
      "element: file77\n",
      "element: file62\n",
      "element: file59\n",
      "element: file69\n",
      "element: file80\n",
      "element: file78\n",
      "element: file73\n",
      "element: file79\n",
      "element: file81\n",
      "element: file63\n",
      "element: file82\n",
      "element: file64\n",
      "element: file74\n",
      "element: file83\n",
      "element: file85\n",
      "element: file95\n",
      "element: file90\n",
      "element: file84\n",
      "element: file91\n",
      "element: file86\n",
      "element: file96\n",
      "element: file97\n",
      "element: file92\n",
      "element: file87\n",
      "element: file98\n",
      "element: file93\n",
      "element: file88\n",
      "element: file99\n",
      "element: file94\n",
      "element: file89\n",
      "process starting time:  1556815871.0577042\n",
      "1556815871.057962 \n",
      " ['file0', 'file1', 'file2', 'file3', 'file4', 'file5', 'file6', 'file7', 'file8', 'file9', 'file10', 'file11', 'file12', 'file13', 'file14', 'file15', 'file16', 'file17', 'file18', 'file19', 'file20', 'file21', 'file22', 'file23', 'file24', 'file25', 'file26', 'file27', 'file28', 'file29', 'file30', 'file31', 'file32', 'file33', 'file34', 'file35', 'file36', 'file37', 'file38', 'file39', 'file40', 'file41', 'file42', 'file43', 'file44', 'file45', 'file46', 'file47', 'file48', 'file49', 'file50', 'file51', 'file52', 'file53', 'file54', 'file55', 'file56', 'file57', 'file58', 'file59', 'file60', 'file61', 'file62', 'file63', 'file64', 'file65', 'file66', 'file67', 'file68', 'file69', 'file70', 'file71', 'file72', 'file73', 'file74', 'file75', 'file76', 'file77', 'file78', 'file79', 'file80', 'file81', 'file82', 'file83', 'file84', 'file85', 'file86', 'file87', 'file88', 'file89', 'file90', 'file91', 'file92', 'file93', 'file94', 'file95', 'file96', 'file97', 'file98', 'file99']\n",
      "['file0done 1556815871.0665853', 'file1done 1556815871.0733821', 'file2done 1556815871.0816855', 'file3done 1556815871.0833302', 'file4done 1556815871.0855758', 'file5done 1556815871.0665853', 'file6done 1556815871.0707257', 'file7done 1556815871.1020768', 'file8done 1556815871.120061', 'file9done 1556815871.1306295', 'file10done 1556815871.0688584', 'file11done 1556815871.0827916', 'file12done 1556815871.0844784', 'file13done 1556815871.0867898', 'file14done 1556815871.0883465', 'file15done 1556815871.1096513', 'file16done 1556815871.1139388', 'file17done 1556815871.1161861', 'file18done 1556815871.1215637', 'file19done 1556815871.1289282', 'file20done 1556815871.1026604', 'file21done 1556815871.1108565', 'file22done 1556815871.1170924', 'file23done 1556815871.126008', 'file24done 1556815871.1283007', 'file25done 1556815871.0895467', 'file26done 1556815871.091161', 'file27done 1556815871.092539', 'file28done 1556815871.1004379', 'file29done 1556815871.105789', 'file30done 1556815871.0908895', 'file31done 1556815871.0934703', 'file32done 1556815871.1045122', 'file33done 1556815871.1121058', 'file34done 1556815871.1209378', 'file35done 1556815871.1077445', 'file36done 1556815871.1093836', 'file37done 1556815871.1109848', 'file38done 1556815871.117635', 'file39done 1556815871.1215637', 'file40done 1556815871.1245573', 'file41done 1556815871.1260905', 'file42done 1556815871.128262', 'file43done 1556815871.1418595', 'file44done 1556815871.1512783', 'file45done 1556815871.1233222', 'file46done 1556815871.1278374', 'file47done 1556815871.1356983', 'file48done 1556815871.1414928', 'file49done 1556815871.1463287', 'file50done 1556815871.1365533', 'file51done 1556815871.1491847', 'file52done 1556815871.1543624', 'file53done 1556815871.1562076', 'file54done 1556815871.1604147', 'file55done 1556815871.1365967', 'file56done 1556815871.139433', 'file57done 1556815871.1500604', 'file58done 1556815871.1529627', 'file59done 1556815871.1707745', 'file60done 1556815871.1388528', 'file61done 1556815871.1478467', 'file62done 1556815871.1715012', 'file63done 1556815871.175186', 'file64done 1556815871.1794233', 'file65done 1556815871.15153', 'file66done 1556815871.1563964', 'file67done 1556815871.1655235', 'file68done 1556815871.1695857', 'file69done 1556815871.1803463', 'file70done 1556815871.1596868', 'file71done 1556815871.1649642', 'file72done 1556815871.1684113', 'file73done 1556815871.176764', 'file74done 1556815871.189925', 'file75done 1556815871.1660216', 'file76done 1556815871.167184', 'file77done 1556815871.1698701', 'file78done 1556815871.1719496', 'file79done 1556815871.1801343', 'file80done 1556815871.1720908', 'file81done 1556815871.173679', 'file82done 1556815871.1781173', 'file83done 1556815871.1816962', 'file84done 1556815871.195364', 'file85done 1556815871.1903965', 'file86done 1556815871.1917536', 'file87done 1556815871.2028883', 'file88done 1556815871.21312', 'file89done 1556815871.2196956', 'file90done 1556815871.1841333', 'file91done 1556815871.1874814', 'file92done 1556815871.2035263', 'file93done 1556815871.2139971', 'file94done 1556815871.217078', 'file95done 1556815871.1902308', 'file96done 1556815871.19324', 'file97done 1556815871.1976733', 'file98done 1556815871.208746', 'file99done 1556815871.2123992']\n"
     ]
    }
   ],
   "source": [
    "def fun(element):\n",
    "    print(\"element:\",element)\n",
    "    return element+'done ' + str(time.time())\n",
    "    \n",
    "if __name__=='__main__':\n",
    "    pool = Pool(5)\n",
    "    list1 = list(map(lambda x:\"file\"+str(x), range(100)))\n",
    "    print('process starting time: ',str(time.time()))\n",
    "    print(str(time.time()),\"\\n\",list1)\n",
    "    out = pool.map(fun, list1)\n",
    "    print(out)"
   ]
  },
  {
   "cell_type": "markdown",
   "metadata": {},
   "source": [
    "### Strange behaviour of the above code\n",
    "- The above code is strange, \n",
    "- the list1 is printed last\n",
    "- the reason is buffering\n",
    "- buffers are sent to kernel, \n",
    "- kernel takes time to print it, kernel may delay it further also\n",
    "- give some time to kernel and it will be printed\n",
    "- it is not a big deal\n",
    "- give a time stamp with the messge and we can fix it"
   ]
  },
  {
   "cell_type": "code",
   "execution_count": 49,
   "metadata": {},
   "outputs": [
    {
     "data": {
      "text/plain": [
       "'Thu May  2 22:17:38 2019'"
      ]
     },
     "execution_count": 49,
     "metadata": {},
     "output_type": "execute_result"
    }
   ],
   "source": [
    "time.ctime()"
   ]
  },
  {
   "cell_type": "code",
   "execution_count": 51,
   "metadata": {},
   "outputs": [
    {
     "data": {
      "text/plain": [
       "1556815786.2280197"
      ]
     },
     "execution_count": 51,
     "metadata": {},
     "output_type": "execute_result"
    }
   ],
   "source": [
    "time.time()"
   ]
  },
  {
   "cell_type": "code",
   "execution_count": null,
   "metadata": {},
   "outputs": [],
   "source": []
  }
 ],
 "metadata": {
  "kernelspec": {
   "display_name": "Python 3",
   "language": "python",
   "name": "python3"
  },
  "language_info": {
   "codemirror_mode": {
    "name": "ipython",
    "version": 3
   },
   "file_extension": ".py",
   "mimetype": "text/x-python",
   "name": "python",
   "nbconvert_exporter": "python",
   "pygments_lexer": "ipython3",
   "version": "3.5.2"
  }
 },
 "nbformat": 4,
 "nbformat_minor": 2
}
