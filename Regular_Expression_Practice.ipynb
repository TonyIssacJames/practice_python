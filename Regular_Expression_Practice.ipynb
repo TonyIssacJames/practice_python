{
 "cells": [
  {
   "cell_type": "markdown",
   "metadata": {},
   "source": [
    "###  From Al Sweigart's class\n",
    "    - https://www.youtube.com/watch?v=abrcJ9MpF60&t=138s"
   ]
  },
  {
   "cell_type": "code",
   "execution_count": 1,
   "metadata": {},
   "outputs": [],
   "source": [
    "import re\n"
   ]
  },
  {
   "cell_type": "code",
   "execution_count": 2,
   "metadata": {},
   "outputs": [],
   "source": [
    "phoneRegex = re.compile(r'\\d\\d\\d-\\d\\d\\d\\-\\d\\d\\d\\d')"
   ]
  },
  {
   "cell_type": "code",
   "execution_count": 3,
   "metadata": {},
   "outputs": [],
   "source": [
    "hayStackString =     '''Alice,\n",
    "                       Please call me before \n",
    "                       taking the medicine\n",
    "                       333-555-5678\n",
    "                       - Bob'''"
   ]
  },
  {
   "cell_type": "code",
   "execution_count": 4,
   "metadata": {},
   "outputs": [
    {
     "name": "stdout",
     "output_type": "stream",
     "text": [
      "333-555-5678\n",
      "<_sre.SRE_Match object; span=(119, 131), match='333-555-5678'>\n"
     ]
    }
   ],
   "source": [
    "mo = phoneRegex.search(hayStackString)\n",
    "    \n",
    "\n",
    "if mo:\n",
    "    print(mo.group())\n",
    "    print(mo)\n",
    "else:\n",
    "    print(\"No phone number is found\")"
   ]
  },
  {
   "cell_type": "code",
   "execution_count": 5,
   "metadata": {},
   "outputs": [],
   "source": [
    "phoneRegex1 = re.compile(r'\\d{3}-\\d{3}-\\d{4}')"
   ]
  },
  {
   "cell_type": "code",
   "execution_count": 6,
   "metadata": {},
   "outputs": [
    {
     "name": "stdout",
     "output_type": "stream",
     "text": [
      "333-555-5678\n",
      "<_sre.SRE_Match object; span=(119, 131), match='333-555-5678'>\n"
     ]
    }
   ],
   "source": [
    "mo = phoneRegex1.search(hayStackString)\n",
    "    \n",
    "\n",
    "if mo:\n",
    "    print(mo.group())\n",
    "    print(mo)\n",
    "else:\n",
    "    print(\"No phone number is found\")"
   ]
  },
  {
   "cell_type": "markdown",
   "metadata": {},
   "source": [
    "### Grouping"
   ]
  },
  {
   "cell_type": "code",
   "execution_count": 7,
   "metadata": {},
   "outputs": [],
   "source": [
    "text = ''' I have  a 64,100,200 year old egg.\n",
    "           Which I would like to sell for 38,500 Rupees.\n",
    "           The sale will close in 12 days\n",
    "        '''"
   ]
  },
  {
   "cell_type": "code",
   "execution_count": 8,
   "metadata": {},
   "outputs": [],
   "source": [
    "digExp = re.compile(r'\\d{1,3}(,\\d{3})*')"
   ]
  },
  {
   "cell_type": "code",
   "execution_count": 9,
   "metadata": {},
   "outputs": [
    {
     "name": "stdout",
     "output_type": "stream",
     "text": [
      "64,100,200 (',200',)\n",
      "<_sre.SRE_Match object; span=(11, 21), match='64,100,200'>\n"
     ]
    }
   ],
   "source": [
    "mo = digExp.search(text)\n",
    "    \n",
    "\n",
    "if mo:\n",
    "    print(mo.group(), mo.groups())\n",
    "    print(mo)\n",
    "else:\n",
    "    print(\"No phone number is found\")"
   ]
  },
  {
   "cell_type": "markdown",
   "metadata": {},
   "source": [
    "###  Websites where you can try regular expressions\n",
    "    - https://regex101.com/\n",
    "    - https://pyregex.com/\n",
    "    - https://regexr.com/\n",
    "    - Regex Buddy\n",
    "    - Regex Tester"
   ]
  },
  {
   "cell_type": "markdown",
   "metadata": {},
   "source": [
    "### Match Anything .\n",
    "\n",
    "- . means match anything\n",
    "- .* match whatever\n",
    "- .*? match the least amount of what ever"
   ]
  },
  {
   "cell_type": "code",
   "execution_count": 10,
   "metadata": {},
   "outputs": [],
   "source": [
    "text = '<TO SERVE HUMANS> FOR DINNER>'"
   ]
  },
  {
   "cell_type": "code",
   "execution_count": 11,
   "metadata": {},
   "outputs": [],
   "source": [
    "regEx1 = re.compile(r'<.*>')\n",
    "regEx2 = re.compile(r'<.*?>')"
   ]
  },
  {
   "cell_type": "code",
   "execution_count": 12,
   "metadata": {},
   "outputs": [
    {
     "name": "stdout",
     "output_type": "stream",
     "text": [
      "<TO SERVE HUMANS> FOR DINNER> ()\n",
      "<_sre.SRE_Match object; span=(0, 29), match='<TO SERVE HUMANS> FOR DINNER>'>\n"
     ]
    }
   ],
   "source": [
    "mo = regEx1.search(text)\n",
    "\n",
    "if mo:\n",
    "    print(mo.group(), mo.groups())\n",
    "    print(mo)\n",
    "else:\n",
    "    print(\"No match in\", text)"
   ]
  },
  {
   "cell_type": "code",
   "execution_count": 13,
   "metadata": {},
   "outputs": [
    {
     "name": "stdout",
     "output_type": "stream",
     "text": [
      "<TO SERVE HUMANS> ()\n",
      "<_sre.SRE_Match object; span=(0, 17), match='<TO SERVE HUMANS>'>\n"
     ]
    }
   ],
   "source": [
    "mo = regEx2.search(text)\n",
    "\n",
    "if mo:\n",
    "    print(mo.group(), mo.groups())\n",
    "    print(mo)\n",
    "else:\n",
    "    print(\"No match in\", text)"
   ]
  },
  {
   "cell_type": "code",
   "execution_count": 14,
   "metadata": {},
   "outputs": [],
   "source": [
    "regEx3 = re.compile(r'.*')\n",
    "regEx4 = re.compile(r'.*?')\n",
    "#regEx2 = re.compile(r'.?*') # this won't compile"
   ]
  },
  {
   "cell_type": "code",
   "execution_count": 15,
   "metadata": {},
   "outputs": [
    {
     "name": "stdout",
     "output_type": "stream",
     "text": [
      "<TO SERVE HUMANS> FOR DINNER> ()\n",
      "<_sre.SRE_Match object; span=(0, 29), match='<TO SERVE HUMANS> FOR DINNER>'>\n"
     ]
    }
   ],
   "source": [
    "mo = regEx3.search(text)\n",
    "\n",
    "if mo:\n",
    "    print(mo.group(), mo.groups())\n",
    "    print(mo)\n",
    "else:\n",
    "    print(\"No match in\", text)"
   ]
  },
  {
   "cell_type": "code",
   "execution_count": 16,
   "metadata": {},
   "outputs": [
    {
     "name": "stdout",
     "output_type": "stream",
     "text": [
      " ()\n",
      "<_sre.SRE_Match object; span=(0, 0), match=''>\n"
     ]
    }
   ],
   "source": [
    "mo = regEx4.search(text)\n",
    "\n",
    "if mo:\n",
    "    print(mo.group(), mo.groups())\n",
    "    print(mo)\n",
    "else:\n",
    "    print(\"No match in\", text)"
   ]
  },
  {
   "cell_type": "markdown",
   "metadata": {},
   "source": [
    "###  Luke Sneeringer  Video\n",
    "\n",
    "- https://www.youtube.com/watch?v=jKfkLVDAwRQ&"
   ]
  },
  {
   "cell_type": "code",
   "execution_count": 17,
   "metadata": {},
   "outputs": [
    {
     "name": "stdout",
     "output_type": "stream",
     "text": [
      "Help on function search in module re:\n",
      "\n",
      "search(pattern, string, flags=0)\n",
      "    Scan through string looking for a match to the pattern, returning\n",
      "    a match object, or None if no match was found.\n",
      "\n"
     ]
    }
   ],
   "source": [
    "help(re.search)"
   ]
  },
  {
   "cell_type": "markdown",
   "metadata": {},
   "source": [
    "#### Hacker Rank Questions"
   ]
  },
  {
   "cell_type": "code",
   "execution_count": 18,
   "metadata": {},
   "outputs": [
    {
     "name": "stdout",
     "output_type": "stream",
     "text": [
      "\n"
     ]
    },
    {
     "ename": "ValueError",
     "evalue": "invalid literal for int() with base 10: ''",
     "output_type": "error",
     "traceback": [
      "\u001b[0;31m---------------------------------------------------------------------------\u001b[0m",
      "\u001b[0;31mValueError\u001b[0m                                Traceback (most recent call last)",
      "\u001b[0;32m<ipython-input-18-3998f552214d>\u001b[0m in \u001b[0;36m<module>\u001b[0;34m\u001b[0m\n\u001b[1;32m      4\u001b[0m \u001b[0mphoneNoExp\u001b[0m \u001b[0;34m=\u001b[0m \u001b[0mre\u001b[0m\u001b[0;34m.\u001b[0m\u001b[0mcompile\u001b[0m\u001b[0;34m(\u001b[0m\u001b[0;34mr'^[789]\\d{9}$'\u001b[0m\u001b[0;34m)\u001b[0m\u001b[0;34m\u001b[0m\u001b[0m\n\u001b[1;32m      5\u001b[0m \u001b[0;34m\u001b[0m\u001b[0m\n\u001b[0;32m----> 6\u001b[0;31m \u001b[0mn\u001b[0m \u001b[0;34m=\u001b[0m \u001b[0mint\u001b[0m\u001b[0;34m(\u001b[0m\u001b[0minput\u001b[0m\u001b[0;34m(\u001b[0m\u001b[0;34m)\u001b[0m\u001b[0;34m)\u001b[0m\u001b[0;34m\u001b[0m\u001b[0m\n\u001b[0m\u001b[1;32m      7\u001b[0m \u001b[0;34m\u001b[0m\u001b[0m\n\u001b[1;32m      8\u001b[0m \u001b[0;32mdef\u001b[0m \u001b[0mverify_phone_no\u001b[0m\u001b[0;34m(\u001b[0m\u001b[0mphone_no\u001b[0m\u001b[0;34m)\u001b[0m\u001b[0;34m:\u001b[0m\u001b[0;34m\u001b[0m\u001b[0m\n",
      "\u001b[0;31mValueError\u001b[0m: invalid literal for int() with base 10: ''"
     ]
    }
   ],
   "source": [
    "# Enter your code here. Read input from STDIN. Print output to STDOUT\n",
    "import re\n",
    "\n",
    "phoneNoExp = re.compile(r'^[789]\\d{9}$')\n",
    "\n",
    "n = int(input())\n",
    "\n",
    "def verify_phone_no(phone_no):\n",
    "    mo = phoneNoExp.search(phone_no)\n",
    "\n",
    "    if mo:\n",
    "        return True\n",
    "    else:\n",
    "        return False\n",
    "\n",
    "for i in range(n):\n",
    "    phone_no = input()\n",
    "    if verify_phone_no(phone_no):\n",
    "        print(\"YES\")\n",
    "    else:\n",
    "        print(\"NO\")\n"
   ]
  },
  {
   "cell_type": "code",
   "execution_count": null,
   "metadata": {},
   "outputs": [],
   "source": []
  },
  {
   "cell_type": "markdown",
   "metadata": {},
   "source": [
    "### Learning\n",
    "\n",
    "- search just look for if a match is there or not\n",
    "- but we have to make sure that a mere match is not enough\n",
    "    - we have to eliminate match but wrong possiblites\n",
    "    - a 11 digit number should not match a phone number string\n",
    "    - first step:\n",
    "        - get all the matching possiblities\n",
    "        - then eliminate from them\n",
    "##### always ask where is your elimination criteria"
   ]
  },
  {
   "cell_type": "code",
   "execution_count": 37,
   "metadata": {},
   "outputs": [],
   "source": [
    "failed_string = ['background: #ff0030;',\n",
    "                 'color: #fff;',\n",
    "                 'border: 2px dashed #fff;',\n",
    "                 'box-shadow: 0 0 0 4px #ff0030, 2px 1px 6px 4px rgba(10, 10, 0, 0.5);',\n",
    "                 'text-shadow: -1px -1px #aa3030, #aa3031;'\n",
    "                ]\n"
   ]
  },
  {
   "cell_type": "code",
   "execution_count": 38,
   "metadata": {},
   "outputs": [
    {
     "name": "stdout",
     "output_type": "stream",
     "text": [
      "background: #ff0030;\n",
      "[('#ff0030', '#ff0030', 'ff0030', '', 'ff0030')]\n",
      "#ff0030\n",
      "color: #fff;\n",
      "[('#fff', '#fff', 'fff', 'fff', '')]\n",
      "#fff\n",
      "border: 2px dashed #fff;\n",
      "[('#fff', '#fff', 'fff', 'fff', '')]\n",
      "#fff\n",
      "box-shadow: 0 0 0 4px #ff0030, 2px 1px 6px 4px rgba(10, 10, 0, 0.5);\n",
      "[('#ff0030', '#ff0030', 'ff0030', '', 'ff0030')]\n",
      "#ff0030\n",
      "text-shadow: -1px -1px #aa3030, #aa3031;\n",
      "[('#aa3030', '#aa3030', 'aa3030', '', 'aa3030')]\n",
      "#aa3030\n"
     ]
    }
   ],
   "source": [
    "# Enter your code here. Read input from STDIN. Print output to STDOUT\n",
    "# Enter your code here. Read input from STDIN. Print output to STDOUT\n",
    "import re\n",
    "\n",
    "#colorValExp = re.compile(r':.*?(#(([a-fA-F0-9]{3})|([a-fA-F0-9]{6})))\\b)+')\n",
    "colorValExp = re.compile(r':.*?((#(([a-fA-F0-9]{3})|([a-fA-F0-9]{6})))\\b.*?)+')\n",
    "#colorValExp = re.compile(r'^#(([a-fA-F0-9]{3})|([a-fA-F0-9]{6}))\\$') # will this work?\n",
    "\n",
    "n = len(failed_string)\n",
    "\n",
    "def verify_color_val(line):\n",
    "    #mo = colorValExp.search(line)\n",
    "    mo_list = colorValExp.findall(line)\n",
    "    \n",
    "    print(mo_list)\n",
    "\n",
    "    for tup in mo_list:\n",
    "        print(tup[0])\n",
    "    #if mo:\n",
    "    #    print(mo.group(), mo.groups())\n",
    "    #else:\n",
    "    #    print(\"None found in\", line)\n",
    "\n",
    "for line in failed_string:\n",
    "    #print(i)\n",
    "    line = line\n",
    "    print(line)\n",
    "    verify_color_val(line)"
   ]
  },
  {
   "cell_type": "markdown",
   "metadata": {},
   "source": [
    "### Learning\n",
    "    - \\w cannot match '-'\n",
    "    - :.*?# --> non greedy of all character between : and #\n",
    "    - .?* is wrong"
   ]
  },
  {
   "cell_type": "code",
   "execution_count": null,
   "metadata": {},
   "outputs": [],
   "source": []
  },
  {
   "cell_type": "code",
   "execution_count": null,
   "metadata": {},
   "outputs": [],
   "source": []
  },
  {
   "cell_type": "code",
   "execution_count": null,
   "metadata": {},
   "outputs": [],
   "source": []
  }
 ],
 "metadata": {
  "kernelspec": {
   "display_name": "Python 3",
   "language": "python",
   "name": "python3"
  },
  "language_info": {
   "codemirror_mode": {
    "name": "ipython",
    "version": 3
   },
   "file_extension": ".py",
   "mimetype": "text/x-python",
   "name": "python",
   "nbconvert_exporter": "python",
   "pygments_lexer": "ipython3",
   "version": "3.5.2"
  }
 },
 "nbformat": 4,
 "nbformat_minor": 2
}
