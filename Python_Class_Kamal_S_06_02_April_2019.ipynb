{
 "cells": [
  {
   "cell_type": "markdown",
   "metadata": {},
   "source": [
    "### \n",
    "\n",
    "- 1 - Formal positioning -- finished\n",
    "- 2 - *args\n",
    "- 3 - keyword arguments\n",
    "- 4 - **keywords"
   ]
  },
  {
   "cell_type": "markdown",
   "metadata": {},
   "source": [
    "### 2) *args -- Variable arguments"
   ]
  },
  {
   "cell_type": "code",
   "execution_count": 4,
   "metadata": {},
   "outputs": [
    {
     "name": "stdout",
     "output_type": "stream",
     "text": [
      "(1, 2, 3, 4, 1.2, -5, 6)\n",
      "Element = 1\n",
      "Element = 2\n",
      "Element = 3\n",
      "Element = 4\n",
      "Element = 1.2\n",
      "Element = -5\n",
      "Element = 6\n",
      "12.2\n"
     ]
    }
   ],
   "source": [
    "def add (*args):\n",
    "    print(args)\n",
    "    result  = 0\n",
    "    for elem in args:\n",
    "        print(\"Element = {}\".format(elem))\n",
    "        result += elem\n",
    "    return result\n",
    "    \n",
    "    \n",
    "print(add(1, 2, 3, 4, 1.2, -5, 6))"
   ]
  },
  {
   "cell_type": "code",
   "execution_count": 5,
   "metadata": {},
   "outputs": [
    {
     "name": "stdout",
     "output_type": "stream",
     "text": [
      "(1, 2, 3, 4, 1.2, -5, 6)\n",
      "Element = 1\n",
      "Element = 2\n",
      "Element = 3\n",
      "Element = 4\n",
      "Element = 1.2\n",
      "Element = -5\n",
      "Element = 6\n",
      "12.2\n"
     ]
    }
   ],
   "source": [
    "def ops (op, *args):\n",
    "    print(args)\n",
    "    result  = 0\n",
    "    \n",
    "    if op == \"add\":\n",
    "        result  = 0\n",
    "        for elem in args:\n",
    "            print(\"Element = {}\".format(elem))\n",
    "            result += elem\n",
    "    elif op == \"mul\":\n",
    "        result  = 1\n",
    "        for elem in args:\n",
    "            print(\"Element = {}\".format(elem))\n",
    "            result *= elem\n",
    "    else:\n",
    "        print(\"Invalid Operation\")\n",
    "    return result\n",
    "    \n",
    "    \n",
    "print(ops(\"add\", 1, 2, 3, 4, 1.2, -5, 6))"
   ]
  },
  {
   "cell_type": "code",
   "execution_count": 6,
   "metadata": {},
   "outputs": [
    {
     "name": "stdout",
     "output_type": "stream",
     "text": [
      "(1, 2, 3, 4, 1.2, -5, 6)\n",
      "Element = 1\n",
      "Element = 2\n",
      "Element = 3\n",
      "Element = 4\n",
      "Element = 1.2\n",
      "Element = -5\n",
      "Element = 6\n",
      "-864.0\n"
     ]
    }
   ],
   "source": [
    "print(ops(\"mul\", 1, 2, 3, 4, 1.2, -5, 6))"
   ]
  },
  {
   "cell_type": "code",
   "execution_count": null,
   "metadata": {},
   "outputs": [],
   "source": []
  }
 ],
 "metadata": {
  "kernelspec": {
   "display_name": "Python 3",
   "language": "python",
   "name": "python3"
  },
  "language_info": {
   "codemirror_mode": {
    "name": "ipython",
    "version": 3
   },
   "file_extension": ".py",
   "mimetype": "text/x-python",
   "name": "python",
   "nbconvert_exporter": "python",
   "pygments_lexer": "ipython3",
   "version": "3.6.5"
  }
 },
 "nbformat": 4,
 "nbformat_minor": 2
}
