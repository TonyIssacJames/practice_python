{
 "cells": [
  {
   "cell_type": "code",
   "execution_count": 1,
   "metadata": {},
   "outputs": [],
   "source": [
    "list1 = [12, 34, 56, 1, 8]"
   ]
  },
  {
   "cell_type": "code",
   "execution_count": 7,
   "metadata": {},
   "outputs": [
    {
     "name": "stdout",
     "output_type": "stream",
     "text": [
      "[144, 1156, 3136, 1, 64]\n"
     ]
    }
   ],
   "source": [
    "list2 = [i**2 for i in  list1]\n",
    "print(list2)"
   ]
  },
  {
   "cell_type": "code",
   "execution_count": 12,
   "metadata": {},
   "outputs": [
    {
     "name": "stdout",
     "output_type": "stream",
     "text": [
      "CPU times: user 3.42 s, sys: 316 ms, total: 3.73 s\n",
      "Wall time: 3.75 s\n"
     ]
    }
   ],
   "source": [
    "def fun():\n",
    "   leng = 10000000\n",
    "   list1 = list(range(leng))\n",
    "   list2 = []\n",
    "   for i in list1:\n",
    "       list2.append(i**2)\n",
    "   #print(list2)\n",
    "%time fun()"
   ]
  },
  {
   "cell_type": "code",
   "execution_count": 13,
   "metadata": {},
   "outputs": [
    {
     "name": "stdout",
     "output_type": "stream",
     "text": [
      "CPU times: user 3.97 s, sys: 328 ms, total: 4.3 s\n",
      "Wall time: 4.31 s\n"
     ]
    }
   ],
   "source": [
    "def fun1():\n",
    "   leng = 10000000\n",
    "   list1 = list(range(leng))\n",
    "   list2 = list(map(lambda x:x**2, list1))\n",
    "   #print(list2)\n",
    "%time fun1()"
   ]
  },
  {
   "cell_type": "code",
   "execution_count": 15,
   "metadata": {},
   "outputs": [
    {
     "name": "stdout",
     "output_type": "stream",
     "text": [
      "CPU times: user 3.4 s, sys: 160 ms, total: 3.56 s\n",
      "Wall time: 3.58 s\n",
      "CPU times: user 3.67 s, sys: 220 ms, total: 3.89 s\n",
      "Wall time: 3.89 s\n"
     ]
    }
   ],
   "source": [
    "leng = 10000000\n",
    "list1 = list(range(leng))\n",
    "\n",
    "\n",
    "def fun():\n",
    "    global list1\n",
    "    list2 = []\n",
    "    for i in list1:\n",
    "        list2.append(i**2)\n",
    "   #print(list2)\n",
    "%time fun()\n",
    "\n",
    "\n",
    "def fun1():\n",
    "    global list1\n",
    "    list2 = list(map(lambda x:x**2, list1))\n",
    "   #print(list2)\n",
    "%time fun1()"
   ]
  },
  {
   "cell_type": "markdown",
   "metadata": {},
   "source": [
    "### Map\n",
    "\n",
    "- map returns an iterable, so we have to enclose it with a list\n",
    "- there is no break, continue, pause\n",
    "- if you want to apply it to all the elements in  a list"
   ]
  },
  {
   "cell_type": "code",
   "execution_count": 19,
   "metadata": {},
   "outputs": [
    {
     "name": "stdout",
     "output_type": "stream",
     "text": [
      "CPU times: user 5.34 s, sys: 148 ms, total: 5.49 s\n",
      "Wall time: 5.51 s\n",
      "CPU times: user 5.8 s, sys: 178 ms, total: 5.98 s\n",
      "Wall time: 6.08 s\n"
     ]
    }
   ],
   "source": [
    "leng = 10000000\n",
    "list1 = list(range(leng))\n",
    "\n",
    "\n",
    "def fun():\n",
    "    global list1\n",
    "    list2 = []\n",
    "    for i in list1:\n",
    "        list2.append(i**2 +i*1.2+1.2)\n",
    "   #print(list2)\n",
    "%time fun()\n",
    "\n",
    "\n",
    "def fun1():\n",
    "    global list1\n",
    "    list2 = list(map(lambda i:i**2 +i*1.2+1.2, list1))\n",
    "   #print(list2)\n",
    "%time fun1()"
   ]
  },
  {
   "cell_type": "code",
   "execution_count": 28,
   "metadata": {},
   "outputs": [
    {
     "name": "stdout",
     "output_type": "stream",
     "text": [
      "CPU times: user 3.55 s, sys: 327 ms, total: 3.88 s\n",
      "Wall time: 3.92 s\n",
      "CPU times: user 6.27 s, sys: 87.8 ms, total: 6.36 s\n",
      "Wall time: 6.41 s\n",
      "CPU times: user 5.92 s, sys: 131 ms, total: 6.05 s\n",
      "Wall time: 6.16 s\n"
     ]
    }
   ],
   "source": [
    "def fun():\n",
    "   leng = 10000000\n",
    "   list1 = list(range(leng))\n",
    "   list2 = []\n",
    "   for i in list1:\n",
    "       list2.append(i**2)\n",
    "   #print(list2)\n",
    "%time fun()\n",
    "\n",
    "\n",
    "leng = 10000000\n",
    "list1 = list(range(leng))\n",
    "\n",
    "def square(i):\n",
    "   return i**2+i*1.2+1.2\n",
    "\n",
    "def fun():\n",
    "   global list1\n",
    "   list2 = []\n",
    "   for i in list1:\n",
    "       list2.append(square(i))\n",
    "        \n",
    "def fun2():\n",
    "   global list1\n",
    "   list2 = list(map(lambda i:i**2+i*1.2+1.2, list1))\n",
    "%time fun()\n",
    "%time fun2()"
   ]
  },
  {
   "cell_type": "markdown",
   "metadata": {},
   "source": [
    "###  if we re assign to a tuple will it be fast?"
   ]
  },
  {
   "cell_type": "markdown",
   "metadata": {},
   "source": [
    "## Lambda function\n",
    "\n",
    "- we should not comprimise on modularity\n",
    "- it is invented to overcome the complexity of function call\n",
    "- let's write lamda functions for small functions\n",
    "- it looks like they won't allocalte stack\n",
    "    - so faster"
   ]
  },
  {
   "cell_type": "code",
   "execution_count": 24,
   "metadata": {},
   "outputs": [
    {
     "data": {
      "text/plain": [
       "4.08"
      ]
     },
     "execution_count": 24,
     "metadata": {},
     "output_type": "execute_result"
    }
   ],
   "source": [
    "pi = 1.2\n",
    "\n",
    "\n",
    "polynomial_eq = lambda x:x**2 + pi*1.2 + 1.2\n",
    "\n",
    "polynomial_eq(1.2)"
   ]
  },
  {
   "cell_type": "code",
   "execution_count": 25,
   "metadata": {},
   "outputs": [
    {
     "name": "stdout",
     "output_type": "stream",
     "text": [
      "106.168\n"
     ]
    }
   ],
   "source": [
    "pi = 3.14\n",
    "\n",
    "def poly_eq(i):\n",
    "    global pi\n",
    "    pi = pi + 1\n",
    "    return i**2 + 1.2*pi+ 1.2\n",
    "    \n",
    "    \n",
    "print(poly_eq(10))"
   ]
  },
  {
   "cell_type": "code",
   "execution_count": 26,
   "metadata": {},
   "outputs": [
    {
     "data": {
      "text/plain": [
       "7.608000000000001"
      ]
     },
     "execution_count": 26,
     "metadata": {},
     "output_type": "execute_result"
    }
   ],
   "source": [
    "polynomial_eq(1.2)"
   ]
  },
  {
   "cell_type": "code",
   "execution_count": 27,
   "metadata": {},
   "outputs": [
    {
     "data": {
      "text/plain": [
       "8.639999999999999"
      ]
     },
     "execution_count": 27,
     "metadata": {},
     "output_type": "execute_result"
    }
   ],
   "source": [
    "pi = 5\n",
    "\n",
    "polynomial_eq(1.2)"
   ]
  },
  {
   "cell_type": "markdown",
   "metadata": {},
   "source": [
    "## Filter"
   ]
  },
  {
   "cell_type": "code",
   "execution_count": 42,
   "metadata": {},
   "outputs": [
    {
     "name": "stdout",
     "output_type": "stream",
     "text": [
      "CPU times: user 1.48 ms, sys: 76 µs, total: 1.55 ms\n",
      "Wall time: 1.56 ms\n",
      "CPU times: user 1.9 ms, sys: 0 ns, total: 1.9 ms\n",
      "Wall time: 1.91 ms\n"
     ]
    }
   ],
   "source": [
    "\n",
    "leng = 10000\n",
    "list1 = list(range(leng))\n",
    "\n",
    "def verify(i):\n",
    "    return i%2\n",
    "\n",
    "def fun():\n",
    "    global list1\n",
    "    list2 = []\n",
    "    for i in list1:\n",
    "        if verify(i):\n",
    "            list2.append(i)\n",
    "\n",
    "    #print(list2)\n",
    "\n",
    "def fun2():\n",
    "    global list1\n",
    "    list2 = list(filter(lambda i:i%2, list1))\n",
    "    #print(list2)\n",
    "\n",
    "%time fun()\n",
    "%time fun2()"
   ]
  },
  {
   "cell_type": "code",
   "execution_count": 47,
   "metadata": {},
   "outputs": [
    {
     "name": "stdout",
     "output_type": "stream",
     "text": [
      "{'Fuzzal': 80, 'Kamal': 45, 'Babu': 70, 'Tony': 90}\n",
      "['Fuzzal', 'Tony']\n"
     ]
    }
   ],
   "source": [
    "students = {\"Kamal\":45, \"Fuzzal\":80, \"Tony\":90, \"Babu\":70}\n",
    "\n",
    "print(students)\n",
    "list2 = list(filter(lambda key:students[key] >= 80, students.keys()))\n",
    "\n",
    "print(list2)"
   ]
  },
  {
   "cell_type": "markdown",
   "metadata": {},
   "source": [
    "### How the above function works\n",
    "\n",
    "- so what ever coming out from the list is taken as name/key"
   ]
  },
  {
   "cell_type": "code",
   "execution_count": 49,
   "metadata": {},
   "outputs": [
    {
     "name": "stdout",
     "output_type": "stream",
     "text": [
      "{'Fuzzal': 80, 'Kamal': 45, 'Babu': 70, 'Tony': 90}\n",
      "['Fuzzal', 'Tony']\n"
     ]
    }
   ],
   "source": [
    "students = {\"Kamal\":45, \"Fuzzal\":80, \"Tony\":90, \"Babu\":70}\n",
    "\n",
    "print(students)\n",
    "list2 = [key for key in students.keys() if students[key] >=80]\n",
    "\n",
    "print(list2)"
   ]
  },
  {
   "cell_type": "code",
   "execution_count": 4,
   "metadata": {},
   "outputs": [],
   "source": [
    "from functools import reduce"
   ]
  },
  {
   "cell_type": "code",
   "execution_count": 51,
   "metadata": {},
   "outputs": [],
   "source": [
    "list1 = [10, 20, 40, 1, 4, 8]"
   ]
  },
  {
   "cell_type": "code",
   "execution_count": 53,
   "metadata": {},
   "outputs": [
    {
     "name": "stdout",
     "output_type": "stream",
     "text": [
      "83\n"
     ]
    }
   ],
   "source": [
    "sum1 = reduce(lambda x,y: x+ y, list1)\n",
    "\n",
    "print(sum1)"
   ]
  },
  {
   "cell_type": "markdown",
   "metadata": {},
   "source": [
    "## How reduce works\n",
    "\n",
    "- 10, 20 --> 30\n",
    "- 40, 30 --> 70\n",
    "- 1 , 70 --> 71\n",
    "- 4 , 71 --> 75\n",
    "- 8 , 75 --> 83"
   ]
  },
  {
   "cell_type": "code",
   "execution_count": 54,
   "metadata": {},
   "outputs": [
    {
     "name": "stdout",
     "output_type": "stream",
     "text": [
      "kamaltonybabufuzzal\n"
     ]
    }
   ],
   "source": [
    "list1 = [\"kamal\", \"tony\", \"babu\", \"fuzzal\"]\n",
    "\n",
    "sum1 = reduce(lambda x,y: x+ y, list1)\n",
    "\n",
    "print(sum1)"
   ]
  },
  {
   "cell_type": "code",
   "execution_count": 55,
   "metadata": {},
   "outputs": [
    {
     "name": "stdout",
     "output_type": "stream",
     "text": [
      "1\n"
     ]
    }
   ],
   "source": [
    "list1 = [10, 20, 40, 1, 4, 8]\n",
    "\n",
    "min1 = reduce(lambda x,y: min(x,y), list1)\n",
    "\n",
    "print(min1)"
   ]
  },
  {
   "cell_type": "code",
   "execution_count": 56,
   "metadata": {},
   "outputs": [
    {
     "name": "stdout",
     "output_type": "stream",
     "text": [
      "40\n"
     ]
    }
   ],
   "source": [
    "list1 = [10, 20, 40, 1, 4, 8]\n",
    "\n",
    "min1 = reduce(lambda x,y: max(x,y), list1)\n",
    "\n",
    "print(min1)"
   ]
  },
  {
   "cell_type": "code",
   "execution_count": 2,
   "metadata": {},
   "outputs": [],
   "source": [
    "string1 = \"banana 100 pomogranate 200 apple 300 kiwi 100\""
   ]
  },
  {
   "cell_type": "code",
   "execution_count": 74,
   "metadata": {},
   "outputs": [
    {
     "name": "stdout",
     "output_type": "stream",
     "text": [
      "700\n"
     ]
    }
   ],
   "source": [
    "\n",
    "\n",
    "sum = reduce(lambda x,y: x+ y, map(int,filter(lambda num: num.isnumeric(),string1.split())))\n",
    "\n",
    "print(sum)"
   ]
  },
  {
   "cell_type": "code",
   "execution_count": 72,
   "metadata": {},
   "outputs": [
    {
     "name": "stdout",
     "output_type": "stream",
     "text": [
      "[100, 200, 300, 100]\n"
     ]
    }
   ],
   "source": [
    "list1 = list(map(int, filter(lambda num: num.isnumeric(), string1.split())))\n",
    "print(list1)"
   ]
  },
  {
   "cell_type": "code",
   "execution_count": 75,
   "metadata": {},
   "outputs": [
    {
     "name": "stdout",
     "output_type": "stream",
     "text": [
      "[1, 2, 3, 4]\n"
     ]
    }
   ],
   "source": [
    "list2 = [ 1,\n",
    "        2,\n",
    "        3,\n",
    "        4]\n",
    "\n",
    "print(list2)"
   ]
  },
  {
   "cell_type": "code",
   "execution_count": 76,
   "metadata": {},
   "outputs": [
    {
     "ename": "IndentationError",
     "evalue": "unexpected indent (<ipython-input-76-8810d3c8805a>, line 2)",
     "output_type": "error",
     "traceback": [
      "\u001b[0;36m  File \u001b[0;32m\"<ipython-input-76-8810d3c8805a>\"\u001b[0;36m, line \u001b[0;32m2\u001b[0m\n\u001b[0;31m    2]\u001b[0m\n\u001b[0m    ^\u001b[0m\n\u001b[0;31mIndentationError\u001b[0m\u001b[0;31m:\u001b[0m unexpected indent\n"
     ]
    }
   ],
   "source": [
    "\n",
    "        2]\n",
    "        3,\n",
    "        4,\n",
    "list2 = [ 1,\n",
    "\n",
    "print(list2)"
   ]
  },
  {
   "cell_type": "code",
   "execution_count": 5,
   "metadata": {},
   "outputs": [
    {
     "name": "stdout",
     "output_type": "stream",
     "text": [
      "700\n"
     ]
    }
   ],
   "source": [
    "sum = reduce(lambda x,y: x+ y, \n",
    "             map(int,\n",
    "             filter(lambda string: string.isnumeric(), string1.split())\n",
    "                )\n",
    "            )\n",
    "\n",
    "print(sum)"
   ]
  },
  {
   "cell_type": "code",
   "execution_count": 80,
   "metadata": {},
   "outputs": [
    {
     "name": "stdout",
     "output_type": "stream",
     "text": [
      "5050\n"
     ]
    }
   ],
   "source": [
    "sum_100 = reduce(lambda x, y: x + y, range(1,101))\n",
    "print(sum_100)"
   ]
  },
  {
   "cell_type": "code",
   "execution_count": 82,
   "metadata": {},
   "outputs": [
    {
     "ename": "TypeError",
     "evalue": "<lambda>() missing 1 required positional argument: 'z'",
     "output_type": "error",
     "traceback": [
      "\u001b[0;31m---------------------------------------------------------------------------\u001b[0m",
      "\u001b[0;31mTypeError\u001b[0m                                 Traceback (most recent call last)",
      "\u001b[0;32m<ipython-input-82-59e2403c09c1>\u001b[0m in \u001b[0;36m<module>\u001b[0;34m\u001b[0m\n\u001b[0;32m----> 1\u001b[0;31m \u001b[0msum_100\u001b[0m \u001b[0;34m=\u001b[0m \u001b[0mreduce\u001b[0m\u001b[0;34m(\u001b[0m\u001b[0;32mlambda\u001b[0m \u001b[0mx\u001b[0m\u001b[0;34m,\u001b[0m \u001b[0my\u001b[0m\u001b[0;34m,\u001b[0m \u001b[0mz\u001b[0m\u001b[0;34m:\u001b[0m \u001b[0mx\u001b[0m \u001b[0;34m+\u001b[0m \u001b[0my\u001b[0m \u001b[0;34m+\u001b[0m \u001b[0mz\u001b[0m\u001b[0;34m,\u001b[0m \u001b[0mrange\u001b[0m\u001b[0;34m(\u001b[0m\u001b[0;36m1\u001b[0m\u001b[0;34m,\u001b[0m\u001b[0;36m101\u001b[0m\u001b[0;34m)\u001b[0m\u001b[0;34m,\u001b[0m \u001b[0;36m0\u001b[0m\u001b[0;34m)\u001b[0m\u001b[0;34m\u001b[0m\u001b[0m\n\u001b[0m\u001b[1;32m      2\u001b[0m \u001b[0mprint\u001b[0m\u001b[0;34m(\u001b[0m\u001b[0msum_100\u001b[0m\u001b[0;34m)\u001b[0m\u001b[0;34m\u001b[0m\u001b[0m\n",
      "\u001b[0;31mTypeError\u001b[0m: <lambda>() missing 1 required positional argument: 'z'"
     ]
    }
   ],
   "source": [
    "sum_100 = reduce(lambda x, y, z: x + y + z, range(1,101), 0)\n",
    "print(sum_100)"
   ]
  },
  {
   "cell_type": "markdown",
   "metadata": {},
   "source": [
    "#### Cannot we write a code with 3 arguments for reduce"
   ]
  },
  {
   "cell_type": "code",
   "execution_count": 92,
   "metadata": {},
   "outputs": [
    {
     "name": "stdout",
     "output_type": "stream",
     "text": [
      "/bin/sh: 1: conda: not found\r\n"
     ]
    }
   ],
   "source": []
  },
  {
   "cell_type": "code",
   "execution_count": 93,
   "metadata": {},
   "outputs": [
    {
     "name": "stdout",
     "output_type": "stream",
     "text": [
      "[22, 54, 62]\n"
     ]
    }
   ],
   "source": [
    "list3 = [5, 7, 22, 97, 54, 62, 77, 23, 73, 61] \n",
    "\n",
    "even_list = list(filter(lambda x: x&1 == 0, list3))\n",
    "\n",
    "print(even_list)"
   ]
  },
  {
   "cell_type": "code",
   "execution_count": 87,
   "metadata": {},
   "outputs": [
    {
     "ename": "NameError",
     "evalue": "name 'fractions' is not defined",
     "output_type": "error",
     "traceback": [
      "\u001b[0;31m---------------------------------------------------------------------------\u001b[0m",
      "\u001b[0;31mNameError\u001b[0m                                 Traceback (most recent call last)",
      "\u001b[0;32m<ipython-input-87-32aefd68a067>\u001b[0m in \u001b[0;36m<module>\u001b[0;34m\u001b[0m\n\u001b[0;32m----> 1\u001b[0;31m \u001b[0mdir\u001b[0m\u001b[0;34m(\u001b[0m\u001b[0mfractions\u001b[0m\u001b[0;34m)\u001b[0m\u001b[0;34m\u001b[0m\u001b[0m\n\u001b[0m",
      "\u001b[0;31mNameError\u001b[0m: name 'fractions' is not defined"
     ]
    }
   ],
   "source": []
  },
  {
   "cell_type": "code",
   "execution_count": 95,
   "metadata": {},
   "outputs": [
    {
     "data": {
      "text/plain": [
       "40.0"
      ]
     },
     "execution_count": 95,
     "metadata": {},
     "output_type": "execute_result"
    }
   ],
   "source": [
    "((10 + 2) * 100 / 5 - 200)"
   ]
  },
  {
   "cell_type": "code",
   "execution_count": 96,
   "metadata": {},
   "outputs": [
    {
     "data": {
      "text/plain": [
       "40.0"
      ]
     },
     "execution_count": 96,
     "metadata": {},
     "output_type": "execute_result"
    }
   ],
   "source": [
    "_"
   ]
  },
  {
   "cell_type": "code",
   "execution_count": null,
   "metadata": {},
   "outputs": [],
   "source": []
  }
 ],
 "metadata": {
  "kernelspec": {
   "display_name": "Python 3",
   "language": "python",
   "name": "python3"
  },
  "language_info": {
   "codemirror_mode": {
    "name": "ipython",
    "version": 3
   },
   "file_extension": ".py",
   "mimetype": "text/x-python",
   "name": "python",
   "nbconvert_exporter": "python",
   "pygments_lexer": "ipython3",
   "version": "3.5.2"
  }
 },
 "nbformat": 4,
 "nbformat_minor": 2
}
