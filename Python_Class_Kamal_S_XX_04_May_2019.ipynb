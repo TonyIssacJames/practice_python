{
 "cells": [
  {
   "cell_type": "markdown",
   "metadata": {},
   "source": [
    "## Uses of Python, various libraries\n",
    "\n",
    "- WPD\n",
    "    - Flask, Django\n",
    "    \n",
    "- System\n",
    "    - socket\n",
    "    - OS\n",
    "    - multiprocessing / threading\n",
    "    \n",
    "- GUI\n",
    "    - Tkinter\n",
    "\n",
    "- WS\n",
    "    - BeautifulSoup\n",
    "    \n",
    "- RPi\n",
    "    - RPi GPIO\n",
    "    \n",
    "- Python needs an OS\n",
    "    - so it cannot be used run on Micro controllers\n",
    "    \n",
    "    "
   ]
  },
  {
   "cell_type": "code",
   "execution_count": 3,
   "metadata": {},
   "outputs": [],
   "source": [
    "import os "
   ]
  },
  {
   "cell_type": "code",
   "execution_count": 6,
   "metadata": {},
   "outputs": [],
   "source": [
    "#os.listdir()"
   ]
  },
  {
   "cell_type": "markdown",
   "metadata": {},
   "source": [
    "## Multithreading and Multiprocessing"
   ]
  },
  {
   "cell_type": "markdown",
   "metadata": {},
   "source": [
    "##### Multi-process\n",
    "- each process has it's own code, data, stack, registers\n",
    "- all data, heap, stakc, code has to be copied for child process\n",
    "- it can consume lot of resources\n",
    "- if the data need to be shared is less, then you can go for multiprocessing\n",
    "- Example:\n",
    "    - Word processing & Spell Checking\n",
    "    - you have to share a lot of data between Spell check and Word doc\n",
    "    - and the respose have to be fast to\n",
    "    - go for multi-threading\n",
    "- Reccommended for totally isolated processing\n",
    "\n",
    "    \n",
    "\n",
    "##### Multi-threading\n",
    "- common code, data, files\n",
    "- a process can have many threads\n",
    "- has to be supported processor level?\n",
    "- here only stack has to be copied, remaining will be shared (data, code, heap)\n"
   ]
  },
  {
   "cell_type": "markdown",
   "metadata": {},
   "source": [
    "- parent thread and has same id\n",
    "- lock() is the mechanism to control resource access\n",
    "- but threading and multiprocess has differnet lock function to be used"
   ]
  },
  {
   "cell_type": "code",
   "execution_count": 27,
   "metadata": {},
   "outputs": [
    {
     "name": "stdout",
     "output_type": "stream",
     "text": [
      "In parent pid = 2643,tid = <_MainThread(MainThread, started 139766070064896)>\n",
      "a=  20\n",
      "Val is 10, pid = 2643 and tid = <Thread(thread 1, started 139765349349120)> time= 1556988012.977962\n",
      "Releaing the lock\n",
      "t1.name thread 1 time= 1556988017.9831355\n",
      "\n"
     ]
    }
   ],
   "source": [
    "from  threading import Thread, Lock\n",
    "import os\n",
    "import time\n",
    "\n",
    "a = 10\n",
    "\n",
    "def fun(val):\n",
    "    time.sleep(5)\n",
    "    print(\"a= \", a)\n",
    "    print(\"Val is {}, pid = {} and tid = {} time= {}\".\n",
    "          format(val, os.getpid(),threading.current_thread(),time.time() ))\n",
    "\n",
    "#Creating Thrad\n",
    "t1 = Thread(target=fun, args=(10,))\n",
    "t1.name = \"thread 1\"\n",
    "print(\"In parent pid = {},tid = {}\" .format(os.getpid(),threading.current_thread()))\n",
    "\n",
    "#Creating the lock\n",
    "lock = threading.Lock()\n",
    "\n",
    "\n",
    "a = 20\n",
    "#2() Acquiring the lock\n",
    "lock.acquire()\n",
    "#Starting thread\n",
    "t1.start()\n",
    "\n",
    "time.sleep(10)\n",
    "\n",
    "\n",
    "#3) Releaisng the lock\n",
    "print(\"Releaing the lock\")\n",
    "lock.release()\n",
    "print(\"t1.name\", t1.name, \"time=\", time.time())\n",
    "print()"
   ]
  },
  {
   "cell_type": "code",
   "execution_count": null,
   "metadata": {},
   "outputs": [],
   "source": []
  }
 ],
 "metadata": {
  "kernelspec": {
   "display_name": "Python 3",
   "language": "python",
   "name": "python3"
  },
  "language_info": {
   "codemirror_mode": {
    "name": "ipython",
    "version": 3
   },
   "file_extension": ".py",
   "mimetype": "text/x-python",
   "name": "python",
   "nbconvert_exporter": "python",
   "pygments_lexer": "ipython3",
   "version": "3.5.2"
  }
 },
 "nbformat": 4,
 "nbformat_minor": 2
}
