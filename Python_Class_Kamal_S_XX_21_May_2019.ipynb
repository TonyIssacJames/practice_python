{
 "cells": [
  {
   "cell_type": "code",
   "execution_count": 6,
   "metadata": {},
   "outputs": [],
   "source": [
    "# import numpy"
   ]
  },
  {
   "cell_type": "code",
   "execution_count": 2,
   "metadata": {},
   "outputs": [],
   "source": [
    "import os"
   ]
  },
  {
   "cell_type": "code",
   "execution_count": 3,
   "metadata": {},
   "outputs": [],
   "source": [
    "import matplotlib"
   ]
  },
  {
   "cell_type": "code",
   "execution_count": 4,
   "metadata": {},
   "outputs": [],
   "source": [
    "import numpy as np"
   ]
  },
  {
   "cell_type": "markdown",
   "metadata": {},
   "source": []
  },
  {
   "cell_type": "code",
   "execution_count": null,
   "metadata": {},
   "outputs": [],
   "source": []
  },
  {
   "cell_type": "code",
   "execution_count": 5,
   "metadata": {},
   "outputs": [],
   "source": [
    "import time"
   ]
  },
  {
   "cell_type": "code",
   "execution_count": 7,
   "metadata": {},
   "outputs": [],
   "source": [
    "list1 = list(range(10000000))\n",
    "list2 = list(range(10000000))"
   ]
  },
  {
   "cell_type": "code",
   "execution_count": 12,
   "metadata": {},
   "outputs": [
    {
     "name": "stdout",
     "output_type": "stream",
     "text": [
      "time taken to add = 1.243816614151001\n"
     ]
    }
   ],
   "source": [
    "start = time.time()\n",
    "list3 = list(map(lambda x,y: x+y, list1, list2))\n",
    "end   = time.time()\n",
    "\n",
    "print(\"time taken to add = {}\".format(end-start))"
   ]
  },
  {
   "cell_type": "code",
   "execution_count": 13,
   "metadata": {},
   "outputs": [],
   "source": [
    "np_list1 = np.arange(10000000)\n",
    "np_list2 = np.arange(10000000)"
   ]
  },
  {
   "cell_type": "code",
   "execution_count": 14,
   "metadata": {},
   "outputs": [
    {
     "name": "stdout",
     "output_type": "stream",
     "text": [
      "time taken to add = 0.043569087982177734\n"
     ]
    }
   ],
   "source": [
    "start = time.time()\n",
    "np_list3 = np_list1 + np_list2\n",
    "end   = time.time()\n",
    "\n",
    "print(\"time taken to add = {}\".format(end-start))"
   ]
  },
  {
   "cell_type": "code",
   "execution_count": 17,
   "metadata": {},
   "outputs": [
    {
     "name": "stdout",
     "output_type": "stream",
     "text": [
      "28\n",
      "112\n"
     ]
    }
   ],
   "source": [
    "import sys\n",
    "list1 = [1, 2, 3, 4, 5, 6]\n",
    "\n",
    "print(sys.getsizeof(list1[0]))\n",
    "print(sys.getsizeof(list1))"
   ]
  },
  {
   "cell_type": "code",
   "execution_count": 18,
   "metadata": {},
   "outputs": [
    {
     "name": "stdout",
     "output_type": "stream",
     "text": [
      "28\n",
      "152\n"
     ]
    }
   ],
   "source": [
    "import sys\n",
    "list1 = [1, 2, 3, 4, 5, 6, 7, 8, 9, 10, 11]\n",
    "\n",
    "print(sys.getsizeof(list1[0]))\n",
    "print(sys.getsizeof(list1))"
   ]
  },
  {
   "cell_type": "code",
   "execution_count": 20,
   "metadata": {},
   "outputs": [
    {
     "name": "stdout",
     "output_type": "stream",
     "text": [
      "size of np array =  144\n",
      "element =  32\n"
     ]
    }
   ],
   "source": [
    "np_list1 = np.array([1, 2, 3, 4, 5, 6])\n",
    "\n",
    "print(\"size of np array = \", sys.getsizeof(np_list1) )\n",
    "print(\"element = \", sys.getsizeof(np_list1[0]) )"
   ]
  },
  {
   "cell_type": "code",
   "execution_count": 22,
   "metadata": {},
   "outputs": [
    {
     "name": "stdout",
     "output_type": "stream",
     "text": [
      "24\n",
      "90000112\n",
      "size of np array =  80000096\n",
      "element =  32\n"
     ]
    }
   ],
   "source": [
    "import sys\n",
    "list1 = list(range(10000000))\n",
    "\n",
    "print(sys.getsizeof(list1[0]))\n",
    "print(sys.getsizeof(list1))\n",
    "\n",
    "np_list1 = np.arange(10000000)\n",
    "\n",
    "print(\"size of np array = \", sys.getsizeof(np_list1) )\n",
    "print(\"element = \", sys.getsizeof(np_list1[0]) )"
   ]
  },
  {
   "cell_type": "code",
   "execution_count": 23,
   "metadata": {},
   "outputs": [],
   "source": [
    "#to keep the flexibility to allocate any element we allocate 28 bytes in python\n",
    "# this is not possibile in numpy"
   ]
  },
  {
   "cell_type": "code",
   "execution_count": 24,
   "metadata": {},
   "outputs": [],
   "source": [
    "#Matlab is writte any Java may be that is very slowly"
   ]
  },
  {
   "cell_type": "code",
   "execution_count": 25,
   "metadata": {},
   "outputs": [],
   "source": [
    "a = np.arange(100)\n",
    "b = np.arange(100)\n",
    "\n",
    "start = time.time()\n",
    "\n",
    "\n"
   ]
  },
  {
   "cell_type": "code",
   "execution_count": 35,
   "metadata": {},
   "outputs": [],
   "source": [
    "a  = np.arange(100)\n"
   ]
  },
  {
   "cell_type": "code",
   "execution_count": 36,
   "metadata": {},
   "outputs": [],
   "source": [
    "a = a.reshape(10, 10)"
   ]
  },
  {
   "cell_type": "code",
   "execution_count": 37,
   "metadata": {},
   "outputs": [
    {
     "data": {
      "text/plain": [
       "array([[ 0,  1,  2,  3,  4,  5,  6,  7,  8,  9],\n",
       "       [10, 11, 12, 13, 14, 15, 16, 17, 18, 19],\n",
       "       [20, 21, 22, 23, 24, 25, 26, 27, 28, 29],\n",
       "       [30, 31, 32, 33, 34, 35, 36, 37, 38, 39],\n",
       "       [40, 41, 42, 43, 44, 45, 46, 47, 48, 49],\n",
       "       [50, 51, 52, 53, 54, 55, 56, 57, 58, 59],\n",
       "       [60, 61, 62, 63, 64, 65, 66, 67, 68, 69],\n",
       "       [70, 71, 72, 73, 74, 75, 76, 77, 78, 79],\n",
       "       [80, 81, 82, 83, 84, 85, 86, 87, 88, 89],\n",
       "       [90, 91, 92, 93, 94, 95, 96, 97, 98, 99]])"
      ]
     },
     "execution_count": 37,
     "metadata": {},
     "output_type": "execute_result"
    }
   ],
   "source": [
    "a"
   ]
  },
  {
   "cell_type": "code",
   "execution_count": 38,
   "metadata": {},
   "outputs": [
    {
     "name": "stdout",
     "output_type": "stream",
     "text": [
      "2\n"
     ]
    }
   ],
   "source": [
    "print(a.ndim)"
   ]
  },
  {
   "cell_type": "code",
   "execution_count": 39,
   "metadata": {},
   "outputs": [],
   "source": [
    "# Even strings you can load in numpy"
   ]
  },
  {
   "cell_type": "code",
   "execution_count": 40,
   "metadata": {},
   "outputs": [
    {
     "name": "stdout",
     "output_type": "stream",
     "text": [
      "str160\n"
     ]
    }
   ],
   "source": [
    "a = np.array([\"Kamal\", 1])\n",
    "\n",
    "print(a.dtype.name)"
   ]
  },
  {
   "cell_type": "code",
   "execution_count": 42,
   "metadata": {},
   "outputs": [
    {
     "name": "stdout",
     "output_type": "stream",
     "text": [
      "float64\n"
     ]
    }
   ],
   "source": [
    "a = np.array([1 ,2.5, 1])\n",
    "\n",
    "print(a.dtype.name)"
   ]
  },
  {
   "cell_type": "code",
   "execution_count": null,
   "metadata": {},
   "outputs": [],
   "source": [
    "# you have to give tuple for mulit dimensional arrray"
   ]
  },
  {
   "cell_type": "code",
   "execution_count": 44,
   "metadata": {},
   "outputs": [
    {
     "data": {
      "text/plain": [
       "array([[1., 1., 1.],\n",
       "       [1., 1., 1.]])"
      ]
     },
     "execution_count": 44,
     "metadata": {},
     "output_type": "execute_result"
    }
   ],
   "source": [
    "np.ones((2, 3))"
   ]
  },
  {
   "cell_type": "code",
   "execution_count": null,
   "metadata": {},
   "outputs": [],
   "source": []
  },
  {
   "cell_type": "code",
   "execution_count": 45,
   "metadata": {},
   "outputs": [
    {
     "data": {
      "text/plain": [
       "array([1., 1., 1.])"
      ]
     },
     "execution_count": 45,
     "metadata": {},
     "output_type": "execute_result"
    }
   ],
   "source": [
    "np.ones(3)"
   ]
  },
  {
   "cell_type": "code",
   "execution_count": 48,
   "metadata": {},
   "outputs": [
    {
     "name": "stdout",
     "output_type": "stream",
     "text": [
      "int16\n",
      "[1 2 1]\n",
      "size of np array =  102\n",
      "element =  26\n"
     ]
    }
   ],
   "source": [
    "a = np.array([1 ,2.5, 1], dtype='int16')\n",
    "\n",
    "print(a.dtype.name)\n",
    "print(a)\n",
    "\n",
    "print(\"size of np array = \", sys.getsizeof(a) )\n",
    "print(\"element = \", sys.getsizeof(a[0]) )"
   ]
  },
  {
   "cell_type": "code",
   "execution_count": 64,
   "metadata": {},
   "outputs": [],
   "source": [
    "seq = np.linspace(0, 1, 90)"
   ]
  },
  {
   "cell_type": "code",
   "execution_count": 65,
   "metadata": {},
   "outputs": [
    {
     "name": "stdout",
     "output_type": "stream",
     "text": [
      "[0.         0.01123596 0.02247191 0.03370787 0.04494382 0.05617978\n",
      " 0.06741573 0.07865169 0.08988764 0.1011236  0.11235955 0.12359551\n",
      " 0.13483146 0.14606742 0.15730337 0.16853933 0.17977528 0.19101124\n",
      " 0.20224719 0.21348315 0.2247191  0.23595506 0.24719101 0.25842697\n",
      " 0.26966292 0.28089888 0.29213483 0.30337079 0.31460674 0.3258427\n",
      " 0.33707865 0.34831461 0.35955056 0.37078652 0.38202247 0.39325843\n",
      " 0.40449438 0.41573034 0.42696629 0.43820225 0.4494382  0.46067416\n",
      " 0.47191011 0.48314607 0.49438202 0.50561798 0.51685393 0.52808989\n",
      " 0.53932584 0.5505618  0.56179775 0.57303371 0.58426966 0.59550562\n",
      " 0.60674157 0.61797753 0.62921348 0.64044944 0.65168539 0.66292135\n",
      " 0.6741573  0.68539326 0.69662921 0.70786517 0.71910112 0.73033708\n",
      " 0.74157303 0.75280899 0.76404494 0.7752809  0.78651685 0.79775281\n",
      " 0.80898876 0.82022472 0.83146067 0.84269663 0.85393258 0.86516854\n",
      " 0.87640449 0.88764045 0.8988764  0.91011236 0.92134831 0.93258427\n",
      " 0.94382022 0.95505618 0.96629213 0.97752809 0.98876404 1.        ]\n"
     ]
    }
   ],
   "source": [
    "print(seq)"
   ]
  },
  {
   "cell_type": "code",
   "execution_count": 66,
   "metadata": {},
   "outputs": [],
   "source": [
    "import matplotlib.pyplot as plt"
   ]
  },
  {
   "cell_type": "code",
   "execution_count": 67,
   "metadata": {},
   "outputs": [
    {
     "data": {
      "text/plain": [
       "[<matplotlib.lines.Line2D at 0x7f8bf012f208>]"
      ]
     },
     "execution_count": 67,
     "metadata": {},
     "output_type": "execute_result"
    },
    {
     "data": {
      "image/png": "[encoded data removed]",
      "text/plain": [
       "<Figure size 432x288 with 1 Axes>"
      ]
     },
     "metadata": {
      "needs_background": "light"
     },
     "output_type": "display_data"
    }
   ],
   "source": [
    "plt.plot(np.sin(2*seq*np.pi))\n",
    "plt.plot(np.sin(2*seq*np.pi))"
   ]
  },
  {
   "cell_type": "code",
   "execution_count": 71,
   "metadata": {},
   "outputs": [
    {
     "data": {
      "image/png": "[encoded data removed]",
      "text/plain": [
       "<Figure size 432x288 with 1 Axes>"
      ]
     },
     "metadata": {
      "needs_background": "light"
     },
     "output_type": "display_data"
    }
   ],
   "source": [
    "plt.figure()  #start\n",
    "plt.plot(np.sin(2*seq*np.pi))\n",
    "plt.plot(np.cos(2*seq*np.pi))\n",
    "plt.plot(2*seq)\n",
    "plt.show() # End"
   ]
  },
  {
   "cell_type": "code",
   "execution_count": 81,
   "metadata": {},
   "outputs": [
    {
     "data": {
      "image/png": "[encoded data removed]",
      "text/plain": [
       "<Figure size 432x288 with 4 Axes>"
      ]
     },
     "metadata": {
      "needs_background": "light"
     },
     "output_type": "display_data"
    }
   ],
   "source": [
    "fig,(p1, p2, p3, p4) = plt.subplots(4)  #start\n",
    "p1.plot(np.sin(2*seq*np.pi),'r*')\n",
    "p2.plot(np.cos(2*seq*np.pi),'go')\n",
    "p3.plot(2*seq)\n",
    "p4.plot(2*seq)\n",
    "fig.show() # End"
   ]
  },
  {
   "cell_type": "code",
   "execution_count": 82,
   "metadata": {},
   "outputs": [],
   "source": [
    "import os\n"
   ]
  },
  {
   "cell_type": "code",
   "execution_count": 83,
   "metadata": {},
   "outputs": [
    {
     "data": {
      "text/plain": [
       "'/home/tensorflow/git_repos/practice_python'"
      ]
     },
     "execution_count": 83,
     "metadata": {},
     "output_type": "execute_result"
    }
   ],
   "source": [
    "os.getcwd()"
   ]
  },
  {
   "cell_type": "code",
   "execution_count": 84,
   "metadata": {},
   "outputs": [],
   "source": [
    "os.chdir('../')"
   ]
  },
  {
   "cell_type": "code",
   "execution_count": 85,
   "metadata": {},
   "outputs": [
    {
     "data": {
      "text/plain": [
       "'/home/tensorflow/git_repos'"
      ]
     },
     "execution_count": 85,
     "metadata": {},
     "output_type": "execute_result"
    }
   ],
   "source": [
    "os.getcwd()"
   ]
  },
  {
   "cell_type": "code",
   "execution_count": 89,
   "metadata": {},
   "outputs": [],
   "source": [
    "os.chdir('practice_python')"
   ]
  },
  {
   "cell_type": "code",
   "execution_count": 90,
   "metadata": {},
   "outputs": [
    {
     "data": {
      "text/plain": [
       "'/home/tensorflow/git_repos/practice_python'"
      ]
     },
     "execution_count": 90,
     "metadata": {},
     "output_type": "execute_result"
    }
   ],
   "source": [
    "os.getcwd()"
   ]
  },
  {
   "cell_type": "code",
   "execution_count": 93,
   "metadata": {},
   "outputs": [
    {
     "name": "stdout",
     "output_type": "stream",
     "text": [
      "i ./\n",
      "j ['automobile', 'pycharm', '__pycache__', '.ipynb_checkpoints', 'tony1', 'day1', 'kamal', '.git']\n",
      "k ['Untitled1.ipynb', 'Hacker_Rank_trial_24.py', 'Hacker_rank_trial_11_Mayl_2019.ipynb', 'Python_Class_Kamal_S_XX_26_April_2019.ipynb', 'Python_Class_Kamal_S_XX_03_May_2019.ipynb', 'Untitled.ipynb', 'test_reduce.py', 'Python_Class_Kamal_S_XX_19_April_2019_hw.ipynb', 'Hacker_rank_trial_24_April_2019.ipynb', 'README.md', 'mymath.p', 'Hacker_rank_trial_20_April_2019.ipynb', 'equation_cy.py', 'Regular_Expression_Practice.ipynb', '1.txt', 'Python_Class_Kamal_S_XX_20_April_2019.ipynb', 'equation_cy.pyx', 'Python_Class_Kamal_S_XX_11_May_2019.ipynb', 'Python_Class_Kamal_S_05_01_April_2019.ipynb', 'file.txt', 'Python_Class_Kamal_S_XX_19_April_2019.ipynb', 'text_utf_16.txt', 'Python_Class_Kamal_S_XX_02_May_2019_hw.ipynb', 'Python_Class_Kamal_S_XX_25_April_2019.ipynb', 'final.py', 'OpenCV_2019_05_02_basics_install.ipynb', 'input03.txt', 'Python_Class_Kamal_S_XX_21_May_2019.ipynb', 'Python_Class_Kamal_S_XX_01_May_2019.ipynb', 'Python_Class_Kamal_S_XX_23_April_2019.ipynb', 'Python_Class_Kamal_S_XX_22_April_2019.ipynb', 'watch.jpg', 'Python_Class_Kamal_S_06_02_April_2019.ipynb', 'process.c', 'mymath.py', 'Python_Class_Kamal_S_XX_04_May_2019.ipynb', 'Python_Class_Kamal_S_XX_17_April_2019.ipynb', 'corey_schaufer.py']\n",
      "i ./automobile\n",
      "j ['cars', '__pycache__', 'bikes']\n",
      "k ['__init__.py', '_DS_Store']\n",
      "i ./automobile/cars\n",
      "j ['__pycache__']\n",
      "k ['__init__.py', 'cars.py', '_DS_Store']\n",
      "i ./automobile/cars/__pycache__\n",
      "j []\n",
      "k ['__init__.cpython-35.pyc', 'cars.cpython-35.pyc']\n",
      "i ./automobile/__pycache__\n",
      "j []\n",
      "k ['__init__.cpython-35.pyc']\n",
      "i ./automobile/bikes\n",
      "j ['__pycache__']\n",
      "k ['__init__.py', 'bikes.py', '_DS_Store']\n",
      "i ./automobile/bikes/__pycache__\n",
      "j []\n",
      "k ['bikes.cpython-35.pyc', '__init__.cpython-35.pyc']\n",
      "i ./pycharm\n",
      "j ['.idea', 'venv']\n",
      "k []\n",
      "i ./pycharm/.idea\n",
      "j []\n",
      "k ['vcs.xml', 'workspace.xml', 'pycharm.iml', 'modules.xml', 'misc.xml']\n",
      "i ./pycharm/venv\n",
      "j ['include', 'lib64', 'lib', 'bin']\n",
      "k ['pyvenv.cfg']\n",
      "i ./pycharm/venv/include\n",
      "j []\n",
      "k []\n",
      "i ./pycharm/venv/lib\n",
      "j ['python3.5']\n",
      "k []\n",
      "i ./pycharm/venv/lib/python3.5\n",
      "j ['site-packages']\n",
      "k []\n",
      "i ./pycharm/venv/lib/python3.5/site-packages\n",
      "j ['pip-19.0.3-py3.5.egg']\n",
      "k ['easy-install.pth', 'setuptools-40.8.0-py3.5.egg', 'setuptools.pth']\n",
      "i ./pycharm/venv/lib/python3.5/site-packages/pip-19.0.3-py3.5.egg\n",
      "j ['pip', 'EGG-INFO']\n",
      "k []\n",
      "i ./pycharm/venv/lib/python3.5/site-packages/pip-19.0.3-py3.5.egg/pip\n",
      "j ['_vendor', '_internal']\n",
      "k ['__init__.py', '__main__.py']\n",
      "i ./pycharm/venv/lib/python3.5/site-packages/pip-19.0.3-py3.5.egg/pip/_vendor\n",
      "j ['packaging', 'chardet', 'colorama', 'distlib', 'urllib3', 'requests', 'pkg_resources', 'webencodings', 'lockfile', 'pytoml', 'msgpack', 'certifi', 'cachecontrol', 'html5lib', 'idna', 'pep517', 'progress']\n",
      "k ['distro.py', 'pyparsing.py', '__init__.py', 'six.py', 'ipaddress.py', 'retrying.py', 'appdirs.py']\n",
      "i ./pycharm/venv/lib/python3.5/site-packages/pip-19.0.3-py3.5.egg/pip/_vendor/packaging\n",
      "j []\n",
      "k ['_structures.py', 'utils.py', '_compat.py', '__init__.py', '__about__.py', 'specifiers.py', 'requirements.py', 'version.py', 'markers.py']\n",
      "i ./pycharm/venv/lib/python3.5/site-packages/pip-19.0.3-py3.5.egg/pip/_vendor/chardet\n",
      "j ['cli']\n",
      "k ['mbcharsetprober.py', 'sbcsgroupprober.py', 'gb2312prober.py', 'latin1prober.py', 'cp949prober.py', 'euckrfreq.py', 'langthaimodel.py', 'charsetgroupprober.py', 'langhungarianmodel.py', 'big5prober.py', 'eucjpprober.py', 'compat.py', 'euctwfreq.py', 'sjisprober.py', 'langbulgarianmodel.py', 'sbcharsetprober.py', 'langhebrewmodel.py', '__init__.py', 'langcyrillicmodel.py', 'charsetprober.py', 'big5freq.py', 'mbcssm.py', 'codingstatemachine.py', 'gb2312freq.py', 'escsm.py', 'utf8prober.py', 'langgreekmodel.py', 'hebrewprober.py', 'escprober.py', 'jisfreq.py', 'chardistribution.py', 'version.py', 'langturkishmodel.py', 'enums.py', 'euctwprober.py', 'universaldetector.py', 'mbcsgroupprober.py', 'jpcntx.py', 'euckrprober.py']\n",
      "i ./pycharm/venv/lib/python3.5/site-packages/pip-19.0.3-py3.5.egg/pip/_vendor/chardet/cli\n",
      "j []\n",
      "k ['chardetect.py', '__init__.py']\n",
      "i ./pycharm/venv/lib/python3.5/site-packages/pip-19.0.3-py3.5.egg/pip/_vendor/colorama\n",
      "j []\n",
      "k ['ansi.py', 'win32.py', 'ansitowin32.py', '__init__.py', 'initialise.py', 'winterm.py']\n",
      "i ./pycharm/venv/lib/python3.5/site-packages/pip-19.0.3-py3.5.egg/pip/_vendor/distlib\n",
      "j ['_backport']\n",
      "k ['metadata.py', 'w32.exe', 'compat.py', 't32.exe', 'util.py', 'index.py', 'manifest.py', '__init__.py', 'w64.exe', 'locators.py', 'database.py', 'version.py', 'wheel.py', 'scripts.py', 'resources.py', 'markers.py', 't64.exe']\n",
      "i ./pycharm/venv/lib/python3.5/site-packages/pip-19.0.3-py3.5.egg/pip/_vendor/distlib/_backport\n",
      "j []\n",
      "k ['shutil.py', 'tarfile.py', '__init__.py', 'misc.py', 'sysconfig.py', 'sysconfig.cfg']\n",
      "i ./pycharm/venv/lib/python3.5/site-packages/pip-19.0.3-py3.5.egg/pip/_vendor/urllib3\n",
      "j ['util', 'packages', 'contrib']\n",
      "k ['fields.py', '_collections.py', 'response.py', 'poolmanager.py', '__init__.py', 'connection.py', 'filepost.py', 'request.py', 'exceptions.py', 'connectionpool.py']\n",
      "i ./pycharm/venv/lib/python3.5/site-packages/pip-19.0.3-py3.5.egg/pip/_vendor/urllib3/util\n",
      "j []\n",
      "k ['response.py', '__init__.py', 'wait.py', 'connection.py', 'retry.py', 'ssl_.py', 'request.py', 'timeout.py', 'url.py', 'queue.py']\n",
      "i ./pycharm/venv/lib/python3.5/site-packages/pip-19.0.3-py3.5.egg/pip/_vendor/urllib3/packages\n",
      "j ['ssl_match_hostname', 'backports']\n",
      "k ['__init__.py', 'six.py']\n",
      "i ./pycharm/venv/lib/python3.5/site-packages/pip-19.0.3-py3.5.egg/pip/_vendor/urllib3/packages/ssl_match_hostname\n",
      "j []\n",
      "k ['__init__.py', '_implementation.py']\n",
      "i ./pycharm/venv/lib/python3.5/site-packages/pip-19.0.3-py3.5.egg/pip/_vendor/urllib3/packages/backports\n",
      "j []\n",
      "k ['__init__.py', 'makefile.py']\n",
      "i ./pycharm/venv/lib/python3.5/site-packages/pip-19.0.3-py3.5.egg/pip/_vendor/urllib3/contrib\n",
      "j ['_securetransport']\n",
      "k ['pyopenssl.py', 'ntlmpool.py', '_appengine_environ.py', '__init__.py', 'appengine.py', 'socks.py', 'securetransport.py']\n",
      "i ./pycharm/venv/lib/python3.5/site-packages/pip-19.0.3-py3.5.egg/pip/_vendor/urllib3/contrib/_securetransport\n",
      "j []\n",
      "k ['__init__.py', 'bindings.py', 'low_level.py']\n",
      "i ./pycharm/venv/lib/python3.5/site-packages/pip-19.0.3-py3.5.egg/pip/_vendor/requests\n",
      "j []\n",
      "k ['packages.py', 'utils.py', 'compat.py', 'models.py', 'hooks.py', 'api.py', '__init__.py', '_internal_utils.py', 'help.py', 'adapters.py', 'auth.py', 'exceptions.py', 'cookies.py', 'structures.py', 'status_codes.py', 'sessions.py', '__version__.py', 'certs.py']\n",
      "i ./pycharm/venv/lib/python3.5/site-packages/pip-19.0.3-py3.5.egg/pip/_vendor/pkg_resources\n",
      "j []\n",
      "k ['py31compat.py', '__init__.py']\n",
      "i ./pycharm/venv/lib/python3.5/site-packages/pip-19.0.3-py3.5.egg/pip/_vendor/webencodings\n",
      "j []\n",
      "k ['x_user_defined.py', '__init__.py', 'mklabels.py', 'tests.py', 'labels.py']\n",
      "i ./pycharm/venv/lib/python3.5/site-packages/pip-19.0.3-py3.5.egg/pip/_vendor/lockfile\n",
      "j []\n",
      "k ['symlinklockfile.py', '__init__.py', 'mkdirlockfile.py', 'sqlitelockfile.py', 'linklockfile.py', 'pidlockfile.py']\n",
      "i ./pycharm/venv/lib/python3.5/site-packages/pip-19.0.3-py3.5.egg/pip/_vendor/pytoml\n",
      "j []\n",
      "k ['writer.py', 'utils.py', 'test.py', 'core.py', '__init__.py', 'parser.py']\n",
      "i ./pycharm/venv/lib/python3.5/site-packages/pip-19.0.3-py3.5.egg/pip/_vendor/msgpack\n",
      "j []\n",
      "k ['__init__.py', '_version.py', 'exceptions.py', 'fallback.py']\n",
      "i ./pycharm/venv/lib/python3.5/site-packages/pip-19.0.3-py3.5.egg/pip/_vendor/certifi\n",
      "j []\n",
      "k ['cacert.pem', 'core.py', '__init__.py', '__main__.py']\n",
      "i ./pycharm/venv/lib/python3.5/site-packages/pip-19.0.3-py3.5.egg/pip/_vendor/cachecontrol\n",
      "j ['caches']\n",
      "k ['heuristics.py', 'compat.py', 'adapter.py', 'serialize.py', '__init__.py', 'controller.py', 'wrapper.py', 'cache.py', 'filewrapper.py', '_cmd.py']\n",
      "i ./pycharm/venv/lib/python3.5/site-packages/pip-19.0.3-py3.5.egg/pip/_vendor/cachecontrol/caches\n",
      "j []\n",
      "k ['__init__.py', 'redis_cache.py', 'file_cache.py']\n",
      "i ./pycharm/venv/lib/python3.5/site-packages/pip-19.0.3-py3.5.egg/pip/_vendor/html5lib\n",
      "j ['treebuilders', '_trie', 'treeadapters', 'treewalkers', 'filters']\n",
      "k ['_ihatexml.py', 'constants.py', '_utils.py', '__init__.py', 'html5parser.py', '_tokenizer.py', 'serializer.py', '_inputstream.py']\n",
      "i ./pycharm/venv/lib/python3.5/site-packages/pip-19.0.3-py3.5.egg/pip/_vendor/html5lib/treebuilders\n",
      "j []\n",
      "k ['base.py', 'dom.py', '__init__.py', 'etree.py', 'etree_lxml.py']\n",
      "i ./pycharm/venv/lib/python3.5/site-packages/pip-19.0.3-py3.5.egg/pip/_vendor/html5lib/_trie\n",
      "j []\n",
      "k ['_base.py', '__init__.py', 'datrie.py', 'py.py']\n",
      "i ./pycharm/venv/lib/python3.5/site-packages/pip-19.0.3-py3.5.egg/pip/_vendor/html5lib/treeadapters\n",
      "j []\n",
      "k ['__init__.py', 'sax.py', 'genshi.py']\n",
      "i ./pycharm/venv/lib/python3.5/site-packages/pip-19.0.3-py3.5.egg/pip/_vendor/html5lib/treewalkers\n",
      "j []\n",
      "k ['base.py', 'dom.py', '__init__.py', 'etree.py', 'etree_lxml.py', 'genshi.py']\n",
      "i ./pycharm/venv/lib/python3.5/site-packages/pip-19.0.3-py3.5.egg/pip/_vendor/html5lib/filters\n",
      "j []\n",
      "k ['alphabeticalattributes.py', 'whitespace.py', 'base.py', '__init__.py', 'lint.py', 'optionaltags.py', 'inject_meta_charset.py', 'sanitizer.py']\n",
      "i ./pycharm/venv/lib/python3.5/site-packages/pip-19.0.3-py3.5.egg/pip/_vendor/idna\n",
      "j []\n",
      "k ['uts46data.py', 'compat.py', 'idnadata.py', 'core.py', 'intranges.py', '__init__.py', 'package_data.py', 'codec.py']\n",
      "i ./pycharm/venv/lib/python3.5/site-packages/pip-19.0.3-py3.5.egg/pip/_vendor/pep517\n",
      "j []\n",
      "k ['build.py', 'compat.py', '__init__.py', 'colorlog.py', 'wrappers.py', 'envbuild.py', 'check.py', '_in_process.py']\n",
      "i ./pycharm/venv/lib/python3.5/site-packages/pip-19.0.3-py3.5.egg/pip/_vendor/progress\n",
      "j []\n",
      "k ['bar.py', 'spinner.py', '__init__.py', 'counter.py', 'helpers.py']\n",
      "i ./pycharm/venv/lib/python3.5/site-packages/pip-19.0.3-py3.5.egg/pip/_internal\n",
      "j ['vcs', 'cli', 'req', 'utils', 'models', 'operations', 'commands']\n",
      "k ['pep425tags.py', 'build_env.py', 'download.py', 'index.py', 'configuration.py', '__init__.py', 'locations.py', 'cache.py', 'exceptions.py', 'wheel.py', 'resolve.py', 'pyproject.py']\n",
      "i ./pycharm/venv/lib/python3.5/site-packages/pip-19.0.3-py3.5.egg/pip/_internal/vcs\n",
      "j []\n",
      "k ['__init__.py', 'mercurial.py', 'git.py', 'subversion.py', 'bazaar.py']\n",
      "i ./pycharm/venv/lib/python3.5/site-packages/pip-19.0.3-py3.5.egg/pip/_internal/cli\n",
      "j []\n",
      "k ['cmdoptions.py', '__init__.py', 'base_command.py', 'main_parser.py', 'parser.py', 'autocompletion.py', 'status_codes.py']\n",
      "i ./pycharm/venv/lib/python3.5/site-packages/pip-19.0.3-py3.5.egg/pip/_internal/req\n",
      "j []\n",
      "k ['req_uninstall.py', 'req_set.py', '__init__.py', 'req_file.py', 'constructors.py', 'req_install.py', 'req_tracker.py']\n",
      "i ./pycharm/venv/lib/python3.5/site-packages/pip-19.0.3-py3.5.egg/pip/_internal/utils\n",
      "j []\n",
      "k ['hashes.py', 'logging.py', 'setuptools_build.py', 'compat.py', 'typing.py', 'filesystem.py', 'models.py', 'deprecation.py', '__init__.py', 'misc.py', 'encoding.py', 'ui.py', 'packaging.py', 'outdated.py', 'glibc.py', 'temp_dir.py', 'appdirs.py']\n",
      "i ./pycharm/venv/lib/python3.5/site-packages/pip-19.0.3-py3.5.egg/pip/_internal/models\n",
      "j []\n",
      "k ['format_control.py', 'index.py', '__init__.py', 'candidate.py', 'link.py']\n",
      "i ./pycharm/venv/lib/python3.5/site-packages/pip-19.0.3-py3.5.egg/pip/_internal/operations\n",
      "j []\n",
      "k ['freeze.py', '__init__.py', 'check.py', 'prepare.py']\n",
      "i ./pycharm/venv/lib/python3.5/site-packages/pip-19.0.3-py3.5.egg/pip/_internal/commands\n",
      "j []\n",
      "k ['hash.py', 'freeze.py', 'download.py', 'configuration.py', '__init__.py', 'help.py', 'list.py', 'install.py', 'completion.py', 'search.py', 'wheel.py', 'check.py', 'uninstall.py', 'show.py']\n",
      "i ./pycharm/venv/lib/python3.5/site-packages/pip-19.0.3-py3.5.egg/EGG-INFO\n",
      "j []\n",
      "k ['SOURCES.txt', 'PKG-INFO', 'entry_points.txt', 'top_level.txt', 'not-zip-safe', 'dependency_links.txt']\n",
      "i ./pycharm/venv/bin\n",
      "j []\n",
      "k ['pip', 'python3', 'pip3.5', 'activate.csh', 'easy_install', 'python', 'easy_install-3.5', 'activate.fish', 'python3.5', 'pip3', 'activate']\n",
      "i ./__pycache__\n",
      "j []\n",
      "k ['mymath.cpython-35.pyc']\n",
      "i ./.ipynb_checkpoints\n",
      "j []\n",
      "k ['Untitled1-checkpoint.ipynb', 'Python_Class_Kamal_S_XX_22_April_2019-checkpoint.ipynb', 'OpenCV_2019_05_02_basics_install-checkpoint.ipynb', 'Python_Class_Kamal_S_XX_25_April_2019-checkpoint.ipynb', 'Python_Class_Kamal_S_XX_03_May_2019-checkpoint.ipynb', 'Hacker_rank_trial_24_April_2019-checkpoint.ipynb', 'Python_Class_Kamal_S_XX_26_April_2019-checkpoint.ipynb', 'Python_Class_Kamal_S_XX_19_April_2019-checkpoint.ipynb', 'Python_Class_Kamal_S_XX_11_May_2019-checkpoint.ipynb', 'Python_Class_Kamal_S_XX_21_May_2019-checkpoint.ipynb', 'Hacker_rank_trial_20_April_2019-checkpoint.ipynb', 'Python_Class_Kamal_S_XX_01_May_2019-checkpoint.ipynb', 'Python_Class_Kamal_S_XX_04_May_2019-checkpoint.ipynb', 'Python_Class_Kamal_S_XX_02_May_2019_hw-checkpoint.ipynb', 'Python_Class_Kamal_S_XX_17_April_2019-checkpoint.ipynb', 'Hacker_rank_trial_11_Mayl_2019-checkpoint.ipynb', 'Python_Class_Kamal_S_XX_20_April_2019-checkpoint.ipynb', 'Regular_Expression_Practice-checkpoint.ipynb', 'Untitled-checkpoint.ipynb', 'Python_Class_Kamal_S_XX_19_April_2019_hw-checkpoint.ipynb', 'Python_Class_Kamal_S_XX_23_April_2019-checkpoint.ipynb']\n",
      "i ./tony1\n",
      "j []\n",
      "k []\n",
      "i ./day1\n",
      "j []\n",
      "k ['sample.cpp', 'sample_opt.asm', 'sample.asm', 'readme.md']\n",
      "i ./kamal\n",
      "j ['.ipynb_checkpoints']\n",
      "k ['PYE250319_May2nd_MultiProcessingCommunications.ipynb']\n",
      "i ./kamal/.ipynb_checkpoints\n",
      "j []\n",
      "k ['PYE250319_May2nd_MultiProcessingCommunications-checkpoint.ipynb']\n",
      "i ./.git\n",
      "j ['hooks', 'logs', 'refs', 'info', 'objects', 'branches']\n",
      "k ['packed-refs', 'config', 'HEAD', 'index', 'COMMIT_EDITMSG', 'description']\n",
      "i ./.git/hooks\n",
      "j []\n",
      "k ['applypatch-msg.sample', 'pre-rebase.sample', 'pre-push.sample', 'commit-msg.sample', 'pre-applypatch.sample', 'pre-commit.sample', 'update.sample', 'post-update.sample', 'prepare-commit-msg.sample']\n",
      "i ./.git/logs\n",
      "j ['refs']\n",
      "k ['HEAD']\n",
      "i ./.git/logs/refs\n",
      "j ['heads', 'remotes']\n",
      "k []\n",
      "i ./.git/logs/refs/heads\n",
      "j []\n",
      "k ['master']\n",
      "i ./.git/logs/refs/remotes\n",
      "j ['origin']\n",
      "k []\n",
      "i ./.git/logs/refs/remotes/origin\n",
      "j []\n",
      "k ['master', 'HEAD']\n",
      "i ./.git/refs\n",
      "j ['tags', 'heads', 'remotes']\n",
      "k []\n",
      "i ./.git/refs/tags\n",
      "j []\n",
      "k []\n",
      "i ./.git/refs/heads\n",
      "j []\n",
      "k ['master']\n",
      "i ./.git/refs/remotes\n",
      "j ['origin']\n",
      "k []\n",
      "i ./.git/refs/remotes/origin\n",
      "j []\n",
      "k ['master', 'HEAD']\n",
      "i ./.git/info\n",
      "j []\n",
      "k ['exclude']\n",
      "i ./.git/objects\n",
      "j ['d1', '33', '45', 'a4', 'd7', '67', 'b6', '8e', 'pack', '03', '63', 'bc', '6d', 'fb', 'c7', '73', '20', 'ca', '0e', '0a', 'c4', '4e', '13', '58', '82', 'd3', 'info', '91', 'ac', 'b8', '76', '2a', 'cd', 'c9', '5a', '1b', 'b0', '92', '7a', '36']\n",
      "k []\n",
      "i ./.git/objects/d1\n",
      "j []\n",
      "k ['e8aebaa68c8adf267d754a3cb56699981ef26a']\n",
      "i ./.git/objects/33\n",
      "j []\n",
      "k ['3e5fc4b8e61f1ad013950c61e95e1dbbd103b9']\n",
      "i ./.git/objects/45\n",
      "j []\n",
      "k ['a5201f57df85cc09bdb1fb16fa00283028af9f']\n",
      "i ./.git/objects/a4\n",
      "j []\n",
      "k ['45fac63c61b5a668f50dd49fdeb70789268444', '8ca01ce34ca4e708f681be879582c7bcdcdc01']\n",
      "i ./.git/objects/d7\n",
      "j []\n",
      "k ['ad858a947ba57b4996632e694404bc5a30dbfc']\n",
      "i ./.git/objects/67\n",
      "j []\n",
      "k ['054656ccfda501dbe8d67ede3cac73b1d15713']\n",
      "i ./.git/objects/b6\n",
      "j []\n",
      "k ['1324b7ee738fedc733d027fa907b49b3d921ff']\n",
      "i ./.git/objects/8e\n",
      "j []\n",
      "k ['c7a39b211b808b873e9a877c10b4b57632e8d5']\n",
      "i ./.git/objects/pack\n",
      "j []\n",
      "k []\n",
      "i ./.git/objects/03\n",
      "j []\n",
      "k ['9294a7f2d9d86de6ca309b292fedac59482fd6']\n",
      "i ./.git/objects/63\n",
      "j []\n",
      "k ['88d68eae608167106624511395f210bea108a4']\n",
      "i ./.git/objects/bc\n",
      "j []\n",
      "k ['0405ae478e5831d037836c12fa20c4fdc4ce49']\n",
      "i ./.git/objects/6d\n",
      "j []\n",
      "k ['10454a5c322cb5913c35d0dddd32f3c6ee872e']\n",
      "i ./.git/objects/fb\n",
      "j []\n",
      "k ['77bd9ff771e8f75158a4ef097acaff0eacdfce']\n",
      "i ./.git/objects/c7\n",
      "j []\n",
      "k ['bf72eeec1dcef35e36ad7732d5440fdc644a5d']\n",
      "i ./.git/objects/73\n",
      "j []\n",
      "k ['4c08bfe32d54f0cd002ab1d57a26874185e851']\n",
      "i ./.git/objects/20\n",
      "j []\n",
      "k ['57a0bd0ed19910bbe62d0b6e06a3ce3b1eef4c']\n",
      "i ./.git/objects/ca\n",
      "j []\n",
      "k ['0c34f93b6d4cf3e4195303e977292a9c4d7095']\n",
      "i ./.git/objects/0e\n",
      "j []\n",
      "k ['815f5f96370e74872779e24bf22c983747b1ce', 'f95e016b5ad96d1328aa5f4cefc797d0ac5442', '29e5f75c354be93676b8408514fea672ac918c']\n",
      "i ./.git/objects/0a\n",
      "j []\n",
      "k ['a4084f89fbb24ce386b36807103a9f83c31365']\n",
      "i ./.git/objects/c4\n",
      "j []\n",
      "k ['4e8cc31baaf264958f75ce749363e36ba08515']\n",
      "i ./.git/objects/4e\n",
      "j []\n",
      "k ['96515189decb7666acfeffd71b4d66ab74059a']\n",
      "i ./.git/objects/13\n",
      "j []\n",
      "k ['236930100dc14fa3e4e23f94f4161a3805ec42']\n",
      "i ./.git/objects/58\n",
      "j []\n",
      "k ['acabf60654390c5bba243f2264788fa9f719d9']\n",
      "i ./.git/objects/82\n",
      "j []\n",
      "k ['a5e6b5817df1109fee42ccc0a84b6ec934b236']\n",
      "i ./.git/objects/d3\n",
      "j []\n",
      "k ['8eb4c688d294e7d860fdc1edd7fc3fb4ba75d1']\n",
      "i ./.git/objects/info\n",
      "j []\n",
      "k []\n",
      "i ./.git/objects/91\n",
      "j []\n",
      "k ['eeea82a87ecf4ac0521c5f18e8301093124734', '6853f02509aeab4ff49f73ba53e4e79c3c7211']\n",
      "i ./.git/objects/ac\n",
      "j []\n",
      "k ['f37bd341720e3a9281b9701bab3c24833bceb5']\n",
      "i ./.git/objects/b8\n",
      "j []\n",
      "k ['b6af276ec63f49959c34574312539ebefbcb71']\n",
      "i ./.git/objects/76\n",
      "j []\n",
      "k ['db27aeb7b654e66a8196ab9d7aabb006180221']\n",
      "i ./.git/objects/2a\n",
      "j []\n",
      "k ['40fc081a2cdecda1bb1981e3daef1f27acc2a1']\n",
      "i ./.git/objects/cd\n",
      "j []\n",
      "k ['eba5e6ba44c2d1adfa392eb3c6398a34d8f5de']\n",
      "i ./.git/objects/c9\n",
      "j []\n",
      "k ['d64404611ea64f160d7606c10180bd96ecc81b']\n",
      "i ./.git/objects/5a\n",
      "j []\n",
      "k ['108c59d8a1c80a3ad67fb83617f88be1e6e07f']\n",
      "i ./.git/objects/1b\n",
      "j []\n",
      "k ['c611b769424476c680a20732415a5b63749880']\n",
      "i ./.git/objects/b0\n",
      "j []\n",
      "k ['38484c02b831b86854209db2176995e1ea5882']\n",
      "i ./.git/objects/92\n",
      "j []\n",
      "k ['500ae9656b1029b16d6cf8d4cc767a583d8852']\n",
      "i ./.git/objects/7a\n",
      "j []\n",
      "k ['c3fb9590598515ec3f6fa65e88914eee34346c']\n",
      "i ./.git/objects/36\n",
      "j []\n",
      "k ['2444143c4f07cac75ead5433dd1d9ee1ceb1aa']\n",
      "i ./.git/branches\n",
      "j []\n",
      "k []\n"
     ]
    }
   ],
   "source": [
    "for i, j, k  in os.walk('./'):\n",
    "    print(\"i\",i)\n",
    "    \n",
    "    print(\"j\",j)\n",
    "    print(\"k\",k)"
   ]
  },
  {
   "cell_type": "code",
   "execution_count": null,
   "metadata": {},
   "outputs": [],
   "source": []
  }
 ],
 "metadata": {
  "kernelspec": {
   "display_name": "Python 3",
   "language": "python",
   "name": "python3"
  },
  "language_info": {
   "codemirror_mode": {
    "name": "ipython",
    "version": 3
   },
   "file_extension": ".py",
   "mimetype": "text/x-python",
   "name": "python",
   "nbconvert_exporter": "python",
   "pygments_lexer": "ipython3",
   "version": "3.5.2"
  }
 },
 "nbformat": 4,
 "nbformat_minor": 2
}
