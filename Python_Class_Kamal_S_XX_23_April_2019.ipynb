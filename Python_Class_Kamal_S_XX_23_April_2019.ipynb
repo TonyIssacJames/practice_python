{
 "cells": [
  {
   "cell_type": "markdown",
   "metadata": {},
   "source": [
    "## Modules\n",
    "\n"
   ]
  },
  {
   "cell_type": "markdown",
   "metadata": {},
   "source": [
    "- module is like a python file\n",
    "- we can put variables, functions etc\n",
    "    - so another person can use it"
   ]
  },
  {
   "cell_type": "markdown",
   "metadata": {},
   "source": [
    "#### Everytime you import everything in the mymath.py \n",
    "#### everthing in that will get executed\n",
    "\n"
   ]
  },
  {
   "cell_type": "code",
   "execution_count": 1,
   "metadata": {},
   "outputs": [
    {
     "name": "stdout",
     "output_type": "stream",
     "text": [
      ".........  my math version =  1.2\n"
     ]
    }
   ],
   "source": [
    "import mymath"
   ]
  },
  {
   "cell_type": "code",
   "execution_count": 2,
   "metadata": {},
   "outputs": [
    {
     "data": {
      "text/plain": [
       "['__builtins__',\n",
       " '__cached__',\n",
       " '__doc__',\n",
       " '__file__',\n",
       " '__loader__',\n",
       " '__name__',\n",
       " '__package__',\n",
       " '__spec__',\n",
       " 'add1',\n",
       " 'version']"
      ]
     },
     "execution_count": 2,
     "metadata": {},
     "output_type": "execute_result"
    }
   ],
   "source": [
    "dir(mymath)"
   ]
  },
  {
   "cell_type": "code",
   "execution_count": 3,
   "metadata": {},
   "outputs": [
    {
     "name": "stdout",
     "output_type": "stream",
     "text": [
      "10\n"
     ]
    }
   ],
   "source": [
    "print(mymath.add1(1, 2, 3, 4))"
   ]
  },
  {
   "cell_type": "code",
   "execution_count": 4,
   "metadata": {},
   "outputs": [],
   "source": [
    "import os"
   ]
  },
  {
   "cell_type": "code",
   "execution_count": 5,
   "metadata": {},
   "outputs": [
    {
     "data": {
      "text/plain": [
       "'/home/tensorflow/git_repos/practice_python'"
      ]
     },
     "execution_count": 5,
     "metadata": {},
     "output_type": "execute_result"
    }
   ],
   "source": [
    "os.getcwd()"
   ]
  },
  {
   "cell_type": "markdown",
   "metadata": {},
   "source": [
    "- from mymath import *\n",
    "    - can be used \n",
    "        - then we don't need to use mymath.\n",
    "        - but this can create clash\n",
    "        - it is not safe\n",
    "- it is better to import the module\n",
    "    - and use mymath.*** like this to avoid confusion"
   ]
  },
  {
   "cell_type": "markdown",
   "metadata": {},
   "source": [
    "- help(mymath)\n",
    "    - prints the doc string"
   ]
  },
  {
   "cell_type": "code",
   "execution_count": 6,
   "metadata": {},
   "outputs": [
    {
     "name": "stdout",
     "output_type": "stream",
     "text": [
      "\n",
      "Module name: mymath\n",
      "Description: It inculudes math functions\n",
      "\n"
     ]
    }
   ],
   "source": [
    "print(mymath.__doc__)"
   ]
  },
  {
   "cell_type": "code",
   "execution_count": 7,
   "metadata": {},
   "outputs": [
    {
     "name": "stdout",
     "output_type": "stream",
     "text": [
      "1.2\n"
     ]
    }
   ],
   "source": [
    "print(mymath.version)"
   ]
  },
  {
   "cell_type": "code",
   "execution_count": 8,
   "metadata": {},
   "outputs": [],
   "source": [
    "# Can we do the following\n",
    "\n",
    "mymath.version += 1.3"
   ]
  },
  {
   "cell_type": "code",
   "execution_count": 9,
   "metadata": {},
   "outputs": [
    {
     "name": "stdout",
     "output_type": "stream",
     "text": [
      "2.5\n"
     ]
    }
   ],
   "source": [
    "print(mymath.version)"
   ]
  },
  {
   "cell_type": "markdown",
   "metadata": {},
   "source": [
    "### How to import module from any directory\n",
    "    - we need to set some enviornmental variables\n",
    "    - follow the folling stes\n",
    "        - vim ~/.bash_profile\n",
    "        - export PYTHONPATH=$PYTHONPATH:/home/tensorflow/mymodules\n",
    "        - source ~/.bash_profile\n",
    "        - env (to verify)\n",
    "        - python3\n",
    "        - import mymath (assuming mymath.py is copied to mymodules"
   ]
  },
  {
   "cell_type": "markdown",
   "metadata": {},
   "source": [
    "- how to import somethign as local using import\n",
    "- when an error occurs, it will show where the error occurs\n",
    "    - this is very nice\n",
    "        - you can easily identify the issue"
   ]
  },
  {
   "cell_type": "markdown",
   "metadata": {},
   "source": [
    "## How to distribute your own modules\n",
    "    - can you direct to some help \n",
    "    - how to avoid doing the print\n",
    "    - how to make your moudles installable"
   ]
  },
  {
   "cell_type": "markdown",
   "metadata": {},
   "source": [
    "## \"\\_\\_name__\"\n",
    "    - when it is run as main program it will be replaces as __main__\n",
    "    - that means we cannot execute 2 python files at a time"
   ]
  },
  {
   "cell_type": "markdown",
   "metadata": {},
   "source": [
    "## Package is a collection of modules\n",
    "    - organised into directories and each directory has __init__\n",
    "    - when we do pip install \n",
    "        - the package get installed into standard directories\n",
    "        - \n",
    "    "
   ]
  },
  {
   "cell_type": "markdown",
   "metadata": {},
   "source": [
    "## Module\n",
    "    - Module is a collection of functions, classes and variables related to same domain"
   ]
  },
  {
   "cell_type": "markdown",
   "metadata": {},
   "source": [
    " # Things to do\n",
    "    - try importing a package in Jupyter notebook\n",
    "    - try understanding the rules about creating a module\n",
    "    - try creating a package\n",
    "    - how to distribute a package using pip install\n",
    "\n"
   ]
  },
  {
   "cell_type": "code",
   "execution_count": null,
   "metadata": {},
   "outputs": [],
   "source": [
    "#how to importa direc"
   ]
  }
 ],
 "metadata": {
  "kernelspec": {
   "display_name": "Python 3",
   "language": "python",
   "name": "python3"
  },
  "language_info": {
   "codemirror_mode": {
    "name": "ipython",
    "version": 3
   },
   "file_extension": ".py",
   "mimetype": "text/x-python",
   "name": "python",
   "nbconvert_exporter": "python",
   "pygments_lexer": "ipython3",
   "version": "3.5.2"
  }
 },
 "nbformat": 4,
 "nbformat_minor": 2
}
