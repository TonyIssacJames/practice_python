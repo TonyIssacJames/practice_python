{
 "cells": [
  {
   "cell_type": "markdown",
   "metadata": {},
   "source": [
    "# Hacker Rank  - Numpy problem"
   ]
  },
  {
   "cell_type": "markdown",
   "metadata": {},
   "source": [
    "### Problem 01"
   ]
  },
  {
   "cell_type": "markdown",
   "metadata": {},
   "source": [
    "#### Task\n",
    "\n",
    "You are given the shape of the array in the form of space-separated integers, each integer representing the size of different dimensions, your task is to print an array of the given shape and integer type using the tools numpy.zeros and numpy.ones.\n",
    "\n",
    "#### Input Format\n",
    "\n",
    "A single line containing the space-separated integers.\n",
    "\n",
    "#### Constraints\n",
    "\n",
    "** 1<= n <= 3 **\n",
    "\n",
    "#### Output Format\n",
    "\n",
    "First, print the array using the numpy.zeros tool and then print the array with the numpy.ones tool."
   ]
  },
  {
   "cell_type": "code",
   "execution_count": 8,
   "metadata": {},
   "outputs": [
    {
     "name": "stdout",
     "output_type": "stream",
     "text": [
      "2 2 2 2\n",
      "[[[[0 0]\n",
      "   [0 0]]\n",
      "\n",
      "  [[0 0]\n",
      "   [0 0]]]\n",
      "\n",
      "\n",
      " [[[0 0]\n",
      "   [0 0]]\n",
      "\n",
      "  [[0 0]\n",
      "   [0 0]]]]\n",
      "[[[[1 1]\n",
      "   [1 1]]\n",
      "\n",
      "  [[1 1]\n",
      "   [1 1]]]\n",
      "\n",
      "\n",
      " [[[1 1]\n",
      "   [1 1]]\n",
      "\n",
      "  [[1 1]\n",
      "   [1 1]]]]\n"
     ]
    }
   ],
   "source": [
    "import numpy as np\n",
    "ip_vals = input().rsplit(\" \")\n",
    "ip_vals = [int(val) for val in ip_vals]\n",
    "ndims = tuple(ip_vals)\n",
    "\n",
    "\n",
    "print(np.zeros(ndims, dtype='int32'))\n",
    "print(np.ones(ndims, dtype='int32'))"
   ]
  },
  {
   "cell_type": "markdown",
   "metadata": {},
   "source": [
    "### Lessons\n",
    "\n",
    "- use tuples while initiaizing np arrays\n",
    "- list comprehension is nice way to shorten the code and impress people"
   ]
  },
  {
   "cell_type": "markdown",
   "metadata": {},
   "source": [
    "### Problem 02"
   ]
  },
  {
   "cell_type": "markdown",
   "metadata": {},
   "source": [
    "#### Task\n",
    "\n",
    "You are given a space separated list of numbers.\n",
    "Your task is to print a reversed NumPy array with the element type float.\n",
    "\n",
    "#### Input Format\n",
    "\n",
    "A single line of input containing space separated numbers.\n",
    "\n",
    "#### Output Format\n",
    "\n",
    "Print the reverse NumPy array with type float."
   ]
  },
  {
   "cell_type": "code",
   "execution_count": 9,
   "metadata": {},
   "outputs": [
    {
     "name": "stdout",
     "output_type": "stream",
     "text": [
      "1.1 2.2\n",
      "[2.2 1.1]\n"
     ]
    }
   ],
   "source": [
    "import numpy\n",
    "\n",
    "def arrays(arr):\n",
    "    # complete this function\n",
    "    # use numpy.array\n",
    "    array1 = [float(x) for x in arr]\n",
    "    np_array = numpy.array(array1[::-1], dtype='float')\n",
    "    return np_array\n",
    "\n",
    "\n",
    "arr = input().strip().split(' ')\n",
    "result = arrays(arr)\n",
    "print(result)"
   ]
  },
  {
   "cell_type": "markdown",
   "metadata": {},
   "source": [
    "#### Task\n",
    "\n",
    "You are given two integer arrays,  and  of dimensions X.\n",
    "Your task is to perform the following operations:\n",
    "\n",
    "Add ( + )\n",
    "Subtract ( - )\n",
    "Multiply ( * )\n",
    "Integer Division ( / )\n",
    "Mod ( % )\n",
    "Power ( ** )\n",
    "#### Input Format\n",
    "\n",
    "The first line contains two space separated integers,  and .\n",
    "The next  lines contains  space separated integers of array .\n",
    "The following  lines contains  space separated integers of array .\n",
    "\n",
    "#### Output Format\n",
    "\n",
    "Print the result of each operation in the given order under Task.\n",
    "\n",
    "Sample Input"
   ]
  },
  {
   "cell_type": "code",
   "execution_count": 10,
   "metadata": {},
   "outputs": [
    {
     "name": "stdout",
     "output_type": "stream",
     "text": [
      "1 3\n",
      "1 2 3\n",
      "2 3 4\n",
      "[[3 5 7]]\n",
      "[[-1 -1 -1]]\n",
      "[[ 2  6 12]]\n",
      "[[0 0 0]]\n",
      "[[1 2 3]]\n",
      "[[ 1  8 81]]\n"
     ]
    }
   ],
   "source": [
    "import numpy as np\n",
    "\n",
    "dims = input().strip().split(' ')\n",
    "rows, cols  = [int(x) for x in dims]\n",
    "\n",
    "a1 = []\n",
    "for r in range(rows):\n",
    "    arr = input().strip().split(' ')\n",
    "    v1 = np.array([int(x) for x in arr])\n",
    "    a1.append(v1)\n",
    "\n",
    "b1 = []\n",
    "for r in range(rows):\n",
    "    arr = input().strip().split(' ')\n",
    "    v1 = np.array([int(x) for x in arr])\n",
    "    b1.append(v1)\n",
    "\n",
    "a1 = np.vstack(a1)\n",
    "b1 = np.vstack(b1)\n",
    "\n",
    "print(a1 + b1)\n",
    "print(a1 - b1)\n",
    "print(a1 * b1)\n",
    "print(a1 // b1)\n",
    "print(a1 % b1)\n",
    "print(a1 ** b1)"
   ]
  },
  {
   "cell_type": "code",
   "execution_count": null,
   "metadata": {},
   "outputs": [],
   "source": []
  },
  {
   "cell_type": "code",
   "execution_count": null,
   "metadata": {},
   "outputs": [],
   "source": []
  }
 ],
 "metadata": {
  "kernelspec": {
   "display_name": "Python 3",
   "language": "python",
   "name": "python3"
  },
  "language_info": {
   "codemirror_mode": {
    "name": "ipython",
    "version": 3
   },
   "file_extension": ".py",
   "mimetype": "text/x-python",
   "name": "python",
   "nbconvert_exporter": "python",
   "pygments_lexer": "ipython3",
   "version": "3.6.9"
  }
 },
 "nbformat": 4,
 "nbformat_minor": 4
}
