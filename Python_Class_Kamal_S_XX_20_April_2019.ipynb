{
 "cells": [
  {
   "cell_type": "markdown",
   "metadata": {},
   "source": [
    "### People who work does not use for loop much\n",
    "\n",
    "- they use lambda, map, filter, reduce()"
   ]
  },
  {
   "cell_type": "markdown",
   "metadata": {},
   "source": [
    "### most of the questions come from Hackerrank.com"
   ]
  },
  {
   "cell_type": "markdown",
   "metadata": {},
   "source": [
    "#### keep all your files in github + colab"
   ]
  },
  {
   "cell_type": "code",
   "execution_count": 12,
   "metadata": {},
   "outputs": [],
   "source": [
    "string1 = \"banana 100 pomogranate 200 apple 300 kiwi 100\""
   ]
  },
  {
   "cell_type": "code",
   "execution_count": 13,
   "metadata": {},
   "outputs": [],
   "source": [
    "from functools import reduce"
   ]
  },
  {
   "cell_type": "code",
   "execution_count": 14,
   "metadata": {},
   "outputs": [
    {
     "name": "stdout",
     "output_type": "stream",
     "text": [
      "700\n"
     ]
    }
   ],
   "source": [
    "  \n",
    "result = reduce(lambda x, y: x+ y,\n",
    "                map(int,\n",
    "                    filter(lambda string: string.isdigit(), string1.split())               \n",
    "                   )\n",
    "               )\n",
    "    \n",
    "print(result)"
   ]
  },
  {
   "cell_type": "code",
   "execution_count": 16,
   "metadata": {},
   "outputs": [
    {
     "name": "stdout",
     "output_type": "stream",
     "text": [
      "300\n"
     ]
    }
   ],
   "source": [
    "  \n",
    "result = reduce(lambda x, y: max(x,y),\n",
    "                map(int,\n",
    "                    filter(lambda string: string.isdigit(), string1.split())               \n",
    "                   )\n",
    "               )\n",
    "    \n",
    "print(result)"
   ]
  },
  {
   "cell_type": "code",
   "execution_count": 17,
   "metadata": {},
   "outputs": [
    {
     "name": "stdout",
     "output_type": "stream",
     "text": [
      "100\n"
     ]
    }
   ],
   "source": [
    "result = reduce(lambda x, y: min(x,y),\n",
    "                map(int,\n",
    "                    filter(lambda string: string.isdigit(), string1.split())               \n",
    "                   )\n",
    "               )\n",
    "    \n",
    "print(result)"
   ]
  },
  {
   "cell_type": "code",
   "execution_count": 22,
   "metadata": {},
   "outputs": [
    {
     "ename": "NameError",
     "evalue": "name 'string' is not defined",
     "output_type": "error",
     "traceback": [
      "\u001b[0;31m---------------------------------------------------------------------------\u001b[0m",
      "\u001b[0;31mNameError\u001b[0m                                 Traceback (most recent call last)",
      "\u001b[0;32m<ipython-input-22-a741780e8fb0>\u001b[0m in \u001b[0;36m<module>\u001b[0;34m\u001b[0m\n\u001b[1;32m      1\u001b[0m result = reduce(min,\n\u001b[1;32m      2\u001b[0m                 map(int,\n\u001b[0;32m----> 3\u001b[0;31m                     \u001b[0mfilter\u001b[0m\u001b[0;34m(\u001b[0m\u001b[0mstr\u001b[0m\u001b[0;34m.\u001b[0m\u001b[0misdigit\u001b[0m\u001b[0;34m(\u001b[0m\u001b[0mstring\u001b[0m\u001b[0;34m)\u001b[0m\u001b[0;34m,\u001b[0m \u001b[0mstring1\u001b[0m\u001b[0;34m.\u001b[0m\u001b[0msplit\u001b[0m\u001b[0;34m(\u001b[0m\u001b[0;34m)\u001b[0m\u001b[0;34m)\u001b[0m\u001b[0;34m\u001b[0m\u001b[0m\n\u001b[0m\u001b[1;32m      4\u001b[0m                    )\n\u001b[1;32m      5\u001b[0m                )\n",
      "\u001b[0;31mNameError\u001b[0m: name 'string' is not defined"
     ]
    }
   ],
   "source": [
    "result = reduce(min,\n",
    "                map(int,\n",
    "                    filter(str.isdigit(string), string1.split())               \n",
    "                   )\n",
    "               )\n",
    "    \n",
    "print(result)"
   ]
  },
  {
   "cell_type": "code",
   "execution_count": 27,
   "metadata": {},
   "outputs": [
    {
     "name": "stdout",
     "output_type": "stream",
     "text": [
      "['100', '200', '300', '100']\n",
      "[100, 200, 300, 100]\n",
      "700\n"
     ]
    },
    {
     "ename": "NameError",
     "evalue": "name 'string' is not defined",
     "output_type": "error",
     "traceback": [
      "\u001b[0;31m---------------------------------------------------------------------------\u001b[0m",
      "\u001b[0;31mNameError\u001b[0m                                 Traceback (most recent call last)",
      "\u001b[0;32m<ipython-input-27-d8392ff0821d>\u001b[0m in \u001b[0;36m<module>\u001b[0;34m\u001b[0m\n\u001b[1;32m     21\u001b[0m \u001b[0mlist1\u001b[0m \u001b[0;34m=\u001b[0m \u001b[0mstring1\u001b[0m\u001b[0;34m.\u001b[0m\u001b[0msplit\u001b[0m\u001b[0;34m(\u001b[0m\u001b[0;34m\" \"\u001b[0m\u001b[0;34m)\u001b[0m\u001b[0;34m\u001b[0m\u001b[0m\n\u001b[1;32m     22\u001b[0m \u001b[0;31m#list2 = list(filter(lambda x: x.isdigit(), list1))\u001b[0m\u001b[0;34m\u001b[0m\u001b[0;34m\u001b[0m\u001b[0m\n\u001b[0;32m---> 23\u001b[0;31m \u001b[0mlist2\u001b[0m \u001b[0;34m=\u001b[0m \u001b[0mlist\u001b[0m\u001b[0;34m(\u001b[0m\u001b[0mfilter\u001b[0m\u001b[0;34m(\u001b[0m\u001b[0mstring\u001b[0m\u001b[0;34m.\u001b[0m\u001b[0misdigit\u001b[0m\u001b[0;34m(\u001b[0m\u001b[0;34m)\u001b[0m\u001b[0;34m,\u001b[0m \u001b[0mlist1\u001b[0m\u001b[0;34m)\u001b[0m\u001b[0;34m)\u001b[0m\u001b[0;34m\u001b[0m\u001b[0m\n\u001b[0m\u001b[1;32m     24\u001b[0m \u001b[0mprint\u001b[0m\u001b[0;34m(\u001b[0m\u001b[0mlist2\u001b[0m\u001b[0;34m)\u001b[0m\u001b[0;34m\u001b[0m\u001b[0m\n\u001b[1;32m     25\u001b[0m \u001b[0;31m#lambda is not must thing. Normal function can be passed\u001b[0m\u001b[0;34m\u001b[0m\u001b[0;34m\u001b[0m\u001b[0m\n",
      "\u001b[0;31mNameError\u001b[0m: name 'string' is not defined"
     ]
    }
   ],
   "source": [
    "from functools import reduce\n",
    "def fun(x):\n",
    "   return int(x)\n",
    "\n",
    "string1 = \"banana 100 pomogranite 200 apple 300 kiwi 100\"\n",
    "list1 = string1.split(\" \")\n",
    "list2 = list(filter(lambda x: x.isdigit(), list1))\n",
    "print(list2)\n",
    "#lambda is not must thing. Normal function can be passed\n",
    "#\n",
    "list3 = list(map(fun, list2))\n",
    "print(list3)\n",
    "\n",
    "sum1 = reduce(lambda x,y:x+y, list3)\n",
    "print(sum1)\n",
    "from functools import reduce\n",
    "def fun(x):\n",
    "   return int(x)\n",
    "\n",
    "string1 = \"banana 100 pomogranite 200 apple 300 kiwi 100\"\n",
    "list1 = string1.split(\" \")\n",
    "#list2 = list(filter(lambda x: x.isdigit(), list1))\n",
    "list2 = list(filter(string.isdigit(), list1))\n",
    "print(list2)\n",
    "#lambda is not must thing. Normal function can be passed\n",
    "#\n",
    "list3 = list(map(fun, list2))\n",
    "print(list3)\n",
    "\n",
    "sum1 = reduce(lambda x,y:x+y, list3)\n",
    "print(sum1)\n",
    "\n",
    "max1 = reduce(lambda x,y: x if x>y else y, list3)\n",
    "print(max1)\n",
    "\n",
    "max1 = reduce(lambda x,y: x if x<y else y, list3)\n",
    "print(max1)"
   ]
  },
  {
   "cell_type": "markdown",
   "metadata": {},
   "source": [
    "### How file system workds\n",
    "\n",
    "- any OS main thing is file system, 2nd is process management\n",
    "- why windows is not sutable is for servers\n",
    "    - filesystem, and process management design is very good\n",
    "- while installing OS it asks you to create swap memory and all\n",
    "- refer to the diagram we drawn"
   ]
  },
  {
   "cell_type": "markdown",
   "metadata": {},
   "source": [
    "## File Handling\n",
    "\n",
    "    Synatx:\n",
    "    file object = open(file_name [,access_mode][,buffering])\n",
    "\n",
    "    file_name\n",
    "    access_mode = \"r\", \"r+\", \"w\", \"w+\", \"a\", \"a+\"\n",
    "                = \"rb\", \"rb+\", \"wb\", \"wb+\", \"ab\", \"ab+\"\n",
    "                \n",
    "    Buffering   = 10000, 100000 ........ bytes\n",
    "\n",
    "    Default option for acess mode is \"r\""
   ]
  },
  {
   "cell_type": "markdown",
   "metadata": {},
   "source": [
    "### we cannot read in \"a\" mode"
   ]
  },
  {
   "cell_type": "code",
   "execution_count": 31,
   "metadata": {},
   "outputs": [
    {
     "name": "stdout",
     "output_type": "stream",
     "text": [
      "day1\n",
      "Python_Class_Kamal_S_05_01_April_2019.ipynb\n",
      "Python_Class_Kamal_S_06_02_April_2019.ipynb\n",
      "Python_Class_Kamal_S_XX_17_April_2019.ipynb\n",
      "Python_Class_Kamal_S_XX_19_April_2019_hw.ipynb\n",
      "Python_Class_Kamal_S_XX_19_April_2019.ipynb\n",
      "Python_Class_Kamal_S_XX_20_April_2019.ipynb\n",
      "README.md\n",
      "/home/tensorflow/git_repos/practice_python\n"
     ]
    }
   ],
   "source": [
    "!ls\n",
    "!pwd"
   ]
  },
  {
   "cell_type": "code",
   "execution_count": 34,
   "metadata": {},
   "outputs": [
    {
     "name": "stdout",
     "output_type": "stream",
     "text": [
      "# practice_python\n",
      "- a repo for storing Python practise problems\n",
      "\n"
     ]
    }
   ],
   "source": [
    "fd = open(\"README.md\",\"r\")\n",
    "\n",
    "data = fd.read()\n",
    "print(data)\n",
    "fd.close()"
   ]
  },
  {
   "cell_type": "code",
   "execution_count": 35,
   "metadata": {},
   "outputs": [
    {
     "name": "stdout",
     "output_type": "stream",
     "text": [
      "/bin/sh: 1: tony is learning pyton: not found\r\n"
     ]
    }
   ],
   "source": [
    "!\"tony is learning pyton\">>1.txt "
   ]
  },
  {
   "cell_type": "code",
   "execution_count": 37,
   "metadata": {},
   "outputs": [
    {
     "name": "stdout",
     "output_type": "stream",
     "text": [
      "# practice_python\r\n",
      "- a repo for storing Python practise problems\r\n"
     ]
    }
   ],
   "source": [
    "%cat README.md"
   ]
  },
  {
   "cell_type": "code",
   "execution_count": 38,
   "metadata": {},
   "outputs": [],
   "source": [
    "fd = open(\"file.txt\", \"w\")\n",
    "fd.write(\"Hello Python\")\n",
    "fd.write(\"Hello Python\")\n",
    "fd.write(\"Hello Python\")\n",
    "fd.close()"
   ]
  },
  {
   "cell_type": "code",
   "execution_count": 39,
   "metadata": {},
   "outputs": [
    {
     "name": "stdout",
     "output_type": "stream",
     "text": [
      "Hello PythonHello PythonHello Python"
     ]
    }
   ],
   "source": [
    "cat file.txt"
   ]
  },
  {
   "cell_type": "code",
   "execution_count": 44,
   "metadata": {},
   "outputs": [
    {
     "name": "stdout",
     "output_type": "stream",
     "text": [
      "<_io.BufferedWriter name='file.txt'>\n"
     ]
    }
   ],
   "source": [
    "dir(fd)\n",
    "print(fd.buffer)"
   ]
  },
  {
   "cell_type": "markdown",
   "metadata": {},
   "source": [
    "## File Descriptor\n",
    "\n",
    "- fd.tell ## at what offset you are"
   ]
  },
  {
   "cell_type": "code",
   "execution_count": null,
   "metadata": {},
   "outputs": [],
   "source": []
  }
 ],
 "metadata": {
  "kernelspec": {
   "display_name": "Python 3",
   "language": "python",
   "name": "python3"
  },
  "language_info": {
   "codemirror_mode": {
    "name": "ipython",
    "version": 3
   },
   "file_extension": ".py",
   "mimetype": "text/x-python",
   "name": "python",
   "nbconvert_exporter": "python",
   "pygments_lexer": "ipython3",
   "version": "3.5.2"
  }
 },
 "nbformat": 4,
 "nbformat_minor": 2
}
