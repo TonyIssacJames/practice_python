{
 "cells": [
  {
   "cell_type": "markdown",
   "metadata": {},
   "source": [
    "## Complete Python NumPy Tutorial (Creating Arrays, Indexing, Math, Statistics, Reshaping)\n",
    "\n",
    "\n",
    "- https://www.youtube.com/watch?v=GB9ByFAIAH4\n",
    "\n",
    "#### Keith Galli"
   ]
  },
  {
   "cell_type": "markdown",
   "metadata": {},
   "source": [
    "- numpy is a multidimensionl array libray\n"
   ]
  },
  {
   "cell_type": "markdown",
   "metadata": {},
   "source": [
    "#### 1 - Diff between numpy and list?\n",
    "\n",
    "- numpy is superfast than lists\n",
    "    - numpy uses fixed type\n",
    "\n",
    "\n",
    "#### 2 - Why numpy is faster than list?\n",
    "    - numpy uses a fixed type for one array\n",
    "        - elements of numpy take fixed size and stored in contigous memory        \n",
    "        - accessing them is faster, it make use of SIMD and cache\n",
    "        \n",
    "    - elements of list \n",
    "     - while list is a genercic conotainer\n",
    "        - generic container\n",
    "            - each elemets has\n",
    "                - size\n",
    "                - reference count\n",
    "                - Object type\n",
    "                - Object Value\n",
    "     - numpy\n",
    "         - uses less bytes and stored contigously\n",
    "             - less bytes to read\n",
    "             - SIMD and cache effective\n",
    "         - while doing opration we don't have to do type check each time\n",
    "         - numpy can use efficent data types (like bytes and all)\n",
    "\n",
    "#### 3 - Application of Numpy\n",
    "    - maths (matlab replacement)\n",
    "    - backend of many applications (panda, image processing)\n",
    "    - machine learning\n",
    "    - matplot lib\n",
    "    \n",
    "#### 4 - Lists vs Numpy\n",
    "    - Insertion, Deletion, Append, Concat all can be done in both\n",
    "    - in numpy we can do element wise arithmetic (not possible in list)"
   ]
  },
  {
   "cell_type": "code",
   "execution_count": 205,
   "metadata": {},
   "outputs": [],
   "source": [
    "l1 = [ 1, 2 , 4]\n",
    "l2 = [ 3, 4,  5]"
   ]
  },
  {
   "cell_type": "code",
   "execution_count": 206,
   "metadata": {},
   "outputs": [
    {
     "data": {
      "text/plain": [
       "[1, 2, 4, 3, 4, 5]"
      ]
     },
     "execution_count": 206,
     "metadata": {},
     "output_type": "execute_result"
    }
   ],
   "source": [
    "l1 + l2"
   ]
  },
  {
   "cell_type": "code",
   "execution_count": 207,
   "metadata": {},
   "outputs": [],
   "source": [
    "import numpy as np"
   ]
  },
  {
   "cell_type": "markdown",
   "metadata": {},
   "source": [
    "## The basics "
   ]
  },
  {
   "cell_type": "markdown",
   "metadata": {},
   "source": [
    "### inspect an array"
   ]
  },
  {
   "cell_type": "code",
   "execution_count": 208,
   "metadata": {},
   "outputs": [],
   "source": [
    "a_normal = np.array([1 , 2, 3])\n",
    "a_int16  = np.array([1,  2, 3], dtype = 'int16')"
   ]
  },
  {
   "cell_type": "code",
   "execution_count": 209,
   "metadata": {},
   "outputs": [
    {
     "name": "stdout",
     "output_type": "stream",
     "text": [
      "[1 2 3] [1 2 3]\n"
     ]
    }
   ],
   "source": [
    "print(a_normal, a_int16)"
   ]
  },
  {
   "cell_type": "code",
   "execution_count": 210,
   "metadata": {},
   "outputs": [],
   "source": [
    "b = np.array([[9.0, 8.0, 7.5], [6.1, 5.3, 2.2]])"
   ]
  },
  {
   "cell_type": "code",
   "execution_count": 211,
   "metadata": {},
   "outputs": [
    {
     "name": "stdout",
     "output_type": "stream",
     "text": [
      "[[9.  8.  7.5]\n",
      " [6.1 5.3 2.2]]\n"
     ]
    }
   ],
   "source": [
    "print(b)"
   ]
  },
  {
   "cell_type": "markdown",
   "metadata": {},
   "source": [
    "####  Get Dimension"
   ]
  },
  {
   "cell_type": "code",
   "execution_count": 212,
   "metadata": {},
   "outputs": [
    {
     "name": "stdout",
     "output_type": "stream",
     "text": [
      "1 1 2\n"
     ]
    }
   ],
   "source": [
    "print(a_normal.ndim, a_int16.ndim, b.ndim)"
   ]
  },
  {
   "cell_type": "markdown",
   "metadata": {},
   "source": [
    "#### Get shape"
   ]
  },
  {
   "cell_type": "code",
   "execution_count": 213,
   "metadata": {},
   "outputs": [
    {
     "name": "stdout",
     "output_type": "stream",
     "text": [
      "(3,) (3,) (2, 3)\n"
     ]
    }
   ],
   "source": [
    "print(a_normal.shape, a_int16.shape, b.shape)"
   ]
  },
  {
   "cell_type": "markdown",
   "metadata": {},
   "source": [
    "#### Get type"
   ]
  },
  {
   "cell_type": "code",
   "execution_count": 214,
   "metadata": {},
   "outputs": [
    {
     "name": "stdout",
     "output_type": "stream",
     "text": [
      "int32 int16 float64\n"
     ]
    }
   ],
   "source": [
    "print(a_normal.dtype, a_int16.dtype, b.dtype)"
   ]
  },
  {
   "cell_type": "markdown",
   "metadata": {},
   "source": [
    "####  Get total elements"
   ]
  },
  {
   "cell_type": "code",
   "execution_count": 215,
   "metadata": {},
   "outputs": [
    {
     "name": "stdout",
     "output_type": "stream",
     "text": [
      "3 3 6\n"
     ]
    }
   ],
   "source": [
    "print(a_normal.size, a_int16.size, b.size)"
   ]
  },
  {
   "cell_type": "code",
   "execution_count": 216,
   "metadata": {},
   "outputs": [
    {
     "data": {
      "text/plain": [
       "3"
      ]
     },
     "execution_count": 216,
     "metadata": {},
     "output_type": "execute_result"
    }
   ],
   "source": [
    "len(a_normal)"
   ]
  },
  {
   "cell_type": "markdown",
   "metadata": {},
   "source": [
    "####  Get elemnt size and total size\n",
    "    - what about the book keepoing for a, b (saying they are float, int)?"
   ]
  },
  {
   "cell_type": "code",
   "execution_count": 217,
   "metadata": {},
   "outputs": [
    {
     "name": "stdout",
     "output_type": "stream",
     "text": [
      "4 2 8\n"
     ]
    }
   ],
   "source": [
    "print(a_normal.itemsize, a_int16.itemsize, b.itemsize)"
   ]
  },
  {
   "cell_type": "code",
   "execution_count": 218,
   "metadata": {},
   "outputs": [
    {
     "name": "stdout",
     "output_type": "stream",
     "text": [
      "12 6 48\n"
     ]
    }
   ],
   "source": [
    "print(a_normal.size * a_normal.itemsize, a_int16.size* a_int16.itemsize, b.size * b.itemsize)"
   ]
  },
  {
   "cell_type": "code",
   "execution_count": 219,
   "metadata": {},
   "outputs": [
    {
     "name": "stdout",
     "output_type": "stream",
     "text": [
      "12 6 48\n"
     ]
    }
   ],
   "source": [
    "print(a_normal.nbytes, a_int16.nbytes, b.nbytes)"
   ]
  },
  {
   "cell_type": "markdown",
   "metadata": {},
   "source": [
    "## Accessing/Changing specific elements, rows, columns"
   ]
  },
  {
   "cell_type": "code",
   "execution_count": 220,
   "metadata": {},
   "outputs": [
    {
     "name": "stdout",
     "output_type": "stream",
     "text": [
      "[[ 1  2  3  4  5  6  7]\n",
      " [ 8  9 10 11 12 13 14]]\n"
     ]
    }
   ],
   "source": [
    "a = np.array([[1, 2, 3, 4, 5, 6, 7], [8, 9 , 10, 11, 12, 13, 14]])\n",
    "\n",
    "print(a)"
   ]
  },
  {
   "cell_type": "markdown",
   "metadata": {},
   "source": [
    "####  Get a specific element"
   ]
  },
  {
   "cell_type": "code",
   "execution_count": 221,
   "metadata": {},
   "outputs": [
    {
     "data": {
      "text/plain": [
       "13"
      ]
     },
     "execution_count": 221,
     "metadata": {},
     "output_type": "execute_result"
    }
   ],
   "source": [
    "a [1, 5]"
   ]
  },
  {
   "cell_type": "markdown",
   "metadata": {},
   "source": [
    "####  you can also use the negative notation like list with numpy arrays"
   ]
  },
  {
   "cell_type": "code",
   "execution_count": 222,
   "metadata": {},
   "outputs": [
    {
     "data": {
      "text/plain": [
       "13"
      ]
     },
     "execution_count": 222,
     "metadata": {},
     "output_type": "execute_result"
    }
   ],
   "source": [
    "a[-1, -2]"
   ]
  },
  {
   "cell_type": "markdown",
   "metadata": {},
   "source": [
    "#### Get a specific row or coloumn, we can use the slicing sililiar to lists"
   ]
  },
  {
   "cell_type": "code",
   "execution_count": 223,
   "metadata": {},
   "outputs": [
    {
     "name": "stdout",
     "output_type": "stream",
     "text": [
      "[ 8  9 10 11 12 13 14]\n",
      "[ 3 10]\n",
      "(7,)\n",
      "(2,)\n"
     ]
    }
   ],
   "source": [
    "print(a[1, :])\n",
    "print(a[:, 2])\n",
    "\n",
    "print(a[1, :].shape)\n",
    "print(a[:, 2].shape)"
   ]
  },
  {
   "cell_type": "markdown",
   "metadata": {},
   "source": [
    "#### Getting a little more fancy, indexing"
   ]
  },
  {
   "cell_type": "code",
   "execution_count": 224,
   "metadata": {},
   "outputs": [],
   "source": [
    "a_list = [1, 2, 3, 4, 5, 6, 7]"
   ]
  },
  {
   "cell_type": "code",
   "execution_count": 225,
   "metadata": {},
   "outputs": [
    {
     "data": {
      "text/plain": [
       "[2, 4]"
      ]
     },
     "execution_count": 225,
     "metadata": {},
     "output_type": "execute_result"
    }
   ],
   "source": [
    "a_list[1:5:2]"
   ]
  },
  {
   "cell_type": "code",
   "execution_count": null,
   "metadata": {},
   "outputs": [],
   "source": []
  },
  {
   "cell_type": "code",
   "execution_count": 226,
   "metadata": {},
   "outputs": [
    {
     "name": "stdout",
     "output_type": "stream",
     "text": [
      "[ 9 11]\n",
      "[10]\n"
     ]
    }
   ],
   "source": [
    "print(a[1, 1:5:2])\n",
    "print(a[1:5:2, 2])"
   ]
  },
  {
   "cell_type": "code",
   "execution_count": 227,
   "metadata": {},
   "outputs": [
    {
     "name": "stdout",
     "output_type": "stream",
     "text": [
      "[[ 4  5]\n",
      " [11 12]]\n"
     ]
    }
   ],
   "source": [
    "print(a[:, 3:5])"
   ]
  },
  {
   "cell_type": "code",
   "execution_count": 228,
   "metadata": {},
   "outputs": [
    {
     "name": "stdout",
     "output_type": "stream",
     "text": [
      "[[[1 2]\n",
      "  [3 4]]\n",
      "\n",
      " [[5 6]\n",
      "  [7 8]]]\n"
     ]
    }
   ],
   "source": [
    "c = np.array([[[1, 2],\n",
    "               [3, 4]],\n",
    "             \n",
    "              [[5, 6],\n",
    "               [7, 8]]\n",
    "             ])\n",
    "\n",
    "print(c)"
   ]
  },
  {
   "cell_type": "code",
   "execution_count": 229,
   "metadata": {},
   "outputs": [
    {
     "data": {
      "text/plain": [
       "array([[1, 3],\n",
       "       [5, 7]])"
      ]
     },
     "execution_count": 229,
     "metadata": {},
     "output_type": "execute_result"
    }
   ],
   "source": [
    "# get first element of every rows\n",
    "\n",
    "c[:,:, 0]"
   ]
  },
  {
   "cell_type": "code",
   "execution_count": 230,
   "metadata": {},
   "outputs": [
    {
     "data": {
      "text/plain": [
       "array([[3, 4],\n",
       "       [7, 8]])"
      ]
     },
     "execution_count": 230,
     "metadata": {},
     "output_type": "execute_result"
    }
   ],
   "source": [
    "#get second row of every matrix\n",
    "\n",
    "c[:, 1, :]"
   ]
  },
  {
   "cell_type": "markdown",
   "metadata": {},
   "source": [
    "#### Once you can access properly, you can give the right sized input to update\n",
    "    - always the access is row first column second\n",
    "    - the assigned element should be of right size or single element"
   ]
  },
  {
   "cell_type": "code",
   "execution_count": 231,
   "metadata": {},
   "outputs": [
    {
     "name": "stdout",
     "output_type": "stream",
     "text": [
      "[[ 1  2  3  4  5  6  7]\n",
      " [ 8  9 10 11 12 13 14]]\n",
      "[[ 1  2  9  4  5  6  7]\n",
      " [ 8  9  9 11 12 13 14]]\n",
      "[[ 1  2  9  9 10  6  7]\n",
      " [ 8  9  9  9 10 13 14]]\n",
      "[[ 1  2  9 12 12  6  7]\n",
      " [ 8  9  9 12 12 13 14]]\n"
     ]
    }
   ],
   "source": [
    "a = np.array([[1, 2, 3, 4, 5, 6, 7], [8, 9 , 10, 11, 12, 13, 14]])\n",
    "print(a)\n",
    "\n",
    "#set the third column\n",
    "\n",
    "a[:, 2] = [9,9]\n",
    "print(a)\n",
    "\n",
    "#set 4th and 5 th coumn\n",
    "a[:, 3:5] = [[9,10], [9, 10]]\n",
    "print(a)\n",
    "\n",
    "a[:, 3:5] = 12\n",
    "print(a)"
   ]
  },
  {
   "cell_type": "code",
   "execution_count": 232,
   "metadata": {},
   "outputs": [
    {
     "name": "stdout",
     "output_type": "stream",
     "text": [
      "[[[1 2]\n",
      "  [3 4]]\n",
      "\n",
      " [[5 6]\n",
      "  [7 8]]]\n",
      "[[[0 2]\n",
      "  [0 4]]\n",
      "\n",
      " [[0 6]\n",
      "  [0 8]]]\n",
      "[[[ 0  2]\n",
      "  [13 14]]\n",
      "\n",
      " [[ 0  6]\n",
      "  [17 18]]]\n",
      "[[[ 0 32]\n",
      "  [13 44]]\n",
      "\n",
      " [[ 0 36]\n",
      "  [17 48]]]\n"
     ]
    }
   ],
   "source": [
    "c = np.array([[[1, 2],\n",
    "               [3, 4]],\n",
    "             \n",
    "              [[5, 6],\n",
    "               [7, 8]]\n",
    "             ])\n",
    "\n",
    "print(c)\n",
    "\n",
    "\n",
    "#set first element of all arrays\n",
    "\n",
    "c[:, :, 0] = 0\n",
    "\n",
    "print(c)\n",
    "\n",
    "#set the second row in 13, 14, 17, 18\n",
    "c[:, 1, :] = [[13, 14],\n",
    "              [17, 18]]\n",
    "\n",
    "print(c)\n",
    "\n",
    "\n",
    "#set the second coumn in 32, 44, 36, 48\n",
    "c[:, :, 1] = [[32, 44],\n",
    "              [36, 48]]\n",
    "\n",
    "print(c)"
   ]
  },
  {
   "cell_type": "markdown",
   "metadata": {},
   "source": [
    "#### What is the exact order in which things are getting filled?\n",
    "    - scan rows first seems to be the principle"
   ]
  },
  {
   "cell_type": "markdown",
   "metadata": {},
   "source": [
    "## Initializing different types of arrays"
   ]
  },
  {
   "cell_type": "code",
   "execution_count": 233,
   "metadata": {},
   "outputs": [
    {
     "name": "stdout",
     "output_type": "stream",
     "text": [
      "[[0. 0. 0.]\n",
      " [0. 0. 0.]] (2, 3)\n"
     ]
    }
   ],
   "source": [
    "#All zero matrix\n",
    "test = np.zeros((2, 3))\n",
    "print(test, test.shape)"
   ]
  },
  {
   "cell_type": "code",
   "execution_count": 234,
   "metadata": {},
   "outputs": [
    {
     "name": "stdout",
     "output_type": "stream",
     "text": [
      "[[1 1 1]\n",
      " [1 1 1]] (2, 3) int16\n"
     ]
    }
   ],
   "source": [
    "#All 1s matrix\n",
    "\n",
    "test = np.ones((2, 3), dtype='int16')\n",
    "print(test, test.shape, test.dtype)"
   ]
  },
  {
   "cell_type": "code",
   "execution_count": 235,
   "metadata": {},
   "outputs": [
    {
     "name": "stdout",
     "output_type": "stream",
     "text": [
      "[[255 255 255]\n",
      " [255 255 255]] (2, 3) int16\n"
     ]
    }
   ],
   "source": [
    "#Initialize a matirx with any number\n",
    "\n",
    "test1 = np.full((2, 3), 255, dtype='int16')\n",
    "print(test1, test1.shape, test1.dtype)"
   ]
  },
  {
   "cell_type": "code",
   "execution_count": 236,
   "metadata": {},
   "outputs": [
    {
     "name": "stdout",
     "output_type": "stream",
     "text": [
      "[[256 256 256]\n",
      " [256 256 256]] (2, 3) int16\n"
     ]
    }
   ],
   "source": [
    "test2 = np.full_like(test1, 256, dtype='int16')\n",
    "print(test2, test2.shape, test2.dtype)"
   ]
  },
  {
   "cell_type": "code",
   "execution_count": 237,
   "metadata": {},
   "outputs": [
    {
     "name": "stdout",
     "output_type": "stream",
     "text": [
      "[[0.91062352 0.07698418 0.9762417  0.24125753 0.73964305]\n",
      " [0.8377246  0.14972627 0.85870154 0.48467715 0.66279828]]\n",
      "[[0.74654615 0.47027222 0.90567658]\n",
      " [0.670364   0.5998881  0.8928849 ]]\n"
     ]
    }
   ],
   "source": [
    "#Randome decimal number\n",
    "\n",
    "rand1 = np.random.rand(2, 5)\n",
    "print(rand1)\n",
    "\n",
    "\n",
    "rand1 = np.random.random_sample(test2.shape)\n",
    "print(rand1)"
   ]
  },
  {
   "cell_type": "code",
   "execution_count": 238,
   "metadata": {},
   "outputs": [
    {
     "name": "stdout",
     "output_type": "stream",
     "text": [
      "[[5 3 0 3 5]\n",
      " [4 4 1 1 1]]\n",
      "[[-3 -4  0 -1 -2]\n",
      " [ 1  1 -4 -1  2]]\n"
     ]
    }
   ],
   "source": [
    "#randome integer values with controlled range\n",
    "\n",
    "rand1 = np.random.randint(7, size=(2, 5))\n",
    "print(rand1)\n",
    "\n",
    "\n",
    "rand1 = np.random.randint(-4, 5, size=(2, 5))\n",
    "print(rand1)"
   ]
  },
  {
   "cell_type": "code",
   "execution_count": 239,
   "metadata": {},
   "outputs": [
    {
     "data": {
      "text/plain": [
       "array([[1., 0., 0., 0., 0.],\n",
       "       [0., 1., 0., 0., 0.],\n",
       "       [0., 0., 1., 0., 0.],\n",
       "       [0., 0., 0., 1., 0.],\n",
       "       [0., 0., 0., 0., 1.]])"
      ]
     },
     "execution_count": 239,
     "metadata": {},
     "output_type": "execute_result"
    }
   ],
   "source": [
    "#The identity matrix\n",
    "\n",
    "np.identity(5)"
   ]
  },
  {
   "cell_type": "code",
   "execution_count": 240,
   "metadata": {},
   "outputs": [
    {
     "name": "stdout",
     "output_type": "stream",
     "text": [
      "[[1 2 3]]\n",
      "[[1 2 3]\n",
      " [1 2 3]\n",
      " [1 2 3]]\n",
      "[[1 1 1 2 2 2 3 3 3]]\n"
     ]
    }
   ],
   "source": [
    "# repeat the elements in an array\n",
    "\n",
    "arr = np.array([[1, 2, 3]])\n",
    "r1  = np.repeat(arr, 3, axis=0)\n",
    "r2  = np.repeat(arr, 3, axis=1)\n",
    "\n",
    "print(arr)\n",
    "print(r1)\n",
    "print(r2)"
   ]
  },
  {
   "cell_type": "markdown",
   "metadata": {},
   "source": [
    "## Copying confusions,\n",
    "\n",
    "### normal, shallow or deep ?\n",
    "    - https://www.afternerd.com/blog/python-copy-list/"
   ]
  },
  {
   "cell_type": "code",
   "execution_count": 241,
   "metadata": {},
   "outputs": [
    {
     "name": "stdout",
     "output_type": "stream",
     "text": [
      "--------------------------------------------------\n",
      "list1:  ['dog', 3, 5] \n",
      "list2:  [['dog', 3, 5], 2, 4]\n",
      "--------------------------------------------------\n",
      "list1:  ['dog', 3, 5, 'cat1'] \n",
      "list2:  [['dog', 3, 5, 'cat1'], 2, 4, 'cat3', 'cat2'] \n",
      "list3:  [['dog', 3, 5, 'cat1'], 2, 4, 'cat3', 'cat2']\n",
      "--------------------------------------------------\n",
      "list1:  ['dog', 3, 5, 'cat1'] \n",
      "list2:  [['dog', 3, 5, 'cat1'], 2, 4, 'cat2'] \n",
      "list3:  [['dog', 3, 5, 'cat1'], 2, 4, 'cat3']\n",
      "--------------------------------------------------\n",
      "list1:  ['dog', 3, 5, 'cat1'] \n",
      "list2:  [['dog', 3, 5, 'cat1'], 2, 4, 'cat2'] \n",
      "list3:  [['dog', 3, 5, 'cat1'], 2, 4, 'cat3']\n",
      "--------------------------------------------------\n",
      "list1:  ['dog', 3, 5, 'cat1'] \n",
      "list2:  [['dog', 3, 5, 'cat1'], 2, 4, 'cat2'] \n",
      "list3:  [['dog', 3, 5], 2, 4, 'cat3']\n"
     ]
    }
   ],
   "source": [
    "import copy\n",
    "\n",
    "list1 = ['dog', 3, 5]\n",
    "list2 = [list1, 2, 4]\n",
    "\n",
    "print('-'*50)\n",
    "print(\"list1: \", list1, \"\\nlist2: \", list2)\n",
    "\n",
    "#trying \n",
    "list1 = ['dog', 3, 5]\n",
    "list2 = [list1, 2, 4]\n",
    "\n",
    "list3 = list2\n",
    "\n",
    "list3.append('cat3')\n",
    "list2.append('cat2')\n",
    "list1.append('cat1')\n",
    "\n",
    "print('-'*50)\n",
    "print(\"list1: \", list1, \"\\nlist2: \", list2, \"\\nlist3: \", list3)\n",
    "\n",
    "#trying shallow copy\n",
    "list1 = ['dog', 3, 5]\n",
    "list2 = [list1, 2, 4]\n",
    "\n",
    "list3 = list2.copy()\n",
    "\n",
    "list3.append('cat3')\n",
    "list2.append('cat2')\n",
    "list1.append('cat1')\n",
    "\n",
    "print('-'*50)\n",
    "print(\"list1: \", list1, \"\\nlist2: \", list2, \"\\nlist3: \", list3,)\n",
    "\n",
    "#trying shallow copy using slicing\n",
    "list1 = ['dog', 3, 5]\n",
    "list2 = [list1, 2, 4]\n",
    "\n",
    "list3 = list2[:]\n",
    "\n",
    "list3.append('cat3')\n",
    "list2.append('cat2')\n",
    "list1.append('cat1')\n",
    "\n",
    "print('-'*50)\n",
    "print(\"list1: \", list1, \"\\nlist2: \", list2, \"\\nlist3: \", list3)\n",
    "\n",
    "#trying deep copy\n",
    "list1 = ['dog', 3, 5]\n",
    "list2 = [list1, 2, 4]\n",
    "\n",
    "list3 = copy.deepcopy(list2)\n",
    "\n",
    "list3.append('cat3')\n",
    "list2.append('cat2')\n",
    "list1.append('cat1')\n",
    "\n",
    "print('-'*50)\n",
    "print(\"list1: \", list1, \"\\nlist2: \", list2, \"\\nlist3: \", list3)"
   ]
  },
  {
   "cell_type": "markdown",
   "metadata": {},
   "source": [
    "## Mathematics\n",
    "\n",
    "- element wise operation\n",
    "- vector operations\n",
    "\n"
   ]
  },
  {
   "cell_type": "code",
   "execution_count": 242,
   "metadata": {},
   "outputs": [
    {
     "name": "stdout",
     "output_type": "stream",
     "text": [
      "[1 2 3 4] int32\n"
     ]
    }
   ],
   "source": [
    "a = np.array([1, 2, 3, 4])\n",
    "print(a, a.dtype)"
   ]
  },
  {
   "cell_type": "code",
   "execution_count": 243,
   "metadata": {},
   "outputs": [
    {
     "name": "stdout",
     "output_type": "stream",
     "text": [
      "[6 7 8 9]\n",
      "[-4 -3 -2 -1]\n",
      "[0.2 0.4 0.6 0.8]\n",
      "[0 0 0 0]\n",
      "[ 5 10 15 20]\n",
      "[ 1  4  9 16]\n"
     ]
    }
   ],
   "source": [
    "print(a + 5)\n",
    "print(a - 5)\n",
    "print(a / 5)\n",
    "print(a // 5)\n",
    "print(a * 5)\n",
    "print(a ** 2)"
   ]
  },
  {
   "cell_type": "code",
   "execution_count": 244,
   "metadata": {},
   "outputs": [],
   "source": [
    "b = np.array([ 6, 7, 8, 9])"
   ]
  },
  {
   "cell_type": "code",
   "execution_count": 245,
   "metadata": {},
   "outputs": [
    {
     "name": "stdout",
     "output_type": "stream",
     "text": [
      "[ 7  9 11 13]\n",
      "[-5 -5 -5 -5]\n",
      "[0.16666667 0.28571429 0.375      0.44444444]\n",
      "[0 0 0 0]\n",
      "[ 6 14 24 36]\n",
      "[     1    128   6561 262144]\n"
     ]
    }
   ],
   "source": [
    "print(a + b)\n",
    "print(a - b)\n",
    "print(a / b)\n",
    "print(a // b)\n",
    "print(a * b)\n",
    "print(a ** b)"
   ]
  },
  {
   "cell_type": "code",
   "execution_count": 246,
   "metadata": {},
   "outputs": [
    {
     "name": "stdout",
     "output_type": "stream",
     "text": [
      "[ 0.54030231 -0.41614684 -0.9899925  -0.65364362]\n",
      "[ 0.84147098  0.90929743  0.14112001 -0.7568025 ]\n"
     ]
    }
   ],
   "source": [
    "print(np.cos(a))\n",
    "print(np.sin(a))"
   ]
  },
  {
   "cell_type": "markdown",
   "metadata": {},
   "source": [
    "##  Linear Algebra"
   ]
  },
  {
   "cell_type": "code",
   "execution_count": 247,
   "metadata": {},
   "outputs": [
    {
     "name": "stdout",
     "output_type": "stream",
     "text": [
      "[[5 5 5]\n",
      " [5 5 5]]\n",
      "[[3 3]\n",
      " [3 3]\n",
      " [3 3]]\n",
      "[[45 45]\n",
      " [45 45]]\n"
     ]
    }
   ],
   "source": [
    "a = np.full((2, 3), 5)\n",
    "print(a)\n",
    "\n",
    "b = np.full((3, 2), 3)\n",
    "print(b)\n",
    "\n",
    "\n",
    "print(np.matmul(a, b))"
   ]
  },
  {
   "cell_type": "code",
   "execution_count": 248,
   "metadata": {},
   "outputs": [
    {
     "name": "stdout",
     "output_type": "stream",
     "text": [
      "[[1. 0. 0.]\n",
      " [0. 1. 0.]\n",
      " [0. 0. 1.]]\n"
     ]
    },
    {
     "data": {
      "text/plain": [
       "1.0"
      ]
     },
     "execution_count": 248,
     "metadata": {},
     "output_type": "execute_result"
    }
   ],
   "source": [
    "#Find the determinent\n",
    "\n",
    "c = np.identity(3)\n",
    "print(c)\n",
    "np.linalg.det(c)"
   ]
  },
  {
   "cell_type": "markdown",
   "metadata": {},
   "source": [
    "## Statitics"
   ]
  },
  {
   "cell_type": "code",
   "execution_count": 249,
   "metadata": {},
   "outputs": [
    {
     "data": {
      "text/plain": [
       "array([[1, 2, 3],\n",
       "       [4, 5, 6]])"
      ]
     },
     "execution_count": 249,
     "metadata": {},
     "output_type": "execute_result"
    }
   ],
   "source": [
    "stats = np.array([[1, 2, 3], [4, 5, 6]])\n",
    "\n",
    "stats"
   ]
  },
  {
   "cell_type": "code",
   "execution_count": 250,
   "metadata": {
    "scrolled": true
   },
   "outputs": [
    {
     "name": "stdout",
     "output_type": "stream",
     "text": [
      "1\n",
      "6\n",
      "3.5\n",
      "21\n",
      "3.5\n",
      "3.5\n",
      "1.707825127659933\n",
      "2.9166666666666665\n"
     ]
    }
   ],
   "source": [
    "print(np.min(stats))\n",
    "print(np.max(stats))\n",
    "print(np.average(stats))\n",
    "print(np.sum(stats))\n",
    "print(np.mean(stats))\n",
    "print(np.median(stats))\n",
    "print(np.std(stats))\n",
    "print(np.var(stats))"
   ]
  },
  {
   "cell_type": "markdown",
   "metadata": {},
   "source": [
    "#### You can do coloum wise and row wise"
   ]
  },
  {
   "cell_type": "code",
   "execution_count": 251,
   "metadata": {},
   "outputs": [
    {
     "name": "stdout",
     "output_type": "stream",
     "text": [
      "[1 2 3]\n",
      "[3 6]\n",
      "[2.5 3.5 4.5]\n",
      "[ 6 15]\n",
      "[2.5 3.5 4.5]\n",
      "[2. 5.]\n",
      "[1.5 1.5 1.5]\n",
      "[0.66666667 0.66666667]\n"
     ]
    }
   ],
   "source": [
    "print(np.min(stats, axis = 0))\n",
    "print(np.max(stats, axis = 1))\n",
    "print(np.average(stats, axis = 0))\n",
    "print(np.sum(stats, axis = 1))\n",
    "print(np.mean(stats, axis = 0))\n",
    "print(np.median(stats, axis = 1))\n",
    "print(np.std(stats, axis = 0))\n",
    "print(np.var(stats, axis = 1))"
   ]
  },
  {
   "cell_type": "markdown",
   "metadata": {},
   "source": [
    "## Reorganizing arrays"
   ]
  },
  {
   "cell_type": "code",
   "execution_count": 252,
   "metadata": {},
   "outputs": [
    {
     "name": "stdout",
     "output_type": "stream",
     "text": [
      "[[1 2 3 4]\n",
      " [5 6 7 8]]\n",
      "-----------------------------------\n",
      "[[1 2 3 4 5 6 7 8]]\n",
      "-----------------------------------\n",
      "[[[1 2]\n",
      "  [3 4]]\n",
      "\n",
      " [[5 6]\n",
      "  [7 8]]]\n",
      "-----------------------------------\n"
     ]
    }
   ],
   "source": [
    "before = np.array([[1, 2, 3, 4], [5, 6, 7, 8]])\n",
    "print(before)\n",
    "\n",
    "print(\"-----------------------------------\")\n",
    "print(before.reshape((1, 8)))\n",
    "print(\"-----------------------------------\")\n",
    "print(before.reshape((2, 2, 2)))\n",
    "print(\"-----------------------------------\")"
   ]
  },
  {
   "cell_type": "code",
   "execution_count": 253,
   "metadata": {},
   "outputs": [
    {
     "data": {
      "text/plain": [
       "array([[0, 1, 2, 3],\n",
       "       [4, 5, 6, 7],\n",
       "       [0, 1, 2, 3],\n",
       "       [4, 5, 6, 7],\n",
       "       [1, 2, 3, 4],\n",
       "       [5, 6, 7, 8]])"
      ]
     },
     "execution_count": 253,
     "metadata": {},
     "output_type": "execute_result"
    }
   ],
   "source": [
    "# vertically stacking vectors\n",
    "\n",
    "v1 = np.array([0, 1, 2, 3])\n",
    "\n",
    "v2 = np.array([4, 5, 6, 7])\n",
    "\n",
    "\n",
    "np.vstack([v1, v2, v1, v2, before])"
   ]
  },
  {
   "cell_type": "code",
   "execution_count": 254,
   "metadata": {},
   "outputs": [
    {
     "data": {
      "text/plain": [
       "array([[1., 2., 3., 4., 1., 0.],\n",
       "       [5., 6., 7., 8., 0., 1.]])"
      ]
     },
     "execution_count": 254,
     "metadata": {},
     "output_type": "execute_result"
    }
   ],
   "source": [
    "# horizondally stacking vectors\n",
    "\n",
    "h1 = np.identity(2)\n",
    "\n",
    "np.hstack([before, h1])"
   ]
  },
  {
   "cell_type": "markdown",
   "metadata": {},
   "source": [
    "## Miscellaneous"
   ]
  },
  {
   "cell_type": "markdown",
   "metadata": {},
   "source": [
    "#### Load Data from a file\n",
    "    - we are using the same file Keith Galli\n",
    "    - we can use pandas, but if you don't want to use pandas"
   ]
  },
  {
   "cell_type": "code",
   "execution_count": 255,
   "metadata": {},
   "outputs": [],
   "source": [
    "filedata = np.genfromtxt('data.txt',delimiter=',')"
   ]
  },
  {
   "cell_type": "code",
   "execution_count": 256,
   "metadata": {},
   "outputs": [
    {
     "data": {
      "text/plain": [
       "array([[  1.,  13.,  21.,  11., 196.,  75.,   4.,   3.,  34.,   6.,   7.,\n",
       "          8.,   0.,   1.,   2.,   3.,   4.,   5.],\n",
       "       [  3.,  42.,  12.,  33., 766.,  75.,   4.,  55.,   6.,   4.,   3.,\n",
       "          4.,   5.,   6.,   7.,   0.,  11.,  12.],\n",
       "       [  1.,  22.,  33.,  11., 999.,  11.,   2.,   1.,  78.,   0.,   1.,\n",
       "          2.,   9.,   8.,   7.,   1.,  76.,  88.]])"
      ]
     },
     "execution_count": 256,
     "metadata": {},
     "output_type": "execute_result"
    }
   ],
   "source": [
    "filedata"
   ]
  },
  {
   "cell_type": "code",
   "execution_count": 257,
   "metadata": {},
   "outputs": [],
   "source": [
    "filedata_32 = filedata.astype('int32')"
   ]
  },
  {
   "cell_type": "code",
   "execution_count": 258,
   "metadata": {},
   "outputs": [
    {
     "name": "stdout",
     "output_type": "stream",
     "text": [
      "[[  1  13  21  11 196  75   4   3  34   6   7   8   0   1   2   3   4   5]\n",
      " [  3  42  12  33 766  75   4  55   6   4   3   4   5   6   7   0  11  12]\n",
      " [  1  22  33  11 999  11   2   1  78   0   1   2   9   8   7   1  76  88]]\n"
     ]
    }
   ],
   "source": [
    "print(filedata_32)"
   ]
  },
  {
   "cell_type": "markdown",
   "metadata": {},
   "source": [
    "#### Boolean masking  &  Advanced indexing"
   ]
  },
  {
   "cell_type": "code",
   "execution_count": 259,
   "metadata": {},
   "outputs": [
    {
     "data": {
      "text/plain": [
       "(3, 18)"
      ]
     },
     "execution_count": 259,
     "metadata": {},
     "output_type": "execute_result"
    }
   ],
   "source": [
    "filedata.shape"
   ]
  },
  {
   "cell_type": "code",
   "execution_count": 260,
   "metadata": {},
   "outputs": [
    {
     "data": {
      "text/plain": [
       "array([[False, False, False, False,  True,  True, False, False, False,\n",
       "        False, False, False, False, False, False, False, False, False],\n",
       "       [False, False, False, False,  True,  True, False,  True, False,\n",
       "        False, False, False, False, False, False, False, False, False],\n",
       "       [False, False, False, False,  True, False, False, False,  True,\n",
       "        False, False, False, False, False, False, False,  True,  True]])"
      ]
     },
     "execution_count": 260,
     "metadata": {},
     "output_type": "execute_result"
    }
   ],
   "source": [
    "filedata > 50"
   ]
  },
  {
   "cell_type": "code",
   "execution_count": 261,
   "metadata": {},
   "outputs": [
    {
     "data": {
      "text/plain": [
       "array([196.,  75., 766.,  75.,  55., 999.,  78.,  76.,  88.])"
      ]
     },
     "execution_count": 261,
     "metadata": {},
     "output_type": "execute_result"
    }
   ],
   "source": [
    "filedata [filedata > 50]"
   ]
  },
  {
   "cell_type": "markdown",
   "metadata": {},
   "source": [
    "## you can index with a list in numpy\n",
    "    - the index will workout only if it is a boolen value, 0 will not act as boolean\n",
    "    - False will workout as 0"
   ]
  },
  {
   "cell_type": "code",
   "execution_count": 262,
   "metadata": {},
   "outputs": [
    {
     "name": "stdout",
     "output_type": "stream",
     "text": [
      "[1 2 3 4 5 6 7 8 9]\n",
      "[3 5 6]\n",
      "[3 5 6 1 2]\n"
     ]
    }
   ],
   "source": [
    "a = np.array([1, 2, 3, 4, 5, 6, 7, 8, 9])\n",
    "print(a)\n",
    "\n",
    "print(a[[2, 4, 5]])\n",
    "print(a[[2, 4, 5, False, True]])\n",
    "#print(a[[ False]])"
   ]
  },
  {
   "cell_type": "code",
   "execution_count": 263,
   "metadata": {},
   "outputs": [
    {
     "data": {
      "text/plain": [
       "array([False, False, False, False,  True,  True, False,  True,  True,\n",
       "       False, False, False, False, False, False, False,  True,  True])"
      ]
     },
     "execution_count": 263,
     "metadata": {},
     "output_type": "execute_result"
    }
   ],
   "source": [
    "np.any(filedata > 50, axis= 0)"
   ]
  },
  {
   "cell_type": "code",
   "execution_count": 264,
   "metadata": {},
   "outputs": [
    {
     "data": {
      "text/plain": [
       "True"
      ]
     },
     "execution_count": 264,
     "metadata": {},
     "output_type": "execute_result"
    }
   ],
   "source": [
    "np.any(filedata > 50)"
   ]
  },
  {
   "cell_type": "code",
   "execution_count": 265,
   "metadata": {},
   "outputs": [
    {
     "data": {
      "text/plain": [
       "array([False, False, False, False,  True, False, False, False, False,\n",
       "       False, False, False, False, False, False, False, False, False])"
      ]
     },
     "execution_count": 265,
     "metadata": {},
     "output_type": "execute_result"
    }
   ],
   "source": [
    "np.all(filedata > 50, axis= 0)"
   ]
  },
  {
   "cell_type": "code",
   "execution_count": 266,
   "metadata": {},
   "outputs": [
    {
     "data": {
      "text/plain": [
       "array([[False, False, False, False, False,  True, False, False, False,\n",
       "        False, False, False, False, False, False, False, False, False],\n",
       "       [False, False, False, False, False,  True, False,  True, False,\n",
       "        False, False, False, False, False, False, False, False, False],\n",
       "       [False, False, False, False, False, False, False, False,  True,\n",
       "        False, False, False, False, False, False, False,  True,  True]])"
      ]
     },
     "execution_count": 266,
     "metadata": {},
     "output_type": "execute_result"
    }
   ],
   "source": [
    "(filedata > 50) & (filedata <100)"
   ]
  },
  {
   "cell_type": "code",
   "execution_count": 267,
   "metadata": {},
   "outputs": [
    {
     "data": {
      "text/plain": [
       "array([75., 75., 55., 78., 76., 88.])"
      ]
     },
     "execution_count": 267,
     "metadata": {},
     "output_type": "execute_result"
    }
   ],
   "source": [
    "filedata[(filedata > 50) & (filedata <100)]"
   ]
  },
  {
   "cell_type": "code",
   "execution_count": 268,
   "metadata": {},
   "outputs": [
    {
     "data": {
      "text/plain": [
       "array([ 1., 13., 21., 11.,  4.,  3., 34.,  6.,  7.,  8.,  0.,  1.,  2.,\n",
       "        3.,  4.,  5.,  3., 42., 12., 33.,  4.,  6.,  4.,  3.,  4.,  5.,\n",
       "        6.,  7.,  0., 11., 12.,  1., 22., 33., 11., 11.,  2.,  1.,  0.,\n",
       "        1.,  2.,  9.,  8.,  7.,  1.])"
      ]
     },
     "execution_count": 268,
     "metadata": {},
     "output_type": "execute_result"
    }
   ],
   "source": [
    "filedata[~(filedata > 50) & (filedata <100)]"
   ]
  },
  {
   "cell_type": "code",
   "execution_count": 269,
   "metadata": {},
   "outputs": [
    {
     "data": {
      "text/plain": [
       "True"
      ]
     },
     "execution_count": 269,
     "metadata": {},
     "output_type": "execute_result"
    }
   ],
   "source": [
    "np.any(filedata[~(filedata > 50) & (filedata <100)], axis = 0)"
   ]
  },
  {
   "cell_type": "code",
   "execution_count": null,
   "metadata": {},
   "outputs": [],
   "source": []
  },
  {
   "cell_type": "code",
   "execution_count": null,
   "metadata": {},
   "outputs": [],
   "source": []
  },
  {
   "cell_type": "code",
   "execution_count": null,
   "metadata": {},
   "outputs": [],
   "source": []
  },
  {
   "cell_type": "markdown",
   "metadata": {},
   "source": [
    "## QR1\n",
    "\n",
    "1. Inspect\n",
    "    - ndim, nshape, dtype, itemsize, size, len\n",
    "    \n",
    "2. Accessing and Changing different values\n",
    "    - a[-1, -2], a[1:5:2, 2]\n",
    "    - a[:, 2] = [9,9]\n",
    "\n",
    "    - set first element of all arrays\n",
    "       c[:, :, 0] = 0\n",
    "\n",
    "    - set the second row in 13, 14, 17, 18\n",
    "       c[:, 1, :] = [[13, 14],[17, 18]]\n",
    "\t\t\t  \n",
    "    - set the second coumn in 32, 44, 36, 48\n",
    "       c[:, :, 1] = [[32, 44], [36, 48]]\n",
    "       \n",
    "3. Initilizing\n",
    "    - datatypes, ones, zeros, full, full_like, identity\n",
    "    - random.rand, random.randint\n",
    "    - np.ones((2, 3), dtype='int16')\n",
    "    - p.full_like(test1, 256, dtype='int16')\n",
    "    - np.random.rand(2, 5)\n",
    "    - np.random.randint(-4, 5, size=(2, 5))\n",
    "    - np.repeat(arr, 3, axis=0)\n",
    "    \n",
    "4. Copying\n",
    "    - 3 types, normal, shallow copy, deep copy\n",
    "    - list3 = list2\n",
    "    - list3 = list2.copy() #shallow copy\n",
    "    - list3 = list2[:] #copying by slicing, shallow\n",
    "    - list3 = copy.deepcopy(list2)\n",
    "    \n",
    "5. Mathematics\n",
    "    - element wise operations\n",
    "    - arithmetic, power, integer division\n",
    "    - np.cos(a), np.sin(a)\n",
    "\n",
    "6. Linear Algebra\n",
    "    - np.matmul(a, b)\n",
    "    - np.linalg.det(c)\n",
    "\n",
    "7. Statitcs\n",
    "    - stats functions, avg, median, mean, sum, std, var, min, max\n",
    "    - coloumn wise and row wise operations\n",
    "    - np.min(stats), np.min(stats, axis = 0)\n",
    "\n",
    "8. Reorganising arrays\n",
    "    - np.vstack([v1, v2, v1, v2, before]), np.hstack([before, h1])\n",
    "        - only requirement is in the direction of stacking elements should match\n",
    "9. File Load\n",
    "    - filedata = np.genfromtxt('data.txt',delimiter=',')\n",
    "    - filedata_32 = filedata.astype('int32')\n",
    "10. Boolean Masking and advanced indexing\n",
    "    - filedata is a matrix with numbers\n",
    "    - filedata_32 = filedata.astype('int32')\n",
    "    - (filedata > 50) & (filedata <100)\n",
    "    - filedata[~(filedata > 50) & (filedata <100)]"
   ]
  },
  {
   "cell_type": "markdown",
   "metadata": {},
   "source": [
    "## QR2\n",
    "\n",
    "1. numpy is faster than list\n",
    "2. numpy used fixed type with contigous memory\n",
    "3. what is negative indexing\n",
    "4. when you mention a subset of the matrix, it is accessed row wise,\n",
    "5. you can set multiple elements in a multidimensional matrix, \n",
    "    - by assigning a single element,\n",
    "    - specifying the matrix of right size\n",
    "6. slicing is exclusive\n",
    "7. np.repeat(arr, 3, axis=0)\n",
    "    - axis 0 - row wise\n",
    "    - axis 1 - column wise\n",
    "8. copy by slicing is same as shallow copy\n",
    "9. shallow copy is one level deep\n",
    "10. a tuple to reshape\n",
    "10. stats functions are cool\n",
    "    - min, max, std, var, median, mean\n",
    "    - and you can do it row or column wise\n",
    "11. '/' division operation always produces float reuslts\n",
    "12. Make me a sandwich with 3 matrices\n",
    "13. you can index with a list in numpy\n",
    "    - ouput will be a single dimensionl array even if the orginal was 2D array\n",
    "15. when you load a set of numbers by default it will be floats\n",
    "16. Slicing is a speicl syntax than lists\n",
    "        - when you do slicing you index the whole row/coloumn\n"
   ]
  },
  {
   "cell_type": "markdown",
   "metadata": {},
   "source": [
    "## QR3\n"
   ]
  },
  {
   "cell_type": "markdown",
   "metadata": {},
   "source": [
    "1. why numpy is faster than list?\n",
    "2. what are the ways to inspect a numpy array?\n",
    "3. how to know how much memory numpy is taking?\n",
    "4. can we create a numpy array with full of ones and of dtype 'int16'?\n",
    "5. what you mean by slicing?\n",
    "6. what you mean by slicing is exclusing? what we should do in programming to take care of it ?\n",
    "7. How will you set the 2 element of 2x2x2 matrix in 32, 44, 36, 48 \n",
    "9. How will you fill a matrix with the same shape as another one very fast?\n",
    "8. When you pass dimension/shape to intialize a matrix, \n",
    "    - what format the dimensions should be\n",
    "    - how should you specifiy them\n",
    "9. How will you specify shape to rand function\n",
    "10. check **practice problem 1**\n",
    "11. r1  = np.repeat(arr, 3, axis=?) what is the axis is here\n",
    "12. what is normal copy, shallow copy, and deep copy\n",
    "13. How to copy by slicing?\n",
    "14. How will you find the coloum wise maximum/ standard deviation of a matrix?\n",
    "15. assume you have an array of type 'int32' and divide it by array will the reslt will be int or float?\n",
    "16. What is the syntax of multiplying two matrices\n",
    "17. what should be the input to reshape an array,\n",
    "    - what are the things we have to take care\n",
    "17. How will you sandwitch 3 matrices\n",
    "\n",
    "18. a = np.array([1, 2, 3, 4, 5, 6, 7, 8, 9])\n",
    "        - print(a[[2, 4, 5, False, True]])\n",
    "        - print(a[[ False]])\n",
    "        - what will happen in the above two prints\n",
    "        \n",
    "19. how to convert a 'float' array to 'int32'?\n",
    "20. How to select numbers between 50 and 100 in a matrix\n",
    "21. what will be output of \n",
    "    - (filedata > 50) & (filedata <100)?\n",
    "    - assume file data is 2D array of numbers\n",
    "    - filedata[(filedata > 50) & (filedata <100)]\n",
    "22. let test be the array Practice problems - 2\n",
    "    - what is the output of\n",
    "        - test[2:4, 0:2 ]\n",
    "        - test[ [2, 3], [0, 1]]\n",
    "        \n",
    "23. check **practice problem 2**\n",
    "\n"
   ]
  },
  {
   "cell_type": "markdown",
   "metadata": {},
   "source": [
    "## Practice problems - 1\n",
    "\n",
    "    - create/initialize the following array effortlessly\n",
    "    \n",
    "    [[1, 1, 1, 1, 1],\n",
    "    [1, 0, 0, 0, 1],\n",
    "    [1, 0, 9, 0, 1],\n",
    "    [1, 0, 0, 0, 1],\n",
    "    [1, 1, 1, 1, 1]]"
   ]
  },
  {
   "cell_type": "code",
   "execution_count": 270,
   "metadata": {},
   "outputs": [
    {
     "name": "stdout",
     "output_type": "stream",
     "text": [
      "[[1. 1. 1. 1. 1.]\n",
      " [1. 1. 1. 1. 1.]\n",
      " [1. 1. 1. 1. 1.]\n",
      " [1. 1. 1. 1. 1.]\n",
      " [1. 1. 1. 1. 1.]]\n"
     ]
    }
   ],
   "source": [
    " output = np.ones((5, 5))\n",
    " print(output)"
   ]
  },
  {
   "cell_type": "code",
   "execution_count": 271,
   "metadata": {},
   "outputs": [
    {
     "name": "stdout",
     "output_type": "stream",
     "text": [
      "[[0. 0. 0.]\n",
      " [0. 9. 0.]\n",
      " [0. 0. 0.]]\n"
     ]
    }
   ],
   "source": [
    "z = np.zeros((3, 3))\n",
    "z[1, 1] = 9\n",
    "print(z)"
   ]
  },
  {
   "cell_type": "code",
   "execution_count": 272,
   "metadata": {},
   "outputs": [
    {
     "name": "stdout",
     "output_type": "stream",
     "text": [
      "[[1. 1. 1. 1. 1.]\n",
      " [1. 0. 0. 0. 1.]\n",
      " [1. 0. 9. 0. 1.]\n",
      " [1. 0. 0. 0. 1.]\n",
      " [1. 1. 1. 1. 1.]]\n"
     ]
    }
   ],
   "source": [
    "output[1:4, 1:4] = z\n",
    "\n",
    "print(output)"
   ]
  },
  {
   "cell_type": "markdown",
   "metadata": {},
   "source": [
    "## Practice problems - 2\n",
    "    - given an input\n",
    "    - [[1,   2,  3,  4,  5],\n",
    "       [6,   7,  8,  9, 10],\n",
    "       [11, 12, 13, 14, 15],\n",
    "       [16, 17, 18, 19, 20],\n",
    "       [21, 22, 23, 24, 25]]\n",
    "    - How will index 11, 12, 16, 17 ?\n",
    "    - How will you index 2, 8, 14, 20 ?\n",
    "    - how will you index [ 4, 5, 24, 25, 29, 30] "
   ]
  },
  {
   "cell_type": "code",
   "execution_count": 273,
   "metadata": {},
   "outputs": [
    {
     "name": "stdout",
     "output_type": "stream",
     "text": [
      "[ 1  2  3  4  5  6  7  8  9 10 11 12 13 14 15 16 17 18 19 20 21 22 23 24\n",
      " 25 26 27 28 29 30]\n"
     ]
    }
   ],
   "source": [
    "test = np.array(range(1, 31))\n",
    "print(test)\n",
    "test = test.reshape((6,5))"
   ]
  },
  {
   "cell_type": "code",
   "execution_count": 274,
   "metadata": {},
   "outputs": [
    {
     "name": "stdout",
     "output_type": "stream",
     "text": [
      "[[11 12]\n",
      " [16 17]]\n",
      "[11 17]\n"
     ]
    }
   ],
   "source": [
    "# How will index 11, 12, 16, 17 ?\n",
    "\n",
    "print(test[2:4, 0:2 ])\n",
    "\n",
    "print(test[ [2, 3], [0, 1] ])"
   ]
  },
  {
   "cell_type": "code",
   "execution_count": 275,
   "metadata": {},
   "outputs": [
    {
     "name": "stdout",
     "output_type": "stream",
     "text": [
      "[ 2  8 14 20]\n"
     ]
    }
   ],
   "source": [
    "# How will you index 2, 8, 14, 20 ?\n",
    "\n",
    "print(test[ [0, 1, 2, 3], [1, 2, 3, 4] ])"
   ]
  },
  {
   "cell_type": "code",
   "execution_count": 276,
   "metadata": {},
   "outputs": [
    {
     "name": "stdout",
     "output_type": "stream",
     "text": [
      "[[ 4  5]\n",
      " [24 25]\n",
      " [29 30]]\n"
     ]
    }
   ],
   "source": [
    "# how will you index [ 4, 5, 24, 25, 29, 30] \n",
    "\n",
    "print(test[ [0, 4, 5], 3:6])"
   ]
  },
  {
   "cell_type": "code",
   "execution_count": 277,
   "metadata": {},
   "outputs": [
    {
     "name": "stdout",
     "output_type": "stream",
     "text": [
      "[[ 4  5]\n",
      " [24 25]\n",
      " [29 30]]\n"
     ]
    }
   ],
   "source": [
    "print(test[ [0, 4, 5], 3:])"
   ]
  },
  {
   "cell_type": "code",
   "execution_count": null,
   "metadata": {},
   "outputs": [],
   "source": []
  }
 ],
 "metadata": {
  "kernelspec": {
   "display_name": "Python 3",
   "language": "python",
   "name": "python3"
  },
  "language_info": {
   "codemirror_mode": {
    "name": "ipython",
    "version": 3
   },
   "file_extension": ".py",
   "mimetype": "text/x-python",
   "name": "python",
   "nbconvert_exporter": "python",
   "pygments_lexer": "ipython3",
   "version": "3.7.3"
  }
 },
 "nbformat": 4,
 "nbformat_minor": 4
}
