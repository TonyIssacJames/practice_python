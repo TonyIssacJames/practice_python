{
 "cells": [
  {
   "cell_type": "code",
   "execution_count": 4,
   "metadata": {},
   "outputs": [
    {
     "name": "stdout",
     "output_type": "stream",
     "text": [
      "num =  10\n",
      "num =  9\n",
      "num =  8\n",
      "num =  7\n",
      "num =  6\n",
      "num =  5\n",
      "num =  4\n",
      "num =  3\n",
      "num =  2\n",
      "num =  1\n",
      " Done!\n"
     ]
    }
   ],
   "source": [
    "num = 10\n",
    "\n",
    "while num > 0:\n",
    "    print(\"num = \", num)\n",
    "    num -=1\n",
    "\n",
    "print(\" Done!\")"
   ]
  },
  {
   "cell_type": "markdown",
   "metadata": {},
   "source": [
    "### Find factorial of a number"
   ]
  },
  {
   "cell_type": "code",
   "execution_count": 9,
   "metadata": {},
   "outputs": [
    {
     "name": "stdout",
     "output_type": "stream",
     "text": [
      "factorial of : 3628800\n",
      " Done!\n"
     ]
    }
   ],
   "source": [
    "num = 10\n",
    "result = 1\n",
    "\n",
    "while num > 0:\n",
    "    result *= num\n",
    "    num -=1\n",
    "\n",
    "print (\"factorial of :\",result)\n",
    "print(\" Done!\")"
   ]
  },
  {
   "cell_type": "markdown",
   "metadata": {},
   "source": [
    "###  Find Leap Years "
   ]
  },
  {
   "cell_type": "code",
   "execution_count": 10,
   "metadata": {},
   "outputs": [
    {
     "name": "stdout",
     "output_type": "stream",
     "text": [
      "20 is leap year\n",
      "16 is leap year\n",
      "12 is leap year\n",
      "8 is leap year\n",
      "4 is leap year\n",
      "done calculating leap years\n"
     ]
    }
   ],
   "source": [
    "year = 20\n",
    "\n",
    "while year > 0:\n",
    "    if year% 4 == 0: #year is divisible by 4\n",
    "        print(year, \"is leap year\")\n",
    "    year -= 1\n",
    "    \n",
    "print(\"done calculating leap years\")\n",
    "    "
   ]
  },
  {
   "cell_type": "markdown",
   "metadata": {},
   "source": [
    "### Age Calulation\n",
    "\n",
    "- age < 5 -- no tickets\n",
    "- 5 < age < 9 -- half ticket\n",
    "- 10-60 full ticket\n",
    "- > 60 senior citizen"
   ]
  },
  {
   "cell_type": "markdown",
   "metadata": {},
   "source": [
    "### If there is no upper bound, then order is important\n",
    "- if upper and lower bound is there then we won't have an issue"
   ]
  },
  {
   "cell_type": "code",
   "execution_count": 14,
   "metadata": {},
   "outputs": [
    {
     "name": "stdout",
     "output_type": "stream",
     "text": [
      "Full tickets\n"
     ]
    }
   ],
   "source": [
    "\n",
    "\n",
    "age = '10'\n",
    "\n",
    "age = int(age)\n",
    "\n",
    "if age < 5:\n",
    "    print(\"No tickets\")\n",
    "elif age <= 9:\n",
    "    print(\"Half Tickets\")\n",
    "elif age <60:\n",
    "    print(\"Full tickets\")\n",
    "else:\n",
    "    print(\"Senior Citizen\")"
   ]
  },
  {
   "cell_type": "markdown",
   "metadata": {},
   "source": [
    "### You can create a list with [ ]"
   ]
  },
  {
   "cell_type": "code",
   "execution_count": 15,
   "metadata": {},
   "outputs": [
    {
     "name": "stdout",
     "output_type": "stream",
     "text": [
      "<class 'list'>\n"
     ]
    }
   ],
   "source": [
    "names = [\"Kamal\", \"Fazal\", \"Tony\", \"Narendara\"]\n",
    "\n",
    "print(type(names))\n"
   ]
  },
  {
   "cell_type": "code",
   "execution_count": 17,
   "metadata": {},
   "outputs": [
    {
     "name": "stdout",
     "output_type": "stream",
     "text": [
      "Kamal\n",
      "Fazal\n",
      "Tony\n",
      "Narendara\n"
     ]
    }
   ],
   "source": [
    "for name in names:\n",
    "    print(name)"
   ]
  },
  {
   "cell_type": "markdown",
   "metadata": {},
   "source": [
    "- it is like an iterator, like a factory"
   ]
  },
  {
   "cell_type": "code",
   "execution_count": 20,
   "metadata": {},
   "outputs": [],
   "source": [
    "if \"Tony\" in names:\n",
    "    print(\"yes tony is here\")"
   ]
  },
  {
   "cell_type": "markdown",
   "metadata": {},
   "source": [
    " - output of range starts from 0 and less than the number specified in the brackets"
   ]
  },
  {
   "cell_type": "code",
   "execution_count": null,
   "metadata": {},
   "outputs": [],
   "source": [
    "\n",
    "\n",
    "\n",
    "\n",
    "for i in range(10):\n",
    "    print(\"i = \", i)"
   ]
  },
  {
   "cell_type": "code",
   "execution_count": 23,
   "metadata": {},
   "outputs": [
    {
     "name": "stdout",
     "output_type": "stream",
     "text": [
      "H\n",
      "e\n",
      "l\n",
      "l\n",
      "o\n",
      " \n",
      "w\n",
      "o\n",
      "r\n",
      "l\n",
      "d\n"
     ]
    }
   ],
   "source": [
    "string = \"Hello world\"\n",
    "\n",
    "for c in string:\n",
    "    print(c)"
   ]
  },
  {
   "cell_type": "code",
   "execution_count": 30,
   "metadata": {},
   "outputs": [
    {
     "name": "stdout",
     "output_type": "stream",
     "text": [
      "name -  Kamal\n",
      "name -  Fazal\n",
      "name -  Tony\n",
      "Yes  Tony  is here\n",
      "done\n"
     ]
    }
   ],
   "source": [
    "for name in names:\n",
    "    print(\"name - \", name)\n",
    "    if name == \"Tony\":\n",
    "        print(\"Yes \",name,\" is here\")\n",
    "        break\n",
    "print(\"done\")    "
   ]
  },
  {
   "cell_type": "markdown",
   "metadata": {},
   "source": [
    "### in a nested for loop where it will break"
   ]
  },
  {
   "cell_type": "code",
   "execution_count": 31,
   "metadata": {},
   "outputs": [
    {
     "name": "stdout",
     "output_type": "stream",
     "text": [
      "name -  Kamal\n",
      "name -  Fazal\n",
      "name -  Tony\n",
      "Yes  Tony  is here\n",
      "loop completed\n",
      "name -  Kamal\n",
      "name -  Fazal\n",
      "name -  Tony\n",
      "Yes  Tony  is here\n",
      "loop completed\n",
      "name -  Kamal\n",
      "name -  Fazal\n",
      "name -  Tony\n",
      "Yes  Tony  is here\n",
      "loop completed\n",
      "name -  Kamal\n",
      "name -  Fazal\n",
      "name -  Tony\n",
      "Yes  Tony  is here\n",
      "loop completed\n",
      "done\n"
     ]
    }
   ],
   "source": [
    "for i in range(4):\n",
    "    for name in names:\n",
    "        print(\"name - \", name)\n",
    "        if name == \"Tony\":\n",
    "            print(\"Yes \",name,\" is here\")\n",
    "            break\n",
    "    print(\"loop completed\")\n",
    "print(\"done\") "
   ]
  },
  {
   "cell_type": "markdown",
   "metadata": {},
   "source": [
    "### shopping list"
   ]
  },
  {
   "cell_type": "code",
   "execution_count": 32,
   "metadata": {},
   "outputs": [],
   "source": [
    "string = \"soap 20 paste 30 shampoo 150 brush 50\""
   ]
  },
  {
   "cell_type": "code",
   "execution_count": 40,
   "metadata": {},
   "outputs": [
    {
     "name": "stdout",
     "output_type": "stream",
     "text": [
      "['soap', '20', 'paste', '30', 'shampoo', '150', 'brush', '50']\n",
      "price 20\n",
      "result = 20\n",
      "price 30\n",
      "result = 50\n",
      "price 150\n",
      "result = 200\n",
      "price 50\n",
      "result = 250\n"
     ]
    }
   ],
   "source": [
    "#spilt entire strin into list by splitting at list\n",
    "result = 0\n",
    "list1 = string.split(\" \")\n",
    "\n",
    "print(list1)\n",
    "\n",
    "for item in list1:\n",
    "    #Chec if the sgtrin is a digit or not\n",
    "    if item.isdigit() == True:\n",
    "        print(\"price\", item)\n",
    "        result += int(item)\n",
    "    else:\n",
    "        continue\n",
    "    \n",
    "    print(\"result =\", result)"
   ]
  },
  {
   "cell_type": "markdown",
   "metadata": {},
   "source": [
    "### use of pass\n",
    "\n",
    "- to avoid compile error by just putting a nop kind of instruction\n",
    "- do function defenition and later fill it\n",
    "- why can't we use print() here?\n"
   ]
  },
  {
   "cell_type": "markdown",
   "metadata": {},
   "source": [
    "###  functions"
   ]
  },
  {
   "cell_type": "code",
   "execution_count": 44,
   "metadata": {},
   "outputs": [
    {
     "name": "stdout",
     "output_type": "stream",
     "text": [
      "It is odd\n"
     ]
    }
   ],
   "source": [
    "#Function should be defined before  a call\n",
    "# No of arguments should match\n",
    "# Returning a value is not mandatory\n",
    "# Defualt return value is None\n",
    "\n",
    "\n",
    "#Rules of function names\n",
    "# 1) should not be keyworkd\n",
    "# 2) should not start with a number\n",
    "# 3) there should not be space\n",
    "# 4) alpha nuemeric and _ is allowed\n",
    "# 5) don't start the function name with _\n",
    "#     - it can create issues,\n",
    "#     - we will learn it later in classes\n",
    "def check_even(num):\n",
    "    if num%2 == 0:\n",
    "        print(\"It is even\")\n",
    "    else:\n",
    "        print(\"It is odd\")\n",
    "        \n",
    "        \n",
    "result = check_even(5)"
   ]
  },
  {
   "cell_type": "code",
   "execution_count": 45,
   "metadata": {},
   "outputs": [
    {
     "name": "stdout",
     "output_type": "stream",
     "text": [
      "None\n"
     ]
    }
   ],
   "source": [
    "print(result)"
   ]
  },
  {
   "cell_type": "code",
   "execution_count": 50,
   "metadata": {},
   "outputs": [],
   "source": [
    "def find_occurances(list1, search_name):\n",
    "    num = 0\n",
    "    for name in list1:\n",
    "        if search_name == name:\n",
    "            num += 1\n",
    "    return num"
   ]
  },
  {
   "cell_type": "code",
   "execution_count": 51,
   "metadata": {},
   "outputs": [
    {
     "name": "stdout",
     "output_type": "stream",
     "text": [
      "count =  2\n"
     ]
    }
   ],
   "source": [
    "names = [\"Kamal\", \"Fazal\", \"Tony\", \"Narendara\", \"Tony\", \"tony\",\"Tonyj\"]\n",
    "print(\"count = \", find_occurances(names, \"Tony\"))"
   ]
  },
  {
   "cell_type": "markdown",
   "metadata": {},
   "source": [
    "###  Default arguments"
   ]
  },
  {
   "cell_type": "code",
   "execution_count": 61,
   "metadata": {},
   "outputs": [],
   "source": [
    "def print_details(company, city, state=\"Karnataka\", country=\"India\"):\n",
    "    print(\"Company :{}\\nCity :{}\\nState :{}\\nCountry :{}\\n\".format(company,city, state, country))"
   ]
  },
  {
   "cell_type": "code",
   "execution_count": 59,
   "metadata": {},
   "outputs": [
    {
     "name": "stdout",
     "output_type": "stream",
     "text": [
      "Company :TCS\n",
      "City :Bangalore\n",
      "State :Karnataka\n",
      "Country :India\n",
      "\n",
      "Company :Wipro\n",
      "City :Bangalore\n",
      "State :Karnataka\n",
      "Country :India\n",
      "\n",
      "Company :Continental\n",
      "City :Bangalore\n",
      "State :Karnataka\n",
      "Country :India\n",
      "\n"
     ]
    }
   ],
   "source": [
    "print_details(\"TCS\", \"Bangalore\", \"Karnataka\", \"India\")\n",
    "print_details(\"Wipro\", \"Bangalore\", \"Karnataka\", \"India\")\n",
    "print_details(\"Continental\", \"Bangalore\", \"Karnataka\", \"India\")"
   ]
  },
  {
   "cell_type": "code",
   "execution_count": 62,
   "metadata": {},
   "outputs": [
    {
     "name": "stdout",
     "output_type": "stream",
     "text": [
      "Company :TCS\n",
      "City :Bangalore\n",
      "State :Karnataka\n",
      "Country :India\n",
      "\n",
      "Company :Wipro\n",
      "City :Bangalore\n",
      "State :Karnataka\n",
      "Country :India\n",
      "\n",
      "Company :Continental\n",
      "City :Bangalore\n",
      "State :State-1\n",
      "Country :Germany\n",
      "\n"
     ]
    }
   ],
   "source": [
    "print_details(\"TCS\", \"Bangalore\")\n",
    "print_details(\"Wipro\", \"Bangalore\")\n",
    "print_details(\"Continental\", \"Bangalore\", \"State-1\", \"Germany\")"
   ]
  },
  {
   "cell_type": "code",
   "execution_count": 63,
   "metadata": {},
   "outputs": [],
   "source": [
    "# keyworkd arguments and defualt arguments are different\n",
    "# default arguments should start from the right, and cannot be interleaved with normal arguments"
   ]
  },
  {
   "cell_type": "code",
   "execution_count": null,
   "metadata": {},
   "outputs": [],
   "source": []
  }
 ],
 "metadata": {
  "kernelspec": {
   "display_name": "Python 3",
   "language": "python",
   "name": "python3"
  },
  "language_info": {
   "codemirror_mode": {
    "name": "ipython",
    "version": 3
   },
   "file_extension": ".py",
   "mimetype": "text/x-python",
   "name": "python",
   "nbconvert_exporter": "python",
   "pygments_lexer": "ipython3",
   "version": "3.6.5"
  }
 },
 "nbformat": 4,
 "nbformat_minor": 2
}
