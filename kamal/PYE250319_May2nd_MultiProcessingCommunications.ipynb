{
 "cells": [
  {
   "cell_type": "code",
   "execution_count": 2,
   "metadata": {},
   "outputs": [
    {
     "name": "stdout",
     "output_type": "stream",
     "text": [
      "/Users/kamalmukiri/Documents/AptComputingAcademy/Python/PYE250319/JupyterNotebooks\n"
     ]
    }
   ],
   "source": [
    "#Importing module : os\n",
    "import os\n",
    "\n",
    "#Utilize the functions in os\n",
    "print(os.getcwd())\n",
    "\n"
   ]
  },
  {
   "cell_type": "code",
   "execution_count": 8,
   "metadata": {},
   "outputs": [
    {
     "name": "stdout",
     "output_type": "stream",
     "text": [
      "/Users/kamalmukiri/Documents/AptComputingAcademy/Python/PYE250319/JupyterNotebooks/modules\n",
      "7.2\n",
      "2.2\n"
     ]
    }
   ],
   "source": [
    "os.chdir(\"/Users/kamalmukiri/Documents/AptComputingAcademy/Python/PYE250319/JupyterNotebooks/modules/\")\n",
    "print(os.getcwd())\n",
    "#1) Importing module \"mymath\"\n",
    "import mymath\n",
    "print(mymath.add(1,2,3,1.2))\n",
    "mymath.version +=1\n",
    "print(mymath.version)\n"
   ]
  },
  {
   "cell_type": "code",
   "execution_count": 5,
   "metadata": {},
   "outputs": [
    {
     "ename": "TypeError",
     "evalue": "unsupported operand type(s) for +=: 'int' and 'str'",
     "output_type": "error",
     "traceback": [
      "\u001b[0;31m---------------------------------------------------------------------------\u001b[0m",
      "\u001b[0;31mTypeError\u001b[0m                                 Traceback (most recent call last)",
      "\u001b[0;32m<ipython-input-5-5048229b7bff>\u001b[0m in \u001b[0;36m<module>\u001b[0;34m()\u001b[0m\n\u001b[1;32m      2\u001b[0m \u001b[0mos\u001b[0m\u001b[0;34m.\u001b[0m\u001b[0mchdir\u001b[0m\u001b[0;34m(\u001b[0m\u001b[0;34m\"/Users/kamalmukiri/Documents/AptComputingAcademy/Python/PYE250319/JupyterNotebooks/modules/\"\u001b[0m\u001b[0;34m)\u001b[0m\u001b[0;34m\u001b[0m\u001b[0;34m\u001b[0m\u001b[0m\n\u001b[1;32m      3\u001b[0m \u001b[0;32mimport\u001b[0m \u001b[0mmymath\u001b[0m\u001b[0;34m\u001b[0m\u001b[0;34m\u001b[0m\u001b[0m\n\u001b[0;32m----> 4\u001b[0;31m \u001b[0mmymath\u001b[0m\u001b[0;34m.\u001b[0m\u001b[0madd\u001b[0m\u001b[0;34m(\u001b[0m\u001b[0;34m\"str1\"\u001b[0m\u001b[0;34m,\u001b[0m \u001b[0;36m1\u001b[0m\u001b[0;34m)\u001b[0m\u001b[0;34m\u001b[0m\u001b[0;34m\u001b[0m\u001b[0m\n\u001b[0m",
      "\u001b[0;32m~/Documents/AptComputingAcademy/Python/PYE250319/JupyterNotebooks/modules/mymath.py\u001b[0m in \u001b[0;36madd\u001b[0;34m(*args)\u001b[0m\n\u001b[1;32m     11\u001b[0m     \u001b[0msum1\u001b[0m \u001b[0;34m=\u001b[0m \u001b[0;36m0\u001b[0m\u001b[0;34m\u001b[0m\u001b[0;34m\u001b[0m\u001b[0m\n\u001b[1;32m     12\u001b[0m     \u001b[0;32mfor\u001b[0m \u001b[0mi\u001b[0m \u001b[0;32min\u001b[0m \u001b[0margs\u001b[0m\u001b[0;34m:\u001b[0m\u001b[0;34m\u001b[0m\u001b[0;34m\u001b[0m\u001b[0m\n\u001b[0;32m---> 13\u001b[0;31m         \u001b[0msum1\u001b[0m \u001b[0;34m+=\u001b[0m \u001b[0mi\u001b[0m\u001b[0;34m\u001b[0m\u001b[0;34m\u001b[0m\u001b[0m\n\u001b[0m\u001b[1;32m     14\u001b[0m     \u001b[0;32mreturn\u001b[0m \u001b[0msum1\u001b[0m\u001b[0;34m\u001b[0m\u001b[0;34m\u001b[0m\u001b[0m\n\u001b[1;32m     15\u001b[0m \u001b[0;34m\u001b[0m\u001b[0m\n",
      "\u001b[0;31mTypeError\u001b[0m: unsupported operand type(s) for +=: 'int' and 'str'"
     ]
    }
   ],
   "source": [
    "import os\n",
    "os.chdir(\"/Users/kamalmukiri/Documents/AptComputingAcademy/Python/PYE250319/JupyterNotebooks/modules/\")\n",
    "import mymath\n",
    "mymath.add(\"str1\", 1)"
   ]
  },
  {
   "cell_type": "code",
   "execution_count": 16,
   "metadata": {},
   "outputs": [
    {
     "name": "stdout",
     "output_type": "stream",
     "text": [
      "41\n",
      "0\n",
      "import mymath\n",
      "print(mymath.add(1,2,3,4))\n",
      "\n"
     ]
    }
   ],
   "source": [
    "\n",
    "fd = open(\"main.py\",\"a+\")\n",
    "print(fd.tell())\n",
    "fd.seek(0)\n",
    "print(fd.tell())\n",
    "print(fd.read())\n",
    "fd.close()"
   ]
  },
  {
   "cell_type": "code",
   "execution_count": null,
   "metadata": {},
   "outputs": [],
   "source": []
  },
  {
   "cell_type": "code",
   "execution_count": null,
   "metadata": {},
   "outputs": [],
   "source": []
  },
  {
   "cell_type": "code",
   "execution_count": null,
   "metadata": {},
   "outputs": [],
   "source": []
  },
  {
   "cell_type": "code",
   "execution_count": 1,
   "metadata": {},
   "outputs": [
    {
     "name": "stdout",
     "output_type": "stream",
     "text": [
      "pid  51437\n",
      "hello bob\n",
      "pid  51438\n",
      "hello bob\n"
     ]
    }
   ],
   "source": [
    "from multiprocessing import Process,Lock\n",
    "import os\n",
    "\n",
    "def f(name):\n",
    "    print(\"pid \" ,os.getpid() )\n",
    "    print('hello', name)\n",
    "    for i in range(1000):\n",
    "        lock.acquire()\n",
    "        file = open(\"FileMultiProcessing.txt\", 'a+')\n",
    "        file.write(str(i)+\":\"+str(os.getpid())+\":Hello  world, welcome\\n\")\n",
    "        file.close()\n",
    "        lock.release()\n",
    "if __name__ == '__main__':\n",
    "    lock = Lock()\n",
    "    p1 = Process(target=f, args=('bob',))\n",
    "    p2 = Process(target=f, args=('bob',))\n",
    "    p1.start()\n",
    "    p2.start()\n",
    "    p1.join()\n",
    "    p2.join()"
   ]
  },
  {
   "cell_type": "code",
   "execution_count": 11,
   "metadata": {},
   "outputs": [
    {
     "name": "stdout",
     "output_type": "stream",
     "text": [
      "pid  51513\n",
      "pid  51514\n",
      "hello bob\n",
      "hello bob\n"
     ]
    },
    {
     "name": "stderr",
     "output_type": "stream",
     "text": [
      "Process Process-18:\n",
      "Process Process-19:\n",
      "Traceback (most recent call last):\n",
      "Traceback (most recent call last):\n",
      "  File \"/usr/local/Cellar/python/3.7.2_1/Frameworks/Python.framework/Versions/3.7/lib/python3.7/multiprocessing/process.py\", line 297, in _bootstrap\n",
      "    self.run()\n",
      "  File \"/usr/local/Cellar/python/3.7.2_1/Frameworks/Python.framework/Versions/3.7/lib/python3.7/multiprocessing/process.py\", line 297, in _bootstrap\n",
      "    self.run()\n",
      "  File \"/usr/local/Cellar/python/3.7.2_1/Frameworks/Python.framework/Versions/3.7/lib/python3.7/multiprocessing/process.py\", line 99, in run\n",
      "    self._target(*self._args, **self._kwargs)\n",
      "  File \"/usr/local/Cellar/python/3.7.2_1/Frameworks/Python.framework/Versions/3.7/lib/python3.7/multiprocessing/process.py\", line 99, in run\n",
      "    self._target(*self._args, **self._kwargs)\n",
      "  File \"<ipython-input-11-8b5b298aa32d>\", line 7, in f\n",
      "    exit_code (100)\n",
      "  File \"<ipython-input-11-8b5b298aa32d>\", line 7, in f\n",
      "    exit_code (100)\n",
      "NameError: name 'exit_code' is not defined\n",
      "NameError: name 'exit_code' is not defined\n"
     ]
    },
    {
     "name": "stdout",
     "output_type": "stream",
     "text": [
      "1\n",
      "1\n"
     ]
    }
   ],
   "source": [
    "from multiprocessing import Process,Lock\n",
    "import os\n",
    "\n",
    "def f(name):\n",
    "    print(\"pid \" ,os.getpid() )\n",
    "    print('hello', name)\n",
    "    exit_code (100)\n",
    "if __name__ == '__main__':\n",
    "    p1 = Process(target=f, args=('bob',))\n",
    "    p2 = Process(target=f, args=('bob',))\n",
    "    p1.start()\n",
    "    p2.start()\n",
    "    p1.join()\n",
    "    p2.join()\n",
    "    print(p1.exitcode)\n",
    "    print(p2.exitcode)\n",
    "    "
   ]
  },
  {
   "cell_type": "code",
   "execution_count": 19,
   "metadata": {},
   "outputs": [
    {
     "name": "stdout",
     "output_type": "stream",
     "text": [
      "0 represent!\n",
      "Issue is there...\n",
      "1 represent!\n",
      "Issue is there...\n",
      "2 represent!\n",
      "Issue is there...\n",
      "3 represent!\n",
      "Issue is there...\n",
      "4 represent!\n",
      "Issue is there...\n",
      "[0, 0, 0, 0, 0]\n"
     ]
    }
   ],
   "source": [
    "import multiprocessing\n",
    "\n",
    "def worker(procnum):\n",
    "        \n",
    "    print(str(procnum) + ' represent!')\n",
    "    try:\n",
    "        print(a)\n",
    "    except:\n",
    "        print(\"Issue is there...\")\n",
    "        exit(100)\n",
    "\n",
    "if __name__ == '__main__':\n",
    "    jobs = []\n",
    "    for i in range(5):\n",
    "        p = multiprocessing.Process(target=worker, args=(i,))\n",
    "        jobs.append(p)\n",
    "        p.start()\n",
    "\n",
    "    result = []\n",
    "    for proc in jobs:\n",
    "        proc.join()\n",
    "        result.append(proc.exitcode)\n",
    "    print(result)"
   ]
  },
  {
   "cell_type": "code",
   "execution_count": 16,
   "metadata": {},
   "outputs": [
    {
     "ename": "FileNotFoundError",
     "evalue": "[Errno 2] No such file or directory: 'cd subprocess': 'cd subprocess'",
     "output_type": "error",
     "traceback": [
      "\u001b[0;31m---------------------------------------------------------------------------\u001b[0m",
      "\u001b[0;31mFileNotFoundError\u001b[0m                         Traceback (most recent call last)",
      "\u001b[0;32m<ipython-input-16-676d97f4f0bb>\u001b[0m in \u001b[0;36m<module>\u001b[0;34m\u001b[0m\n\u001b[1;32m      1\u001b[0m \u001b[0;32mimport\u001b[0m \u001b[0msubprocess\u001b[0m\u001b[0;34m\u001b[0m\u001b[0;34m\u001b[0m\u001b[0m\n\u001b[1;32m      2\u001b[0m \u001b[0;34m\u001b[0m\u001b[0m\n\u001b[0;32m----> 3\u001b[0;31m \u001b[0msubprocess\u001b[0m\u001b[0;34m.\u001b[0m\u001b[0mcall\u001b[0m\u001b[0;34m(\u001b[0m\u001b[0;34m\"cd subprocess\"\u001b[0m\u001b[0;34m)\u001b[0m\u001b[0;34m\u001b[0m\u001b[0;34m\u001b[0m\u001b[0m\n\u001b[0m",
      "\u001b[0;32m/usr/local/Cellar/python/3.7.2_1/Frameworks/Python.framework/Versions/3.7/lib/python3.7/subprocess.py\u001b[0m in \u001b[0;36mcall\u001b[0;34m(timeout, *popenargs, **kwargs)\u001b[0m\n\u001b[1;32m    321\u001b[0m     \u001b[0mretcode\u001b[0m \u001b[0;34m=\u001b[0m \u001b[0mcall\u001b[0m\u001b[0;34m(\u001b[0m\u001b[0;34m[\u001b[0m\u001b[0;34m\"ls\"\u001b[0m\u001b[0;34m,\u001b[0m \u001b[0;34m\"-l\"\u001b[0m\u001b[0;34m]\u001b[0m\u001b[0;34m)\u001b[0m\u001b[0;34m\u001b[0m\u001b[0;34m\u001b[0m\u001b[0m\n\u001b[1;32m    322\u001b[0m     \"\"\"\n\u001b[0;32m--> 323\u001b[0;31m     \u001b[0;32mwith\u001b[0m \u001b[0mPopen\u001b[0m\u001b[0;34m(\u001b[0m\u001b[0;34m*\u001b[0m\u001b[0mpopenargs\u001b[0m\u001b[0;34m,\u001b[0m \u001b[0;34m**\u001b[0m\u001b[0mkwargs\u001b[0m\u001b[0;34m)\u001b[0m \u001b[0;32mas\u001b[0m \u001b[0mp\u001b[0m\u001b[0;34m:\u001b[0m\u001b[0;34m\u001b[0m\u001b[0;34m\u001b[0m\u001b[0m\n\u001b[0m\u001b[1;32m    324\u001b[0m         \u001b[0;32mtry\u001b[0m\u001b[0;34m:\u001b[0m\u001b[0;34m\u001b[0m\u001b[0;34m\u001b[0m\u001b[0m\n\u001b[1;32m    325\u001b[0m             \u001b[0;32mreturn\u001b[0m \u001b[0mp\u001b[0m\u001b[0;34m.\u001b[0m\u001b[0mwait\u001b[0m\u001b[0;34m(\u001b[0m\u001b[0mtimeout\u001b[0m\u001b[0;34m=\u001b[0m\u001b[0mtimeout\u001b[0m\u001b[0;34m)\u001b[0m\u001b[0;34m\u001b[0m\u001b[0;34m\u001b[0m\u001b[0m\n",
      "\u001b[0;32m/usr/local/Cellar/python/3.7.2_1/Frameworks/Python.framework/Versions/3.7/lib/python3.7/subprocess.py\u001b[0m in \u001b[0;36m__init__\u001b[0;34m(self, args, bufsize, executable, stdin, stdout, stderr, preexec_fn, close_fds, shell, cwd, env, universal_newlines, startupinfo, creationflags, restore_signals, start_new_session, pass_fds, encoding, errors, text)\u001b[0m\n\u001b[1;32m    773\u001b[0m                                 \u001b[0mc2pread\u001b[0m\u001b[0;34m,\u001b[0m \u001b[0mc2pwrite\u001b[0m\u001b[0;34m,\u001b[0m\u001b[0;34m\u001b[0m\u001b[0;34m\u001b[0m\u001b[0m\n\u001b[1;32m    774\u001b[0m                                 \u001b[0merrread\u001b[0m\u001b[0;34m,\u001b[0m \u001b[0merrwrite\u001b[0m\u001b[0;34m,\u001b[0m\u001b[0;34m\u001b[0m\u001b[0;34m\u001b[0m\u001b[0m\n\u001b[0;32m--> 775\u001b[0;31m                                 restore_signals, start_new_session)\n\u001b[0m\u001b[1;32m    776\u001b[0m         \u001b[0;32mexcept\u001b[0m\u001b[0;34m:\u001b[0m\u001b[0;34m\u001b[0m\u001b[0;34m\u001b[0m\u001b[0m\n\u001b[1;32m    777\u001b[0m             \u001b[0;31m# Cleanup if the child failed starting.\u001b[0m\u001b[0;34m\u001b[0m\u001b[0;34m\u001b[0m\u001b[0;34m\u001b[0m\u001b[0m\n",
      "\u001b[0;32m/usr/local/Cellar/python/3.7.2_1/Frameworks/Python.framework/Versions/3.7/lib/python3.7/subprocess.py\u001b[0m in \u001b[0;36m_execute_child\u001b[0;34m(self, args, executable, preexec_fn, close_fds, pass_fds, cwd, env, startupinfo, creationflags, shell, p2cread, p2cwrite, c2pread, c2pwrite, errread, errwrite, restore_signals, start_new_session)\u001b[0m\n\u001b[1;32m   1520\u001b[0m                         \u001b[0;32mif\u001b[0m \u001b[0merrno_num\u001b[0m \u001b[0;34m==\u001b[0m \u001b[0merrno\u001b[0m\u001b[0;34m.\u001b[0m\u001b[0mENOENT\u001b[0m\u001b[0;34m:\u001b[0m\u001b[0;34m\u001b[0m\u001b[0;34m\u001b[0m\u001b[0m\n\u001b[1;32m   1521\u001b[0m                             \u001b[0merr_msg\u001b[0m \u001b[0;34m+=\u001b[0m \u001b[0;34m': '\u001b[0m \u001b[0;34m+\u001b[0m \u001b[0mrepr\u001b[0m\u001b[0;34m(\u001b[0m\u001b[0merr_filename\u001b[0m\u001b[0;34m)\u001b[0m\u001b[0;34m\u001b[0m\u001b[0;34m\u001b[0m\u001b[0m\n\u001b[0;32m-> 1522\u001b[0;31m                     \u001b[0;32mraise\u001b[0m \u001b[0mchild_exception_type\u001b[0m\u001b[0;34m(\u001b[0m\u001b[0merrno_num\u001b[0m\u001b[0;34m,\u001b[0m \u001b[0merr_msg\u001b[0m\u001b[0;34m,\u001b[0m \u001b[0merr_filename\u001b[0m\u001b[0;34m)\u001b[0m\u001b[0;34m\u001b[0m\u001b[0;34m\u001b[0m\u001b[0m\n\u001b[0m\u001b[1;32m   1523\u001b[0m                 \u001b[0;32mraise\u001b[0m \u001b[0mchild_exception_type\u001b[0m\u001b[0;34m(\u001b[0m\u001b[0merr_msg\u001b[0m\u001b[0;34m)\u001b[0m\u001b[0;34m\u001b[0m\u001b[0;34m\u001b[0m\u001b[0m\n\u001b[1;32m   1524\u001b[0m \u001b[0;34m\u001b[0m\u001b[0m\n",
      "\u001b[0;31mFileNotFoundError\u001b[0m: [Errno 2] No such file or directory: 'cd subprocess': 'cd subprocess'"
     ]
    }
   ],
   "source": [
    "import subprocess\n",
    "\n",
    "subprocess.call(\"cd subprocess\")"
   ]
  },
  {
   "cell_type": "code",
   "execution_count": 38,
   "metadata": {},
   "outputs": [
    {
     "name": "stdout",
     "output_type": "stream",
     "text": [
      "pid  52078\n",
      "hello bob\n",
      "Message received from Parent:  {1: 'One'}\n",
      "Message received from Parent:  {2: 'Two'}\n",
      "Hello my parent\n",
      "0\n"
     ]
    }
   ],
   "source": [
    "from multiprocessing import Process,Pipe#1) Importing Pipe from multiprocessing\n",
    "import os\n",
    "\n",
    "g_data = 100\n",
    "\n",
    "def f(name, pipe):\n",
    "    print(\"pid \" ,os.getpid() )\n",
    "    print('hello', name)\n",
    "    msg = pipe.recv()\n",
    "    print(\"Message received from Parent: \", msg)\n",
    "    msg = pipe.recv()\n",
    "    print(\"Message received from Parent: \", msg)\n",
    "    pipe.send(\"Hello my parent\")\n",
    "    \n",
    "if __name__ == '__main__':\n",
    "    parent_pipe, child_pipe = Pipe()#2) Creating pipe \n",
    "    p1 = Process(target=f, args=('bob',child_pipe))\n",
    "    p1.start()\n",
    "    g_data = 200\n",
    "    parent_pipe.send({1:\"One\"})\n",
    "    parent_pipe.send({2:\"Two\"})\n",
    "\n",
    "    print(parent_pipe.recv())\n",
    "    p1.join()\n",
    "    print(p1.exitcode)\n",
    "    "
   ]
  },
  {
   "cell_type": "code",
   "execution_count": 43,
   "metadata": {},
   "outputs": [
    {
     "name": "stdout",
     "output_type": "stream",
     "text": [
      "pid  52127\n",
      "hello bob\n"
     ]
    },
    {
     "name": "stderr",
     "output_type": "stream",
     "text": [
      "Process Process-60:\n",
      "Traceback (most recent call last):\n",
      "  File \"/usr/local/Cellar/python/3.7.2_1/Frameworks/Python.framework/Versions/3.7/lib/python3.7/multiprocessing/process.py\", line 297, in _bootstrap\n",
      "    self.run()\n",
      "  File \"/usr/local/Cellar/python/3.7.2_1/Frameworks/Python.framework/Versions/3.7/lib/python3.7/multiprocessing/process.py\", line 99, in run\n",
      "    self._target(*self._args, **self._kwargs)\n",
      "  File \"<ipython-input-43-fc4e8350c47a>\", line 10, in f\n",
      "    msg = dataq.get(timeout=3)\n",
      "  File \"/usr/local/Cellar/python/3.7.2_1/Frameworks/Python.framework/Versions/3.7/lib/python3.7/multiprocessing/queues.py\", line 105, in get\n",
      "    raise Empty\n",
      "_queue.Empty\n"
     ]
    },
    {
     "name": "stdout",
     "output_type": "stream",
     "text": [
      "{1: 'One'}\n",
      "1\n"
     ]
    }
   ],
   "source": [
    "from multiprocessing import Process,Queue#1) Importing Pipe from multiprocessing\n",
    "import os\n",
    "import time\n",
    "\n",
    "g_data = 100\n",
    "\n",
    "def f(name, dataq):\n",
    "    print(\"pid \" ,os.getpid() )\n",
    "    print('hello', name)\n",
    "    msg = dataq.get(timeout=3)\n",
    "    print(\"g_data = \", g_data)\n",
    "    print(\"Message received from Parent: \", msg)\n",
    "    dataq.put(\"Hello my parent\")\n",
    "    \n",
    "if __name__ == '__main__':\n",
    "    dataq = Queue()#2) Creating pipe \n",
    "    p1 = Process(target=f, args=('bob',dataq))\n",
    "    p1.start()\n",
    "    g_data = 200\n",
    "    time.sleep(10)\n",
    "    dataq.put({1:\"One\"})\n",
    "    print(dataq.get())\n",
    "    p1.join()\n",
    "    print(p1.exitcode)\n",
    "    "
   ]
  },
  {
   "cell_type": "code",
   "execution_count": 45,
   "metadata": {},
   "outputs": [
    {
     "name": "stdout",
     "output_type": "stream",
     "text": [
      "Element =  file0\n",
      "Element =  file5\n",
      "Element =  file20\n",
      "Element =  file6\n",
      "Element =  file10\n",
      "Element =  file15\n",
      "Element =  file1\n",
      "Element =  file2\n",
      "Element =  file7\n",
      "Element =  file21\n",
      "Element =  file11\n",
      "Element =  file16\n",
      "Element =  file3\n",
      "Element =  file12\n",
      "Element =  file8\n",
      "Element =  file17\n",
      "Element =  file22\n",
      "Element =  file23\n",
      "Element =  file4\n",
      "Element =  file13\n",
      "Element =  file24\n",
      "Element =  file18\n",
      "Element =  file14\n",
      "Element =  file9\n",
      "Element =  file25\n",
      "Element =  file30\n",
      "Element =  file19\n",
      "Element =  file26\n",
      "Element =  file31\n",
      "Element =  file27\n",
      "Element =  file28\n",
      "Element =  file35\n",
      "Element =  file40\n",
      "Element =  file29\n",
      "Element =  file36\n",
      "Element =  file50\n",
      "Element =  file37\n",
      "Element =  file32\n",
      "Element =  file51\n",
      "Element =  file41\n",
      "Element =  file42\n",
      "Element =  file52\n",
      "Element =  file43\n",
      "Element =  file33\n",
      "Element =  file53\n",
      "Element =  file44\n",
      "Element =  file45\n",
      "Element =  file54\n",
      "Element =  file46\n",
      "Element =  file38\n",
      "Element =  file55\n",
      "Element =  file39\n",
      "Element =  file34\n",
      "Element =  file56\n",
      "Element =  file60\n",
      "Element =  file47\n",
      "Element =  file61\n",
      "Element =  file57\n",
      "Element =  file65\n",
      "Element =  file70\n",
      "Element =  file48\n",
      "Element =  file58\n",
      "Element =  file71\n",
      "Element =  file59\n",
      "Element =  file72\n",
      "Element =  file62\n",
      "Element =  file75\n",
      "Element =  file66\n",
      "Element =  file67\n",
      "Element =  file76\n",
      "Element =  file49\n",
      "Element =  file73\n",
      "Element =  file77\n",
      "Element =  file63\n",
      "Element =  file68\n",
      "Element =  file78\n",
      "Element =  file79\n",
      "Element =  file80\n",
      "Element =  file64\n",
      "Element =  file85\n",
      "Element =  file86\n",
      "Element =  file69\n",
      "Element =  file90\n",
      "Element =  file87\n",
      "Element =  file88\n",
      "Element =  file74\n",
      "Element =  file89\n",
      "Element =  file91\n",
      "Element =  file95\n",
      "Element =  file92\n",
      "Element =  file96\n",
      "Element =  file93\n",
      "Element =  file97\n",
      "Element =  file94\n",
      "Element =  file98\n",
      "Element =  file99\n",
      "Element =  file81\n",
      "Element =  file82\n",
      "Element =  file83\n",
      "Element =  file84\n",
      "['file0Done...', 'file1Done...', 'file2Done...', 'file3Done...', 'file4Done...', 'file5Done...', 'file6Done...', 'file7Done...', 'file8Done...', 'file9Done...', 'file10Done...', 'file11Done...', 'file12Done...', 'file13Done...', 'file14Done...', 'file15Done...', 'file16Done...', 'file17Done...', 'file18Done...', 'file19Done...', 'file20Done...', 'file21Done...', 'file22Done...', 'file23Done...', 'file24Done...', 'file25Done...', 'file26Done...', 'file27Done...', 'file28Done...', 'file29Done...', 'file30Done...', 'file31Done...', 'file32Done...', 'file33Done...', 'file34Done...', 'file35Done...', 'file36Done...', 'file37Done...', 'file38Done...', 'file39Done...', 'file40Done...', 'file41Done...', 'file42Done...', 'file43Done...', 'file44Done...', 'file45Done...', 'file46Done...', 'file47Done...', 'file48Done...', 'file49Done...', 'file50Done...', 'file51Done...', 'file52Done...', 'file53Done...', 'file54Done...', 'file55Done...', 'file56Done...', 'file57Done...', 'file58Done...', 'file59Done...', 'file60Done...', 'file61Done...', 'file62Done...', 'file63Done...', 'file64Done...', 'file65Done...', 'file66Done...', 'file67Done...', 'file68Done...', 'file69Done...', 'file70Done...', 'file71Done...', 'file72Done...', 'file73Done...', 'file74Done...', 'file75Done...', 'file76Done...', 'file77Done...', 'file78Done...', 'file79Done...', 'file80Done...', 'file81Done...', 'file82Done...', 'file83Done...', 'file84Done...', 'file85Done...', 'file86Done...', 'file87Done...', 'file88Done...', 'file89Done...', 'file90Done...', 'file91Done...', 'file92Done...', 'file93Done...', 'file94Done...', 'file95Done...', 'file96Done...', 'file97Done...', 'file98Done...', 'file99Done...']\n"
     ]
    }
   ],
   "source": [
    "from multiprocessing import Pool\n",
    "\n",
    "def fun(elememt):\n",
    "    print(\"Element = \", elememt)\n",
    "    return elememt+\"Done...\"\n",
    "\n",
    "if __name__ == \"__main__\":\n",
    "    pool = Pool(5)\n",
    "    list1 = list(map(lambda x: \"file\"+str(x), range(100)))\n",
    "    out = pool.map(fun, list1)\n",
    "    print(out)"
   ]
  },
  {
   "cell_type": "code",
   "execution_count": 53,
   "metadata": {},
   "outputs": [
    {
     "ename": "TypeError",
     "evalue": "getoutput() missing 1 required positional argument: 'cmd'",
     "output_type": "error",
     "traceback": [
      "\u001b[0;31m---------------------------------------------------------------------------\u001b[0m",
      "\u001b[0;31mFileNotFoundError\u001b[0m                         Traceback (most recent call last)",
      "\u001b[0;32m<ipython-input-53-fbb15974bf44>\u001b[0m in \u001b[0;36m<module>\u001b[0;34m\u001b[0m\n\u001b[1;32m      3\u001b[0m \u001b[0;32mtry\u001b[0m\u001b[0;34m:\u001b[0m\u001b[0;34m\u001b[0m\u001b[0;34m\u001b[0m\u001b[0m\n\u001b[0;32m----> 4\u001b[0;31m     \u001b[0msubprocess\u001b[0m\u001b[0;34m.\u001b[0m\u001b[0mcall\u001b[0m\u001b[0;34m(\u001b[0m\u001b[0;34m\"cd dfda\"\u001b[0m\u001b[0;34m)\u001b[0m\u001b[0;34m\u001b[0m\u001b[0;34m\u001b[0m\u001b[0m\n\u001b[0m\u001b[1;32m      5\u001b[0m \u001b[0;32mexcept\u001b[0m\u001b[0;34m:\u001b[0m\u001b[0;34m\u001b[0m\u001b[0;34m\u001b[0m\u001b[0m\n",
      "\u001b[0;32m/usr/local/Cellar/python/3.7.2_1/Frameworks/Python.framework/Versions/3.7/lib/python3.7/subprocess.py\u001b[0m in \u001b[0;36mcall\u001b[0;34m(timeout, *popenargs, **kwargs)\u001b[0m\n\u001b[1;32m    322\u001b[0m     \"\"\"\n\u001b[0;32m--> 323\u001b[0;31m     \u001b[0;32mwith\u001b[0m \u001b[0mPopen\u001b[0m\u001b[0;34m(\u001b[0m\u001b[0;34m*\u001b[0m\u001b[0mpopenargs\u001b[0m\u001b[0;34m,\u001b[0m \u001b[0;34m**\u001b[0m\u001b[0mkwargs\u001b[0m\u001b[0;34m)\u001b[0m \u001b[0;32mas\u001b[0m \u001b[0mp\u001b[0m\u001b[0;34m:\u001b[0m\u001b[0;34m\u001b[0m\u001b[0;34m\u001b[0m\u001b[0m\n\u001b[0m\u001b[1;32m    324\u001b[0m         \u001b[0;32mtry\u001b[0m\u001b[0;34m:\u001b[0m\u001b[0;34m\u001b[0m\u001b[0;34m\u001b[0m\u001b[0m\n",
      "\u001b[0;32m/usr/local/Cellar/python/3.7.2_1/Frameworks/Python.framework/Versions/3.7/lib/python3.7/subprocess.py\u001b[0m in \u001b[0;36m__init__\u001b[0;34m(self, args, bufsize, executable, stdin, stdout, stderr, preexec_fn, close_fds, shell, cwd, env, universal_newlines, startupinfo, creationflags, restore_signals, start_new_session, pass_fds, encoding, errors, text)\u001b[0m\n\u001b[1;32m    774\u001b[0m                                 \u001b[0merrread\u001b[0m\u001b[0;34m,\u001b[0m \u001b[0merrwrite\u001b[0m\u001b[0;34m,\u001b[0m\u001b[0;34m\u001b[0m\u001b[0;34m\u001b[0m\u001b[0m\n\u001b[0;32m--> 775\u001b[0;31m                                 restore_signals, start_new_session)\n\u001b[0m\u001b[1;32m    776\u001b[0m         \u001b[0;32mexcept\u001b[0m\u001b[0;34m:\u001b[0m\u001b[0;34m\u001b[0m\u001b[0;34m\u001b[0m\u001b[0m\n",
      "\u001b[0;32m/usr/local/Cellar/python/3.7.2_1/Frameworks/Python.framework/Versions/3.7/lib/python3.7/subprocess.py\u001b[0m in \u001b[0;36m_execute_child\u001b[0;34m(self, args, executable, preexec_fn, close_fds, pass_fds, cwd, env, startupinfo, creationflags, shell, p2cread, p2cwrite, c2pread, c2pwrite, errread, errwrite, restore_signals, start_new_session)\u001b[0m\n\u001b[1;32m   1521\u001b[0m                             \u001b[0merr_msg\u001b[0m \u001b[0;34m+=\u001b[0m \u001b[0;34m': '\u001b[0m \u001b[0;34m+\u001b[0m \u001b[0mrepr\u001b[0m\u001b[0;34m(\u001b[0m\u001b[0merr_filename\u001b[0m\u001b[0;34m)\u001b[0m\u001b[0;34m\u001b[0m\u001b[0;34m\u001b[0m\u001b[0m\n\u001b[0;32m-> 1522\u001b[0;31m                     \u001b[0;32mraise\u001b[0m \u001b[0mchild_exception_type\u001b[0m\u001b[0;34m(\u001b[0m\u001b[0merrno_num\u001b[0m\u001b[0;34m,\u001b[0m \u001b[0merr_msg\u001b[0m\u001b[0;34m,\u001b[0m \u001b[0merr_filename\u001b[0m\u001b[0;34m)\u001b[0m\u001b[0;34m\u001b[0m\u001b[0;34m\u001b[0m\u001b[0m\n\u001b[0m\u001b[1;32m   1523\u001b[0m                 \u001b[0;32mraise\u001b[0m \u001b[0mchild_exception_type\u001b[0m\u001b[0;34m(\u001b[0m\u001b[0merr_msg\u001b[0m\u001b[0;34m)\u001b[0m\u001b[0;34m\u001b[0m\u001b[0;34m\u001b[0m\u001b[0m\n",
      "\u001b[0;31mFileNotFoundError\u001b[0m: [Errno 2] No such file or directory: 'cd dfda': 'cd dfda'",
      "\nDuring handling of the above exception, another exception occurred:\n",
      "\u001b[0;31mTypeError\u001b[0m                                 Traceback (most recent call last)",
      "\u001b[0;32m<ipython-input-53-fbb15974bf44>\u001b[0m in \u001b[0;36m<module>\u001b[0;34m\u001b[0m\n\u001b[1;32m      4\u001b[0m     \u001b[0msubprocess\u001b[0m\u001b[0;34m.\u001b[0m\u001b[0mcall\u001b[0m\u001b[0;34m(\u001b[0m\u001b[0;34m\"cd dfda\"\u001b[0m\u001b[0;34m)\u001b[0m\u001b[0;34m\u001b[0m\u001b[0;34m\u001b[0m\u001b[0m\n\u001b[1;32m      5\u001b[0m \u001b[0;32mexcept\u001b[0m\u001b[0;34m:\u001b[0m\u001b[0;34m\u001b[0m\u001b[0;34m\u001b[0m\u001b[0m\n\u001b[0;32m----> 6\u001b[0;31m     \u001b[0mprint\u001b[0m\u001b[0;34m(\u001b[0m\u001b[0;34m\"error = \"\u001b[0m\u001b[0;34m,\u001b[0m \u001b[0msubprocess\u001b[0m\u001b[0;34m.\u001b[0m\u001b[0mgetoutput\u001b[0m\u001b[0;34m(\u001b[0m\u001b[0;34m)\u001b[0m\u001b[0;34m)\u001b[0m\u001b[0;34m\u001b[0m\u001b[0;34m\u001b[0m\u001b[0m\n\u001b[0m\u001b[1;32m      7\u001b[0m \u001b[0;34m\u001b[0m\u001b[0m\n",
      "\u001b[0;31mTypeError\u001b[0m: getoutput() missing 1 required positional argument: 'cmd'"
     ]
    }
   ],
   "source": [
    "import subprocess\n",
    "ret = 0\n",
    "try:\n",
    "    subprocess.call(\"cd dfda\")\n",
    "except:\n",
    "    print(\"error = \", subprocess.getoutput())\n",
    "    "
   ]
  },
  {
   "cell_type": "code",
   "execution_count": 56,
   "metadata": {},
   "outputs": [
    {
     "name": "stdout",
     "output_type": "stream",
     "text": [
      "process starting\n",
      "['file0', 'file1', 'file2', 'file3', 'file4', 'file5', 'file6', 'file7', 'file8', 'file9', 'file10', 'file11', 'file12', 'file13', 'file14', 'file15', 'file16', 'file17', 'file18', 'file19', 'file20', 'file21', 'file22', 'file23', 'file24', 'file25', 'file26', 'file27', 'file28', 'file29', 'file30', 'file31', 'file32', 'file33', 'file34', 'file35', 'file36', 'file37', 'file38', 'file39', 'file40', 'file41', 'file42', 'file43', 'file44', 'file45', 'file46', 'file47', 'file48', 'file49', 'file50', 'file51', 'file52', 'file53', 'file54', 'file55', 'file56', 'file57', 'file58', 'file59', 'file60', 'file61', 'file62', 'file63', 'file64', 'file65', 'file66', 'file67', 'file68', 'file69', 'file70', 'file71', 'file72', 'file73', 'file74', 'file75', 'file76', 'file77', 'file78', 'file79', 'file80', 'file81', 'file82', 'file83', 'file84', 'file85', 'file86', 'file87', 'file88', 'file89', 'file90', 'file91', 'file92', 'file93', 'file94', 'file95', 'file96', 'file97', 'file98', 'file99']\n",
      "element: file0\n",
      "element: file15\n",
      "element: file10\n",
      "element: file5\n",
      "element: file20\n",
      "element: file1\n",
      "element: file16\n",
      "element: file21\n",
      "element: file2\n",
      "element: file11\n",
      "element: file6\n",
      "element: file17\n",
      "element: file22\n",
      "element: file12\n",
      "element: file3\n",
      "element: file7\n",
      "element: file23\n",
      "element: file18\n",
      "element: file4\n",
      "element: file13\n",
      "element: file19\n",
      "element: file24\n",
      "element: file14\n",
      "element: file25\n",
      "element: file8\n",
      "element: file30\n",
      "element: file35\n",
      "element: file31\n",
      "element: file32\n",
      "element: file36\n",
      "element: file33\n",
      "element: file37\n",
      "element: file38\n",
      "element: file34\n",
      "element: file39\n",
      "element: file26\n",
      "element: file40\n",
      "element: file9\n",
      "element: file45\n",
      "element: file50\n",
      "element: file27\n",
      "element: file46\n",
      "element: file51\n",
      "element: file52\n",
      "element: file47\n",
      "element: file48\n",
      "element: file28\n",
      "element: file53\n",
      "element: file49\n",
      "element: file29\n",
      "element: file54\n",
      "element: file60\n",
      "element: file65\n",
      "element: file70\n",
      "element: file66\n",
      "element: file61\n",
      "element: file71\n",
      "element: file62\n",
      "element: file67\n",
      "element: file63\n",
      "element: file72\n",
      "element: file68\n",
      "element: file73\n",
      "element: file64\n",
      "element: file74\n",
      "element: file69\n",
      "element: file75\n",
      "element: file85\n",
      "element: file76\n",
      "element: file80\n",
      "element: file77\n",
      "element: file81\n",
      "element: file78\n",
      "element: file86\n",
      "element: file82\n",
      "element: file87\n",
      "element: file79\n",
      "element: file83\n",
      "element: file88\n",
      "element: file90\n",
      "element: file84\n",
      "element: file89\n",
      "element: file91\n",
      "element: file95\n",
      "element: file92\n",
      "element: file96\n",
      "element: file93\n",
      "element: file97\n",
      "element: file55\n",
      "element: file94\n",
      "element: file98\n",
      "element: file99\n",
      "element: file56\n",
      "element: file41\n",
      "element: file57\n",
      "element: file42\n",
      "element: file58\n",
      "element: file59\n",
      "element: file43\n",
      "element: file44\n"
     ]
    }
   ],
   "source": [
    "\n",
    "def fun(element):\n",
    "    print(\"element:\",element)\n",
    "    return element+'done'\n",
    "    \n",
    "if __name__=='__main__':\n",
    "    pool = Pool(5)\n",
    "    list1 = list(map(lambda x:\"file\"+str(x), range(100)))\n",
    "    print('process starting')\n",
    "    print(list1)\n",
    "    time.sleep(2)\n",
    "\n",
    "\n",
    "    out = pool.map(fun, list1)"
   ]
  },
  {
   "cell_type": "code",
   "execution_count": null,
   "metadata": {},
   "outputs": [],
   "source": []
  }
 ],
 "metadata": {
  "kernelspec": {
   "display_name": "Python 3",
   "language": "python",
   "name": "python3"
  },
  "language_info": {
   "codemirror_mode": {
    "name": "ipython",
    "version": 3
   },
   "file_extension": ".py",
   "mimetype": "text/x-python",
   "name": "python",
   "nbconvert_exporter": "python",
   "pygments_lexer": "ipython3",
   "version": "3.5.2"
  }
 },
 "nbformat": 4,
 "nbformat_minor": 2
}
