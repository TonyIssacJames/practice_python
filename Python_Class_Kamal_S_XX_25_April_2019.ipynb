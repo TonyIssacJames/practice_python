{
 "cells": [
  {
   "cell_type": "markdown",
   "metadata": {},
   "source": [
    "## Packages "
   ]
  },
  {
   "cell_type": "markdown",
   "metadata": {},
   "source": [
    "#### directory structure\n",
    "\n",
    "- --> automobile\n",
    "-                --> __init__.py #(has to be inside automobile, this tell interpretor that it is a module)\n",
    "-                --> bikes\n",
    "-                        --> __init__.py\n",
    "-                        --> bikes.py\n",
    "-                --> cars\n",
    "-                        --> __init__.py\n",
    "-                        --> cars.py"
   ]
  },
  {
   "cell_type": "code",
   "execution_count": 4,
   "metadata": {},
   "outputs": [
    {
     "name": "stdout",
     "output_type": "stream",
     "text": [
      "...importing..  automobile.bikes.bikes  module\n",
      "Initing bike class is done\n"
     ]
    }
   ],
   "source": [
    "from automobile.cars.cars import * #--> Importing everthing from cars module\n",
    "from automobile.bikes  import bikes  #--> Importing bikes module from bikes sub-package"
   ]
  },
  {
   "cell_type": "code",
   "execution_count": 5,
   "metadata": {},
   "outputs": [
    {
     "name": "stdout",
     "output_type": "stream",
     "text": [
      "Initing car class is done\n"
     ]
    }
   ],
   "source": [
    "mycar = car(\"Benz\")"
   ]
  },
  {
   "cell_type": "code",
   "execution_count": 6,
   "metadata": {},
   "outputs": [
    {
     "name": "stdout",
     "output_type": "stream",
     "text": [
      "BMW\n"
     ]
    }
   ],
   "source": [
    "cars_obj1.print_name()"
   ]
  },
  {
   "cell_type": "code",
   "execution_count": 7,
   "metadata": {},
   "outputs": [
    {
     "name": "stdout",
     "output_type": "stream",
     "text": [
      "__main__\n"
     ]
    }
   ],
   "source": [
    "print(__name__)"
   ]
  },
  {
   "cell_type": "markdown",
   "metadata": {},
   "source": [
    "## PC - Lint\n",
    "\n",
    "- static analyser\n",
    "- for c/c++"
   ]
  },
  {
   "cell_type": "markdown",
   "metadata": {},
   "source": [
    "## pylint is similiar tool for python\n",
    "-   gives score between 0 to 10 ,\n",
    "    - but gives -ve scores for really bad code\n",
    "    - for each run it shows previous score so you know how you improve"
   ]
  },
  {
   "cell_type": "code",
   "execution_count": null,
   "metadata": {},
   "outputs": [],
   "source": []
  }
 ],
 "metadata": {
  "kernelspec": {
   "display_name": "Python 3",
   "language": "python",
   "name": "python3"
  },
  "language_info": {
   "codemirror_mode": {
    "name": "ipython",
    "version": 3
   },
   "file_extension": ".py",
   "mimetype": "text/x-python",
   "name": "python",
   "nbconvert_exporter": "python",
   "pygments_lexer": "ipython3",
   "version": "3.5.2"
  }
 },
 "nbformat": 4,
 "nbformat_minor": 2
}
