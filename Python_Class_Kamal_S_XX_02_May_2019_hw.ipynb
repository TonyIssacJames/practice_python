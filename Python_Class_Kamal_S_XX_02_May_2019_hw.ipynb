{
 "cells": [
  {
   "cell_type": "code",
   "execution_count": 49,
   "metadata": {},
   "outputs": [],
   "source": [
    "from collections import namedtuple\n",
    "import time\n",
    "import os"
   ]
  },
  {
   "cell_type": "code",
   "execution_count": 4,
   "metadata": {},
   "outputs": [],
   "source": [
    "SuperHero = namedtuple('SuperHero',[\n",
    "                         'name',\n",
    "                         'real_name',\n",
    "                         'occupation',\n",
    "                         'married',\n",
    "])"
   ]
  },
  {
   "cell_type": "code",
   "execution_count": 10,
   "metadata": {},
   "outputs": [],
   "source": [
    "superheores = (\n",
    "    SuperHero(name= \"Batman\", real_name= \"Bruce Wayne\",\n",
    "                  occupation= \"Scientist\", married= False),\n",
    "    SuperHero(name= \"SpiderMan\", real_name= \"Peter Parker\",\n",
    "                 occupation= \"Journalist\", married= False),\n",
    "    SuperHero(name= \"IronMan\", real_name= \"Tony Stark\",\n",
    "                 occupation= \"Scientist\", married= False),\n",
    "    SuperHero(name= \"SuperMan\", real_name= \"Klark Kent\",\n",
    "                 occupation= \"Journalist\", married= False),\n",
    "    SuperHero(name= \"James Bond\", real_name= \"Roger Moore\",\n",
    "                 occupation= \"007\", married= True),\n",
    "    SuperHero(name= \"Heisenburg\", real_name= \"Walter White\",\n",
    "                 occupation= \"Chemistry Teacher\", married= True),\n",
    "    SuperHero(name= \"Indiana Jones\", real_name= \"Henry Jones Jr\",\n",
    "                 occupation= \"History Teacher\", married= True),\n",
    "              )"
   ]
  },
  {
   "cell_type": "code",
   "execution_count": 11,
   "metadata": {},
   "outputs": [
    {
     "name": "stdout",
     "output_type": "stream",
     "text": [
      "(SuperHero(name='Batman', real_name='Bruce Wayne', occupation='Scientist', married=False), SuperHero(name='SpiderMan', real_name='Peter Parker', occupation='Journalist', married=False), SuperHero(name='IronMan', real_name='Tony Stark', occupation='Scientist', married=False), SuperHero(name='SuperMan', real_name='Klark Kent', occupation='Journalist', married=False), SuperHero(name='James Bond', real_name='Roger Moore', occupation='007', married=True), SuperHero(name='Heisenburg', real_name='Walter White', occupation='Chemistry Teacher', married=True), SuperHero(name='Indiana Jones', real_name='Henry Jones Jr', occupation='History Teacher', married=True))\n"
     ]
    }
   ],
   "source": [
    "print(superheores)"
   ]
  },
  {
   "cell_type": "code",
   "execution_count": 50,
   "metadata": {},
   "outputs": [],
   "source": [
    "def searching(SHero):\n",
    "    print(\"Seraching record of \",SHero.name, \".......\")\n",
    "    print(\"pid: \", os.getpid(), \"ppid: \", os.getppid())\n",
    "    time.sleep(2)\n",
    "    identity = {'hero': SHero.name, 'name': SHero.real_name, 'occupation': SHero.occupation}\n",
    "    print(\"Identfied \", SHero.name, \" !!\")\n",
    "    return identity\n",
    "    "
   ]
  },
  {
   "cell_type": "code",
   "execution_count": 55,
   "metadata": {},
   "outputs": [
    {
     "name": "stdout",
     "output_type": "stream",
     "text": [
      "Seraching record of  Batman .......\n",
      "pid:  32706 ppid:  2078\n",
      "Identfied  Batman  !!\n",
      "Seraching record of  SpiderMan .......\n",
      "pid:  32706 ppid:  2078\n",
      "Identfied  SpiderMan  !!\n",
      "Seraching record of  IronMan .......\n",
      "pid:  32706 ppid:  2078\n",
      "Identfied  IronMan  !!\n",
      "Seraching record of  SuperMan .......\n",
      "pid:  32706 ppid:  2078\n",
      "Identfied  SuperMan  !!\n",
      "Seraching record of  James Bond .......\n",
      "pid:  32706 ppid:  2078\n",
      "Identfied  James Bond  !!\n",
      "Seraching record of  Heisenburg .......\n",
      "pid:  32706 ppid:  2078\n",
      "Identfied  Heisenburg  !!\n",
      "Seraching record of  Indiana Jones .......\n",
      "pid:  32706 ppid:  2078\n",
      "Identfied  Indiana Jones  !!\n",
      "\n",
      " total time taken for complete the search:  14.021177053451538 \n",
      "\n",
      "\n",
      "({'occupation': 'Scientist', 'name': 'Bruce Wayne', 'hero': 'Batman'}, {'occupation': 'Journalist', 'name': 'Peter Parker', 'hero': 'SpiderMan'}, {'occupation': 'Scientist', 'name': 'Tony Stark', 'hero': 'IronMan'}, {'occupation': 'Journalist', 'name': 'Klark Kent', 'hero': 'SuperMan'}, {'occupation': '007', 'name': 'Roger Moore', 'hero': 'James Bond'}, {'occupation': 'Chemistry Teacher', 'name': 'Walter White', 'hero': 'Heisenburg'}, {'occupation': 'History Teacher', 'name': 'Henry Jones Jr', 'hero': 'Indiana Jones'})\n"
     ]
    }
   ],
   "source": [
    "#Joker is Seraching for the result, but it is very slow\n",
    "\n",
    "start_time = time.time()\n",
    "\n",
    "identities = tuple(map(searching, superheores))\n",
    "\n",
    "end_time = time.time()\n",
    "\n",
    "print(\"\\n total time taken for complete the search: \", end_time - start_time, \"\\n\\n\")\n",
    "print(identities)"
   ]
  },
  {
   "cell_type": "code",
   "execution_count": 38,
   "metadata": {},
   "outputs": [],
   "source": [
    "from multiprocessing import Pool, Queue, Pipe\n",
    "\n"
   ]
  },
  {
   "cell_type": "code",
   "execution_count": 54,
   "metadata": {},
   "outputs": [
    {
     "name": "stdout",
     "output_type": "stream",
     "text": [
      "Seraching record of  Batman .......\n",
      "Seraching record of  SpiderMan .......\n",
      "pid:  1526 ppid:  32706\n",
      "pid:  1525 ppid:  32706\n",
      "Identfied  SpiderMan  !!\n",
      "Seraching record of  IronMan .......\n",
      "Identfied  Batman  !!\n",
      "pid:  1526 ppid:  32706\n",
      "Seraching record of  SuperMan .......\n",
      "pid:  1525 ppid:  32706\n",
      "Identfied  IronMan  !!\n",
      "Identfied  SuperMan  !!\n",
      "Seraching record of  James Bond .......\n",
      "pid:  1564 ppid:  32706\n",
      "Seraching record of  Heisenburg .......\n",
      "pid:  1565 ppid:  32706\n",
      "Identfied  James Bond  !!\n",
      "Seraching record of  Indiana Jones .......\n",
      "Identfied  Heisenburg  !!\n",
      "pid:  1564 ppid:  32706\n",
      "Identfied  Indiana Jones  !!\n",
      "\n",
      " total time taken for complete the search:  8.157736778259277 \n",
      "\n",
      "\n",
      "({'occupation': 'Scientist', 'name': 'Bruce Wayne', 'hero': 'Batman'}, {'occupation': 'Journalist', 'name': 'Peter Parker', 'hero': 'SpiderMan'}, {'occupation': 'Scientist', 'name': 'Tony Stark', 'hero': 'IronMan'}, {'occupation': 'Journalist', 'name': 'Klark Kent', 'hero': 'SuperMan'}, {'occupation': '007', 'name': 'Roger Moore', 'hero': 'James Bond'}, {'occupation': 'Chemistry Teacher', 'name': 'Walter White', 'hero': 'Heisenburg'}, {'occupation': 'History Teacher', 'name': 'Henry Jones Jr', 'hero': 'Indiana Jones'})\n"
     ]
    }
   ],
   "source": [
    "#Now Penguin is helping Joker to search fast\n",
    "\n",
    "start_time = time.time()\n",
    "\n",
    "pool = Pool(processes= 2, maxtasksperchild= 2)\n",
    "\n",
    "\n",
    "\n",
    "identities = tuple(pool.map(searching, superheores))\n",
    "             #convert everything into one tuple, defualt is list\n",
    "             #not really needed\n",
    "\n",
    "end_time = time.time()\n",
    "\n",
    "print(\"\\n total time taken for complete the search: \", end_time - start_time, \"\\n\\n\")\n",
    "print(identities)"
   ]
  },
  {
   "cell_type": "code",
   "execution_count": 47,
   "metadata": {},
   "outputs": [
    {
     "data": {
      "text/plain": [
       "['Process',\n",
       " '__class__',\n",
       " '__delattr__',\n",
       " '__dict__',\n",
       " '__dir__',\n",
       " '__doc__',\n",
       " '__enter__',\n",
       " '__eq__',\n",
       " '__exit__',\n",
       " '__format__',\n",
       " '__ge__',\n",
       " '__getattribute__',\n",
       " '__gt__',\n",
       " '__hash__',\n",
       " '__init__',\n",
       " '__le__',\n",
       " '__lt__',\n",
       " '__module__',\n",
       " '__ne__',\n",
       " '__new__',\n",
       " '__reduce__',\n",
       " '__reduce_ex__',\n",
       " '__repr__',\n",
       " '__setattr__',\n",
       " '__sizeof__',\n",
       " '__str__',\n",
       " '__subclasshook__',\n",
       " '__weakref__',\n",
       " '_cache',\n",
       " '_ctx',\n",
       " '_get_tasks',\n",
       " '_handle_results',\n",
       " '_handle_tasks',\n",
       " '_handle_workers',\n",
       " '_help_stuff_finish',\n",
       " '_initargs',\n",
       " '_initializer',\n",
       " '_inqueue',\n",
       " '_join_exited_workers',\n",
       " '_maintain_pool',\n",
       " '_map_async',\n",
       " '_maxtasksperchild',\n",
       " '_outqueue',\n",
       " '_pool',\n",
       " '_processes',\n",
       " '_quick_get',\n",
       " '_quick_put',\n",
       " '_repopulate_pool',\n",
       " '_result_handler',\n",
       " '_setup_queues',\n",
       " '_state',\n",
       " '_task_handler',\n",
       " '_taskqueue',\n",
       " '_terminate',\n",
       " '_terminate_pool',\n",
       " '_worker_handler',\n",
       " '_wrap_exception',\n",
       " 'apply',\n",
       " 'apply_async',\n",
       " 'close',\n",
       " 'imap',\n",
       " 'imap_unordered',\n",
       " 'join',\n",
       " 'map',\n",
       " 'map_async',\n",
       " 'starmap',\n",
       " 'starmap_async',\n",
       " 'terminate']"
      ]
     },
     "execution_count": 47,
     "metadata": {},
     "output_type": "execute_result"
    }
   ],
   "source": [
    "dir(pool)"
   ]
  },
  {
   "cell_type": "code",
   "execution_count": null,
   "metadata": {},
   "outputs": [],
   "source": []
  }
 ],
 "metadata": {
  "kernelspec": {
   "display_name": "Python 3",
   "language": "python",
   "name": "python3"
  },
  "language_info": {
   "codemirror_mode": {
    "name": "ipython",
    "version": 3
   },
   "file_extension": ".py",
   "mimetype": "text/x-python",
   "name": "python",
   "nbconvert_exporter": "python",
   "pygments_lexer": "ipython3",
   "version": "3.5.2"
  }
 },
 "nbformat": 4,
 "nbformat_minor": 2
}
