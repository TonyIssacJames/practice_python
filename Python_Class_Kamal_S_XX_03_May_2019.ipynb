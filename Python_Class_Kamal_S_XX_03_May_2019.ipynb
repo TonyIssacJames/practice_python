{
 "cells": [
  {
   "cell_type": "markdown",
   "metadata": {},
   "source": [
    "# Cython"
   ]
  },
  {
   "cell_type": "markdown",
   "metadata": {},
   "source": [
    "- if you are writing entire code  in python everything will be slow"
   ]
  },
  {
   "cell_type": "markdown",
   "metadata": {},
   "source": [
    "#### 1st method\n",
    "- numpy.py ==> .c  ==> library for python programming\n",
    "\n",
    "-          Cython\n",
    "- Advantage\n",
    "    - we are able to write the code in Python\n",
    "    - and we are also get performance\n",
    "- why we have to convert it to .c\n",
    "    - becuase we are compiling using gcc + cython\n",
    "    - so lot of optimisation will happen\n",
    "    \n",
    "- assume we have two programs\n",
    "    - doing the same prog.py and prog.c\n",
    "    - which one you will prefer\n",
    "    - Kamal prefers .c only\n",
    "    - because there won't be any type errors\n",
    "    - to run .py we need an OS\n",
    "    - also on low memory devices we cannot run .py\n",
    "    - we know how much memory it is going to take\n",
    "    - also performance will be better for .c"
   ]
  },
  {
   "cell_type": "markdown",
   "metadata": {},
   "source": [
    "#### 2nd method\n",
    "- .c\n",
    "- .cpp     ==> library for python programming\n",
    "-\n",
    "-         Cython\n",
    "- Remarks\n",
    "    - difficult to write\n",
    "    - mostly avoided"
   ]
  },
  {
   "cell_type": "markdown",
   "metadata": {},
   "source": [
    "### If you have tow files .c and .py, chose .py"
   ]
  },
  {
   "cell_type": "markdown",
   "metadata": {},
   "source": [
    "## Why Python is slow\n",
    "\n",
    "- It is not a compiled language (no compilation)\n",
    "- Everything is an object\n",
    "- Function call\n",
    "- It imposes restrictions on multi-thread"
   ]
  },
  {
   "cell_type": "markdown",
   "metadata": {},
   "source": [
    "- library is a colliection of funtion (just like a book library)"
   ]
  },
  {
   "cell_type": "code",
   "execution_count": null,
   "metadata": {},
   "outputs": [],
   "source": []
  }
 ],
 "metadata": {
  "kernelspec": {
   "display_name": "Python 3",
   "language": "python",
   "name": "python3"
  },
  "language_info": {
   "codemirror_mode": {
    "name": "ipython",
    "version": 3
   },
   "file_extension": ".py",
   "mimetype": "text/x-python",
   "name": "python",
   "nbconvert_exporter": "python",
   "pygments_lexer": "ipython3",
   "version": "3.5.2"
  }
 },
 "nbformat": 4,
 "nbformat_minor": 2
}
